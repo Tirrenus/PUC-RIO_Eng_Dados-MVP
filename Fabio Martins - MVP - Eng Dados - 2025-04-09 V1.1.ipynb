{
 "cells": [
  {
   "cell_type": "markdown",
   "metadata": {
    "application/vnd.databricks.v1+cell": {
     "cellMetadata": {},
     "inputWidgets": {},
     "nuid": "aac23b07-a6a9-4391-903d-b81399da0964",
     "showTitle": false,
     "tableResultSettingsMap": {},
     "title": ""
    }
   },
   "source": [
    "# MVP - PUC_RIO - Engenharia de Dados\n",
    "- **Curso Ciência de Dados e Analytics - Abril/2025**\n",
    "\n",
    "  - Aluno:      Fabio Nunes Martins. \n",
    "  - Professor:  Victor Almeida\n",
    "  - Professor:  Jose Boara"
   ]
  },
  {
   "cell_type": "markdown",
   "metadata": {
    "application/vnd.databricks.v1+cell": {
     "cellMetadata": {},
     "inputWidgets": {},
     "nuid": "073c0d8a-f0e3-4ba2-9401-70b5281208d3",
     "showTitle": false,
     "tableResultSettingsMap": {},
     "title": ""
    }
   },
   "source": [
    "#1 - Objetivo\n",
    "\n"
   ]
  },
  {
   "cell_type": "markdown",
   "metadata": {
    "application/vnd.databricks.v1+cell": {
     "cellMetadata": {},
     "inputWidgets": {},
     "nuid": "2002f4c1-8f89-437b-9fd8-51ce1f128d20",
     "showTitle": false,
     "tableResultSettingsMap": {},
     "title": ""
    },
    "jupyter": {
     "outputs_hidden": true
    }
   },
   "source": [
    "Este MVP visa disponibilizar uma análise de dados para apoiar as decisões gerencias sobre a performance de uma equipe de suporte espalhada em diversos escritórios em países diferentes. Essas equipes tratam Tickets de Incidentes com Prioridades (Low, Moderate, High e Critical ).\n",
    "Para cada tipo de Prioridade existe um SLA ( Service Level Agreement), que limita o tempo máximo para a resolução de cada ticket de Incidente criado.\n",
    "\n",
    "Este estudo ajudara na renovação do contrato e readequação da equipe.\n",
    "\n",
    "Baseado nisso, esse MVP tem como objetivo responder as seguintes perguntas:\n",
    " \n",
    " **P1** – Qual é o número de Tickets/países (locations), em que os Incidentes NÃO foram atendidos dentro do prazo estimado por sua Prioridade?\n",
    "\n",
    " **P2** – Qual é o número de Tickets/países (locations), em que os Incidentes FORAM atendidos dentro do prazo estimado por sua Prioridade?\n",
    "\n",
    " **P3** – Qual é o número de Tickets/mês, em que os Incidentes NÃO foram atendidos dentro do prazo estimado por sua Prioridade?\n",
    "\n",
    " **P4** – Qual é o número de Tickets/mês, em que os Incidentes FORAM atendidos dentro do prazo estimado por sua Prioridade?\n"
   ]
  },
  {
   "cell_type": "markdown",
   "metadata": {
    "application/vnd.databricks.v1+cell": {
     "cellMetadata": {
      "byteLimit": 2048000,
      "rowLimit": 10000
     },
     "inputWidgets": {},
     "nuid": "3522c6c4-1d52-4ed2-ae9d-4345c45b7ebf",
     "showTitle": false,
     "tableResultSettingsMap": {},
     "title": ""
    }
   },
   "source": [
    "# 2 - Pipeline de Dados e ETL"
   ]
  },
  {
   "cell_type": "markdown",
   "metadata": {
    "application/vnd.databricks.v1+cell": {
     "cellMetadata": {},
     "inputWidgets": {},
     "nuid": "d5601139-92e8-423a-afc3-5fc2d24d139c",
     "showTitle": false,
     "tableResultSettingsMap": {},
     "title": ""
    }
   },
   "source": [
    "## 2.1 - **BRONZE** - Base de Dados - (141712 rows) \n",
    "\n",
    "Origem dos dados: \n",
    "- incident_event_log.csv - Kraggle - https://www.kaggle.com/datasets/shamiulislamshifat/it-incident-log-dataset\n",
    "- incident_location_log.csv - Dado montado manualmente.\n"
   ]
  },
  {
   "cell_type": "markdown",
   "metadata": {
    "application/vnd.databricks.v1+cell": {
     "cellMetadata": {},
     "inputWidgets": {},
     "nuid": "d6b93816-350f-4bb4-816f-d43f26d6ea51",
     "showTitle": false,
     "tableResultSettingsMap": {},
     "title": ""
    }
   },
   "source": [
    "### 2.1.1 - Catalogo - BRONZE"
   ]
  },
  {
   "cell_type": "markdown",
   "metadata": {
    "application/vnd.databricks.v1+cell": {
     "cellMetadata": {},
     "inputWidgets": {},
     "nuid": "5d8755b7-1af6-4d06-b1fb-4de9c80fef40",
     "showTitle": false,
     "tableResultSettingsMap": {},
     "title": ""
    }
   },
   "source": [
    "\n",
    "\n",
    "**incident_event_log.csv** \n",
    "\n",
    "- **number**: \tidentificador de incidente ;\n",
    "- **incident state**:\toito níveis que controlam as transições do processo de gerenciamento de incidentes, desde a abertura até o encerramento do caso;\n",
    "- **active**: \tatributo booleano que mostra se o registro está ativo ou fechado/cancelado;\n",
    "- **reassignment_count**: \tnúmero de vezes que o incidente teve o grupo ou os analistas de suporte alterados;\n",
    "- **reopen_count**: \tnúmero de vezes que a resolução do incidente foi rejeitada pelo autor da chamada;\n",
    "- **sys_mod_count**: \tnúmero de atualizações de incidentes até aquele momento;\n",
    "- **made_sla**: \tatributo booleano que mostra se o incidente excedeu o SLA de destino;\n",
    "- **caller_id**: \tidentificador do usuário afetado;\n",
    "- **opened_by**: \tidentificador do usuário que relatou o incidente;\n",
    "- **opened_at**: \tdata e hora de abertura do usuário do incidente;\n",
    "- **sys_created_by**: \tidentificador do usuário que registrou o incidente;\n",
    "- **sys_created_at**: \tdata e hora de criação do sistema de incidentes;\n",
    "- **sys_updated_by**: \tidentificador do usuário que atualizou o incidente e gerou o registro de log atual;\n",
    "- **sys_updated_at**: \tdata e hora de atualização do sistema de incidentes;\n",
    "- **contact_type**: \tatributo categórico que mostra por qual meio o incidente foi relatado;\n",
    "- **location**: \tidentificador da localização do local afetado;\n",
    "- **category**: \tdescrição de primeiro nível do serviço afetado;\n",
    "- **subcategory**: \tdescrição de segundo nível do serviço afetado (relacionada à descrição de primeiro nível, ou seja, à categoria);\n",
    "- **u_symptom**: \tdescrição da percepção do usuário sobre a disponibilidade do serviço;\n",
    "- **cmdb_ci**: \tIdentificador (item de confirmação) usado para relatar o item afetado (não obrigatório);\n",
    "- **impact**: \tdescrição do impacto causado pelo incidente (valores**: 1 - High; 2 - Medium; 3 - Low);\n",
    "- **urgency**: \tdescrição da urgência informada pelo usuário para a resolução do incidente (valores**: 1 - High; 2 - Medium; 3 - Low);\n",
    "- **priority**: \tcalculado pelo sistema com base no “impact” e na “urgency”;\n",
    "- **assignment_group**: \tidentificador do grupo de suporte responsável pelo incidente;\n",
    "- **assigned_to**: \tidentificador do usuário responsável pelo incidente;\n",
    "- **knowledge**: \tatributo booleano que mostra se um documento da base de conhecimento foi usado para resolver o incidente;\n",
    "- **u_priority_confirmation**:\tatributo booleano que mostra se o campo de prioridade foi verificado duas vezes;\n",
    "- **notify**: \tatributo categórico que mostra se foram geradas notificações para o incidente;\n",
    "- **problem_id**: \tidentificador do problema associado ao incidente;\n",
    "- **rfc**: (\trequest for change) identificador da solicitação de alteração associada ao incidente;\n",
    "- **vendor**: \tidentificador do fornecedor responsável pelo incidente;\n",
    "- **caused_by**: \tidentificador da RFC responsável pelo incidente;\n",
    "- **close_code**: \tidentificador da resolução do incidente;\n",
    "- **resolved_by**: \tidentificador do usuário que resolveu o incidente;\n",
    "- **resolved_at**: \tdata e hora de resolução do usuário do incidente ;\n",
    "- **closed_at**: \tdata e hora de encerramento do usuário do incidente .\n",
    "\n",
    "**incident_location_log.csv**\n",
    "\n",
    "- **Location**: Id da localicação;\n",
    "- **City**:  Cidade;\n",
    "- **Country**: Pais;\n",
    "- **UTC-Time Zone**: Fuso horário da Cidade;\n",
    "\n"
   ]
  },
  {
   "cell_type": "markdown",
   "metadata": {
    "application/vnd.databricks.v1+cell": {
     "cellMetadata": {},
     "inputWidgets": {},
     "nuid": "69f66f8e-1614-458a-aa76-4e0c7529bd2f",
     "showTitle": false,
     "tableResultSettingsMap": {},
     "title": ""
    }
   },
   "source": [
    "###2.1.3 - Carga de Dados BRONZE"
   ]
  },
  {
   "cell_type": "code",
   "execution_count": 0,
   "metadata": {
    "application/vnd.databricks.v1+cell": {
     "cellMetadata": {
      "byteLimit": 2048000,
      "rowLimit": 10000
     },
     "inputWidgets": {},
     "nuid": "46506942-d5f9-43ed-980f-1739c17b372a",
     "showTitle": true,
     "tableResultSettingsMap": {},
     "title": "Import de Bibliotecas e  Dados"
    }
   },
   "outputs": [],
   "source": [
    "\n",
    "# Import\n",
    "from pyspark.sql.functions import *\n",
    "from pyspark.sql.types import *\n",
    "\n",
    "# Read CSV File\n",
    "incident_df = spark.read.csv(\"/FileStore/tables/incident_event_log.csv\", inferSchema=True, header=True)\n",
    "location_df = spark.read.csv(\"/FileStore/tables/incident_location_log_2.csv\", inferSchema=True, header=True)"
   ]
  },
  {
   "cell_type": "code",
   "execution_count": 0,
   "metadata": {
    "application/vnd.databricks.v1+cell": {
     "cellMetadata": {
      "byteLimit": 2048000,
      "rowLimit": 10000
     },
     "inputWidgets": {},
     "nuid": "dad256d9-b368-4cd5-867b-1932263f681d",
     "showTitle": true,
     "tableResultSettingsMap": {},
     "title": "Verificação de Dados - Incident"
    }
   },
   "outputs": [
    {
     "output_type": "stream",
     "name": "stdout",
     "output_type": "stream",
     "text": [
      "+----------+--------------+------+------------------+------------+-------------+--------+-----------+--------------+---------------+--------------+---------------+--------------+---------------+------------+------------+-----------+---------------+-----------+-------+----------+----------+------------+----------------+-----------+---------+-----------------------+-------------+----------+---+------+---------+-----------+---------------+---------------+--------------+\n|    number|incident_state|active|reassignment_count|reopen_count|sys_mod_count|made_sla|  caller_id|     opened_by|      opened_at|sys_created_by| sys_created_at|sys_updated_by| sys_updated_at|contact_type|    location|   category|    subcategory|  u_symptom|cmdb_ci|    impact|   urgency|    priority|assignment_group|assigned_to|knowledge|u_priority_confirmation|       notify|problem_id|rfc|vendor|caused_by|closed_code|    resolved_by|    resolved_at|     closed_at|\n+----------+--------------+------+------------------+------------+-------------+--------+-----------+--------------+---------------+--------------+---------------+--------------+---------------+------------+------------+-----------+---------------+-----------+-------+----------+----------+------------+----------------+-----------+---------+-----------------------+-------------+----------+---+------+---------+-----------+---------------+---------------+--------------+\n|INC0000045|           New|  true|                 0|           0|            0|    true|Caller 2403|  Opened by  8|29/2/2016 01:16|  Created by 6|29/2/2016 01:23| Updated by 21|29/2/2016 01:23|       Phone|Location 143|Category 55|Subcategory 170| Symptom 72|      ?|2 - Medium|2 - Medium|3 - Moderate|        Group 56|          ?|     true|                  false|Do Not Notify|         ?|  ?|     ?|        ?|     code 5|Resolved by 149|29/2/2016 11:29|5/3/2016 12:00|\n|INC0000045|      Resolved|  true|                 0|           0|            2|    true|Caller 2403|  Opened by  8|29/2/2016 01:16|  Created by 6|29/2/2016 01:23|Updated by 642|29/2/2016 08:53|       Phone|Location 143|Category 55|Subcategory 170| Symptom 72|      ?|2 - Medium|2 - Medium|3 - Moderate|        Group 56|          ?|     true|                  false|Do Not Notify|         ?|  ?|     ?|        ?|     code 5|Resolved by 149|29/2/2016 11:29|5/3/2016 12:00|\n|INC0000045|      Resolved|  true|                 0|           0|            3|    true|Caller 2403|  Opened by  8|29/2/2016 01:16|  Created by 6|29/2/2016 01:23|Updated by 804|29/2/2016 11:29|       Phone|Location 143|Category 55|Subcategory 170| Symptom 72|      ?|2 - Medium|2 - Medium|3 - Moderate|        Group 56|          ?|     true|                  false|Do Not Notify|         ?|  ?|     ?|        ?|     code 5|Resolved by 149|29/2/2016 11:29|5/3/2016 12:00|\n|INC0000045|        Closed| false|                 0|           0|            4|    true|Caller 2403|  Opened by  8|29/2/2016 01:16|  Created by 6|29/2/2016 01:23|Updated by 908| 5/3/2016 12:00|       Phone|Location 143|Category 55|Subcategory 170| Symptom 72|      ?|2 - Medium|2 - Medium|3 - Moderate|        Group 56|          ?|     true|                  false|Do Not Notify|         ?|  ?|     ?|        ?|     code 5|Resolved by 149|29/2/2016 11:29|5/3/2016 12:00|\n|INC0000047|           New|  true|                 0|           0|            0|    true|Caller 2403|Opened by  397|29/2/2016 04:40|Created by 171|29/2/2016 04:57|Updated by 746|29/2/2016 04:57|       Phone|Location 165|Category 40|Subcategory 215|Symptom 471|      ?|2 - Medium|2 - Medium|3 - Moderate|        Group 70|Resolver 89|     true|                  false|Do Not Notify|         ?|  ?|     ?|        ?|     code 5| Resolved by 81| 1/3/2016 09:52|6/3/2016 10:00|\n+----------+--------------+------+------------------+------------+-------------+--------+-----------+--------------+---------------+--------------+---------------+--------------+---------------+------------+------------+-----------+---------------+-----------+-------+----------+----------+------------+----------------+-----------+---------+-----------------------+-------------+----------+---+------+---------+-----------+---------------+---------------+--------------+\nonly showing top 5 rows\n\n"
     ]
    }
   ],
   "source": [
    "incident_df.show(5)"
   ]
  },
  {
   "cell_type": "code",
   "execution_count": 0,
   "metadata": {
    "application/vnd.databricks.v1+cell": {
     "cellMetadata": {
      "byteLimit": 2048000,
      "rowLimit": 10000
     },
     "inputWidgets": {},
     "nuid": "45dc67c9-68de-4f7f-bfc7-f924a53f54a0",
     "showTitle": true,
     "tableResultSettingsMap": {},
     "title": "Verificação de Dados - Location"
    }
   },
   "outputs": [
    {
     "output_type": "stream",
     "name": "stdout",
     "output_type": "stream",
     "text": [
      "+------------+---------+---------+----------+\n|    Location|     City|  Country|  TimeZone|\n+------------+---------+---------+----------+\n|Location 204|Hyderabad|    India|UTC + 5:30|\n|Location 108|     Pune|    India|UTC + 5:30|\n|Location 161| Camberra|Austrtali|  UTC + 10|\n| Location 18|   London|  England|   UTC + 0|\n| Location 55|São Paulo|   Brazil|   UTC - 3|\n| Location 56| Santiago|    Chile|   UTC - 3|\n| Location 93| Montreal|   Canada|   UTC - 4|\n+------------+---------+---------+----------+\n\n"
     ]
    }
   ],
   "source": [
    "location_df.show()"
   ]
  },
  {
   "cell_type": "markdown",
   "metadata": {
    "application/vnd.databricks.v1+cell": {
     "cellMetadata": {},
     "inputWidgets": {},
     "nuid": "14294ca1-64c2-4f6d-b5e3-64b2c854294d",
     "showTitle": false,
     "tableResultSettingsMap": {},
     "title": ""
    }
   },
   "source": [
    "###2.1.4 - Criando Base de Dados - BRONZE"
   ]
  },
  {
   "cell_type": "code",
   "execution_count": 0,
   "metadata": {
    "application/vnd.databricks.v1+cell": {
     "cellMetadata": {
      "byteLimit": 2048000,
      "implicitDf": true,
      "rowLimit": 10000
     },
     "inputWidgets": {},
     "nuid": "759b879e-2f11-4010-926b-5b8fc11bb1b5",
     "showTitle": true,
     "tableResultSettingsMap": {},
     "title": "Apagando o database \"BRONZE\" para ser recriado"
    }
   },
   "outputs": [
    {
     "output_type": "display_data",
     "data": {
      "text/html": [
       "<style scoped>\n",
       "  .table-result-container {\n",
       "    max-height: 300px;\n",
       "    overflow: auto;\n",
       "  }\n",
       "  table, th, td {\n",
       "    border: 1px solid black;\n",
       "    border-collapse: collapse;\n",
       "  }\n",
       "  th, td {\n",
       "    padding: 5px;\n",
       "  }\n",
       "  th {\n",
       "    text-align: left;\n",
       "  }\n",
       "</style><div class='table-result-container'><table class='table-result'><thead style='background-color: white'><tr></tr></thead><tbody></tbody></table></div>"
      ]
     },
     "metadata": {
      "application/vnd.databricks.v1+output": {
       "addedWidgets": {},
       "aggData": [],
       "aggError": "",
       "aggOverflow": false,
       "aggSchema": [],
       "aggSeriesLimitReached": false,
       "aggType": "",
       "arguments": {},
       "columnCustomDisplayInfos": {},
       "data": [],
       "datasetInfos": [],
       "dbfsResultPath": null,
       "isJsonSchema": true,
       "metadata": {},
       "overflow": false,
       "plotOptions": {
        "customPlotOptions": {},
        "displayType": "table",
        "pivotAggregation": null,
        "pivotColumns": null,
        "xColumns": null,
        "yColumns": null
       },
       "removedWidgets": [],
       "schema": [],
       "type": "table"
      }
     },
     "output_type": "display_data"
    }
   ],
   "source": [
    "%sql DROP DATABASE IF EXISTS inc_bronze CASCADE;"
   ]
  },
  {
   "cell_type": "code",
   "execution_count": 0,
   "metadata": {
    "application/vnd.databricks.v1+cell": {
     "cellMetadata": {
      "byteLimit": 2048000,
      "implicitDf": true,
      "rowLimit": 10000
     },
     "inputWidgets": {},
     "nuid": "69ddcd48-c884-4e4c-8d7f-1f37e7618e77",
     "showTitle": true,
     "tableResultSettingsMap": {},
     "title": "Recriando o database \"BRONZE\""
    }
   },
   "outputs": [
    {
     "output_type": "display_data",
     "data": {
      "text/html": [
       "<style scoped>\n",
       "  .table-result-container {\n",
       "    max-height: 300px;\n",
       "    overflow: auto;\n",
       "  }\n",
       "  table, th, td {\n",
       "    border: 1px solid black;\n",
       "    border-collapse: collapse;\n",
       "  }\n",
       "  th, td {\n",
       "    padding: 5px;\n",
       "  }\n",
       "  th {\n",
       "    text-align: left;\n",
       "  }\n",
       "</style><div class='table-result-container'><table class='table-result'><thead style='background-color: white'><tr></tr></thead><tbody></tbody></table></div>"
      ]
     },
     "metadata": {
      "application/vnd.databricks.v1+output": {
       "addedWidgets": {},
       "aggData": [],
       "aggError": "",
       "aggOverflow": false,
       "aggSchema": [],
       "aggSeriesLimitReached": false,
       "aggType": "",
       "arguments": {},
       "columnCustomDisplayInfos": {},
       "data": [],
       "datasetInfos": [],
       "dbfsResultPath": null,
       "isJsonSchema": true,
       "metadata": {},
       "overflow": false,
       "plotOptions": {
        "customPlotOptions": {},
        "displayType": "table",
        "pivotAggregation": null,
        "pivotColumns": null,
        "xColumns": null,
        "yColumns": null
       },
       "removedWidgets": [],
       "schema": [],
       "type": "table"
      }
     },
     "output_type": "display_data"
    }
   ],
   "source": [
    "%sql CREATE DATABASE inc_bronze;"
   ]
  },
  {
   "cell_type": "code",
   "execution_count": 0,
   "metadata": {
    "application/vnd.databricks.v1+cell": {
     "cellMetadata": {
      "byteLimit": 2048000,
      "rowLimit": 10000
     },
     "inputWidgets": {},
     "nuid": "c00ce7b6-b8e1-408a-bdb5-db2b3c949a76",
     "showTitle": true,
     "tableResultSettingsMap": {},
     "title": "Criação da tabela LOCATION a partir do dataframe"
    }
   },
   "outputs": [],
   "source": [
    "location_df.write.mode(\"overwrite\").saveAsTable(\"inc_bronze.location\")"
   ]
  },
  {
   "cell_type": "code",
   "execution_count": 0,
   "metadata": {
    "application/vnd.databricks.v1+cell": {
     "cellMetadata": {
      "byteLimit": 2048000,
      "rowLimit": 10000
     },
     "inputWidgets": {},
     "nuid": "7762aa97-bafb-4caa-a7a5-2a33a95c31fd",
     "showTitle": true,
     "tableResultSettingsMap": {},
     "title": "Criação da tabela INCIDENT a partir do dataframe"
    }
   },
   "outputs": [],
   "source": [
    "incident_df.write.mode(\"overwrite\").saveAsTable(\"inc_bronze.incident\")"
   ]
  },
  {
   "cell_type": "code",
   "execution_count": 0,
   "metadata": {
    "application/vnd.databricks.v1+cell": {
     "cellMetadata": {
      "byteLimit": 2048000,
      "implicitDf": true,
      "rowLimit": 10000
     },
     "inputWidgets": {},
     "nuid": "2beddb57-5102-4123-8572-80fc977623c2",
     "showTitle": true,
     "tableResultSettingsMap": {},
     "title": "Verificação se todas as linhas foram importadas no BD%sql  select count(1) from inc_silver.incident"
    }
   },
   "outputs": [
    {
     "output_type": "display_data",
     "data": {
      "text/html": [
       "<style scoped>\n",
       "  .table-result-container {\n",
       "    max-height: 300px;\n",
       "    overflow: auto;\n",
       "  }\n",
       "  table, th, td {\n",
       "    border: 1px solid black;\n",
       "    border-collapse: collapse;\n",
       "  }\n",
       "  th, td {\n",
       "    padding: 5px;\n",
       "  }\n",
       "  th {\n",
       "    text-align: left;\n",
       "  }\n",
       "</style><div class='table-result-container'><table class='table-result'><thead style='background-color: white'><tr><th>count(1)</th></tr></thead><tbody><tr><td>141712</td></tr></tbody></table></div>"
      ]
     },
     "metadata": {
      "application/vnd.databricks.v1+output": {
       "addedWidgets": {},
       "aggData": [],
       "aggError": "",
       "aggOverflow": false,
       "aggSchema": [],
       "aggSeriesLimitReached": false,
       "aggType": "",
       "arguments": {},
       "columnCustomDisplayInfos": {},
       "data": [
        [
         141712
        ]
       ],
       "datasetInfos": [],
       "dbfsResultPath": null,
       "isJsonSchema": true,
       "metadata": {},
       "overflow": false,
       "plotOptions": {
        "customPlotOptions": {},
        "displayType": "table",
        "pivotAggregation": null,
        "pivotColumns": null,
        "xColumns": null,
        "yColumns": null
       },
       "removedWidgets": [],
       "schema": [
        {
         "metadata": "{\"__autoGeneratedAlias\":\"true\"}",
         "name": "count(1)",
         "type": "\"long\""
        }
       ],
       "type": "table"
      }
     },
     "output_type": "display_data"
    }
   ],
   "source": [
    "%sql  select count(1) from inc_bronze.incident --141712"
   ]
  },
  {
   "cell_type": "code",
   "execution_count": 0,
   "metadata": {
    "application/vnd.databricks.v1+cell": {
     "cellMetadata": {
      "byteLimit": 2048000,
      "implicitDf": true,
      "rowLimit": 10000
     },
     "inputWidgets": {},
     "nuid": "9d235a1b-9f98-4ba1-911f-f83a0b96b5fa",
     "showTitle": true,
     "tableResultSettingsMap": {},
     "title": "Verificação  nos dados  da tabela LOCATION"
    }
   },
   "outputs": [
    {
     "output_type": "display_data",
     "data": {
      "text/html": [
       "<style scoped>\n",
       "  .table-result-container {\n",
       "    max-height: 300px;\n",
       "    overflow: auto;\n",
       "  }\n",
       "  table, th, td {\n",
       "    border: 1px solid black;\n",
       "    border-collapse: collapse;\n",
       "  }\n",
       "  th, td {\n",
       "    padding: 5px;\n",
       "  }\n",
       "  th {\n",
       "    text-align: left;\n",
       "  }\n",
       "</style><div class='table-result-container'><table class='table-result'><thead style='background-color: white'><tr><th>Location</th><th>City</th><th>Country</th><th>TimeZone</th></tr></thead><tbody><tr><td>Location 204</td><td>Hyderabad</td><td>India</td><td>UTC + 5:30</td></tr><tr><td>Location 108</td><td>Pune</td><td>India</td><td>UTC + 5:30</td></tr><tr><td>Location 161</td><td>Camberra</td><td>Austrtali</td><td>UTC + 10</td></tr><tr><td>Location 18</td><td>London</td><td>England</td><td>UTC + 0</td></tr><tr><td>Location 55</td><td>São Paulo</td><td>Brazil</td><td>UTC - 3</td></tr><tr><td>Location 56</td><td>Santiago</td><td>Chile</td><td>UTC - 3</td></tr><tr><td>Location 93</td><td>Montreal</td><td>Canada</td><td>UTC - 4</td></tr></tbody></table></div>"
      ]
     },
     "metadata": {
      "application/vnd.databricks.v1+output": {
       "addedWidgets": {},
       "aggData": [],
       "aggError": "",
       "aggOverflow": false,
       "aggSchema": [],
       "aggSeriesLimitReached": false,
       "aggType": "",
       "arguments": {},
       "columnCustomDisplayInfos": {},
       "data": [
        [
         "Location 204",
         "Hyderabad",
         "India",
         "UTC + 5:30"
        ],
        [
         "Location 108",
         "Pune",
         "India",
         "UTC + 5:30"
        ],
        [
         "Location 161",
         "Camberra",
         "Austrtali",
         "UTC + 10"
        ],
        [
         "Location 18",
         "London",
         "England",
         "UTC + 0"
        ],
        [
         "Location 55",
         "São Paulo",
         "Brazil",
         "UTC - 3"
        ],
        [
         "Location 56",
         "Santiago",
         "Chile",
         "UTC - 3"
        ],
        [
         "Location 93",
         "Montreal",
         "Canada",
         "UTC - 4"
        ]
       ],
       "datasetInfos": [],
       "dbfsResultPath": null,
       "isJsonSchema": true,
       "metadata": {},
       "overflow": false,
       "plotOptions": {
        "customPlotOptions": {},
        "displayType": "table",
        "pivotAggregation": null,
        "pivotColumns": null,
        "xColumns": null,
        "yColumns": null
       },
       "removedWidgets": [],
       "schema": [
        {
         "metadata": "{}",
         "name": "Location",
         "type": "\"string\""
        },
        {
         "metadata": "{}",
         "name": "City",
         "type": "\"string\""
        },
        {
         "metadata": "{}",
         "name": "Country",
         "type": "\"string\""
        },
        {
         "metadata": "{}",
         "name": "TimeZone",
         "type": "\"string\""
        }
       ],
       "type": "table"
      }
     },
     "output_type": "display_data"
    }
   ],
   "source": [
    "%sql select * from inc_bronze.location"
   ]
  },
  {
   "cell_type": "code",
   "execution_count": 0,
   "metadata": {
    "application/vnd.databricks.v1+cell": {
     "cellMetadata": {
      "byteLimit": 2048000,
      "implicitDf": true,
      "rowLimit": 10000
     },
     "inputWidgets": {},
     "nuid": "2ee1b0dd-fe9f-4fef-ae4c-2032d5d0017f",
     "showTitle": true,
     "tableResultSettingsMap": {},
     "title": "Verificação  nos dados  da tabela INCIDENT"
    }
   },
   "outputs": [
    {
     "output_type": "display_data",
     "data": {
      "text/html": [
       "<style scoped>\n",
       "  .table-result-container {\n",
       "    max-height: 300px;\n",
       "    overflow: auto;\n",
       "  }\n",
       "  table, th, td {\n",
       "    border: 1px solid black;\n",
       "    border-collapse: collapse;\n",
       "  }\n",
       "  th, td {\n",
       "    padding: 5px;\n",
       "  }\n",
       "  th {\n",
       "    text-align: left;\n",
       "  }\n",
       "</style><div class='table-result-container'><table class='table-result'><thead style='background-color: white'><tr><th>number</th><th>incident_state</th><th>active</th><th>reassignment_count</th><th>reopen_count</th><th>sys_mod_count</th><th>made_sla</th><th>caller_id</th><th>opened_by</th><th>opened_at</th><th>sys_created_by</th><th>sys_created_at</th><th>sys_updated_by</th><th>sys_updated_at</th><th>contact_type</th><th>location</th><th>category</th><th>subcategory</th><th>u_symptom</th><th>cmdb_ci</th><th>impact</th><th>urgency</th><th>priority</th><th>assignment_group</th><th>assigned_to</th><th>knowledge</th><th>u_priority_confirmation</th><th>notify</th><th>problem_id</th><th>rfc</th><th>vendor</th><th>caused_by</th><th>closed_code</th><th>resolved_by</th><th>resolved_at</th><th>closed_at</th></tr></thead><tbody><tr><td>INC0000045</td><td>New</td><td>true</td><td>0</td><td>0</td><td>0</td><td>true</td><td>Caller 2403</td><td>Opened by  8</td><td>29/2/2016 01:16</td><td>Created by 6</td><td>29/2/2016 01:23</td><td>Updated by 21</td><td>29/2/2016 01:23</td><td>Phone</td><td>Location 143</td><td>Category 55</td><td>Subcategory 170</td><td>Symptom 72</td><td>?</td><td>2 - Medium</td><td>2 - Medium</td><td>3 - Moderate</td><td>Group 56</td><td>?</td><td>true</td><td>false</td><td>Do Not Notify</td><td>?</td><td>?</td><td>?</td><td>?</td><td>code 5</td><td>Resolved by 149</td><td>29/2/2016 11:29</td><td>5/3/2016 12:00</td></tr><tr><td>INC0000045</td><td>Resolved</td><td>true</td><td>0</td><td>0</td><td>2</td><td>true</td><td>Caller 2403</td><td>Opened by  8</td><td>29/2/2016 01:16</td><td>Created by 6</td><td>29/2/2016 01:23</td><td>Updated by 642</td><td>29/2/2016 08:53</td><td>Phone</td><td>Location 143</td><td>Category 55</td><td>Subcategory 170</td><td>Symptom 72</td><td>?</td><td>2 - Medium</td><td>2 - Medium</td><td>3 - Moderate</td><td>Group 56</td><td>?</td><td>true</td><td>false</td><td>Do Not Notify</td><td>?</td><td>?</td><td>?</td><td>?</td><td>code 5</td><td>Resolved by 149</td><td>29/2/2016 11:29</td><td>5/3/2016 12:00</td></tr><tr><td>INC0000045</td><td>Resolved</td><td>true</td><td>0</td><td>0</td><td>3</td><td>true</td><td>Caller 2403</td><td>Opened by  8</td><td>29/2/2016 01:16</td><td>Created by 6</td><td>29/2/2016 01:23</td><td>Updated by 804</td><td>29/2/2016 11:29</td><td>Phone</td><td>Location 143</td><td>Category 55</td><td>Subcategory 170</td><td>Symptom 72</td><td>?</td><td>2 - Medium</td><td>2 - Medium</td><td>3 - Moderate</td><td>Group 56</td><td>?</td><td>true</td><td>false</td><td>Do Not Notify</td><td>?</td><td>?</td><td>?</td><td>?</td><td>code 5</td><td>Resolved by 149</td><td>29/2/2016 11:29</td><td>5/3/2016 12:00</td></tr><tr><td>INC0000045</td><td>Closed</td><td>false</td><td>0</td><td>0</td><td>4</td><td>true</td><td>Caller 2403</td><td>Opened by  8</td><td>29/2/2016 01:16</td><td>Created by 6</td><td>29/2/2016 01:23</td><td>Updated by 908</td><td>5/3/2016 12:00</td><td>Phone</td><td>Location 143</td><td>Category 55</td><td>Subcategory 170</td><td>Symptom 72</td><td>?</td><td>2 - Medium</td><td>2 - Medium</td><td>3 - Moderate</td><td>Group 56</td><td>?</td><td>true</td><td>false</td><td>Do Not Notify</td><td>?</td><td>?</td><td>?</td><td>?</td><td>code 5</td><td>Resolved by 149</td><td>29/2/2016 11:29</td><td>5/3/2016 12:00</td></tr><tr><td>INC0000047</td><td>New</td><td>true</td><td>0</td><td>0</td><td>0</td><td>true</td><td>Caller 2403</td><td>Opened by  397</td><td>29/2/2016 04:40</td><td>Created by 171</td><td>29/2/2016 04:57</td><td>Updated by 746</td><td>29/2/2016 04:57</td><td>Phone</td><td>Location 165</td><td>Category 40</td><td>Subcategory 215</td><td>Symptom 471</td><td>?</td><td>2 - Medium</td><td>2 - Medium</td><td>3 - Moderate</td><td>Group 70</td><td>Resolver 89</td><td>true</td><td>false</td><td>Do Not Notify</td><td>?</td><td>?</td><td>?</td><td>?</td><td>code 5</td><td>Resolved by 81</td><td>1/3/2016 09:52</td><td>6/3/2016 10:00</td></tr><tr><td>INC0000047</td><td>Active</td><td>true</td><td>1</td><td>0</td><td>1</td><td>true</td><td>Caller 2403</td><td>Opened by  397</td><td>29/2/2016 04:40</td><td>Created by 171</td><td>29/2/2016 04:57</td><td>Updated by 21</td><td>29/2/2016 05:30</td><td>Phone</td><td>Location 165</td><td>Category 40</td><td>Subcategory 215</td><td>Symptom 471</td><td>?</td><td>2 - Medium</td><td>2 - Medium</td><td>3 - Moderate</td><td>Group 24</td><td>Resolver 31</td><td>true</td><td>false</td><td>Do Not Notify</td><td>?</td><td>?</td><td>?</td><td>?</td><td>code 5</td><td>Resolved by 81</td><td>1/3/2016 09:52</td><td>6/3/2016 10:00</td></tr><tr><td>INC0000047</td><td>Active</td><td>true</td><td>1</td><td>0</td><td>2</td><td>true</td><td>Caller 2403</td><td>Opened by  397</td><td>29/2/2016 04:40</td><td>Created by 171</td><td>29/2/2016 04:57</td><td>Updated by 21</td><td>29/2/2016 05:33</td><td>Phone</td><td>Location 165</td><td>Category 40</td><td>Subcategory 215</td><td>Symptom 471</td><td>?</td><td>2 - Medium</td><td>2 - Medium</td><td>3 - Moderate</td><td>Group 24</td><td>Resolver 31</td><td>true</td><td>false</td><td>Do Not Notify</td><td>?</td><td>?</td><td>?</td><td>?</td><td>code 5</td><td>Resolved by 81</td><td>1/3/2016 09:52</td><td>6/3/2016 10:00</td></tr><tr><td>INC0000047</td><td>Active</td><td>true</td><td>1</td><td>0</td><td>3</td><td>true</td><td>Caller 2403</td><td>Opened by  397</td><td>29/2/2016 04:40</td><td>Created by 171</td><td>29/2/2016 04:57</td><td>Updated by 804</td><td>29/2/2016 11:31</td><td>Phone</td><td>Location 165</td><td>Category 40</td><td>Subcategory 215</td><td>Symptom 471</td><td>?</td><td>2 - Medium</td><td>2 - Medium</td><td>3 - Moderate</td><td>Group 24</td><td>Resolver 31</td><td>true</td><td>false</td><td>Do Not Notify</td><td>?</td><td>?</td><td>?</td><td>?</td><td>code 5</td><td>Resolved by 81</td><td>1/3/2016 09:52</td><td>6/3/2016 10:00</td></tr><tr><td>INC0000047</td><td>Active</td><td>true</td><td>1</td><td>0</td><td>4</td><td>true</td><td>Caller 2403</td><td>Opened by  397</td><td>29/2/2016 04:40</td><td>Created by 171</td><td>29/2/2016 04:57</td><td>Updated by 703</td><td>29/2/2016 11:32</td><td>Phone</td><td>Location 165</td><td>Category 40</td><td>Subcategory 215</td><td>Symptom 471</td><td>?</td><td>2 - Medium</td><td>2 - Medium</td><td>3 - Moderate</td><td>Group 24</td><td>Resolver 31</td><td>true</td><td>false</td><td>Do Not Notify</td><td>?</td><td>?</td><td>?</td><td>?</td><td>code 5</td><td>Resolved by 81</td><td>1/3/2016 09:52</td><td>6/3/2016 10:00</td></tr><tr><td>INC0000047</td><td>Active</td><td>true</td><td>1</td><td>0</td><td>5</td><td>true</td><td>Caller 2403</td><td>Opened by  397</td><td>29/2/2016 04:40</td><td>Created by 171</td><td>29/2/2016 04:57</td><td>Updated by 332</td><td>1/3/2016 09:14</td><td>Phone</td><td>Location 165</td><td>Category 40</td><td>Subcategory 215</td><td>Symptom 471</td><td>?</td><td>2 - Medium</td><td>2 - Medium</td><td>3 - Moderate</td><td>Group 24</td><td>Resolver 31</td><td>true</td><td>false</td><td>Do Not Notify</td><td>?</td><td>?</td><td>?</td><td>?</td><td>code 5</td><td>Resolved by 81</td><td>1/3/2016 09:52</td><td>6/3/2016 10:00</td></tr></tbody></table></div>"
      ]
     },
     "metadata": {
      "application/vnd.databricks.v1+output": {
       "addedWidgets": {},
       "aggData": [],
       "aggError": "",
       "aggOverflow": false,
       "aggSchema": [],
       "aggSeriesLimitReached": false,
       "aggType": "",
       "arguments": {},
       "columnCustomDisplayInfos": {},
       "data": [
        [
         "INC0000045",
         "New",
         true,
         0,
         0,
         0,
         true,
         "Caller 2403",
         "Opened by  8",
         "29/2/2016 01:16",
         "Created by 6",
         "29/2/2016 01:23",
         "Updated by 21",
         "29/2/2016 01:23",
         "Phone",
         "Location 143",
         "Category 55",
         "Subcategory 170",
         "Symptom 72",
         "?",
         "2 - Medium",
         "2 - Medium",
         "3 - Moderate",
         "Group 56",
         "?",
         true,
         false,
         "Do Not Notify",
         "?",
         "?",
         "?",
         "?",
         "code 5",
         "Resolved by 149",
         "29/2/2016 11:29",
         "5/3/2016 12:00"
        ],
        [
         "INC0000045",
         "Resolved",
         true,
         0,
         0,
         2,
         true,
         "Caller 2403",
         "Opened by  8",
         "29/2/2016 01:16",
         "Created by 6",
         "29/2/2016 01:23",
         "Updated by 642",
         "29/2/2016 08:53",
         "Phone",
         "Location 143",
         "Category 55",
         "Subcategory 170",
         "Symptom 72",
         "?",
         "2 - Medium",
         "2 - Medium",
         "3 - Moderate",
         "Group 56",
         "?",
         true,
         false,
         "Do Not Notify",
         "?",
         "?",
         "?",
         "?",
         "code 5",
         "Resolved by 149",
         "29/2/2016 11:29",
         "5/3/2016 12:00"
        ],
        [
         "INC0000045",
         "Resolved",
         true,
         0,
         0,
         3,
         true,
         "Caller 2403",
         "Opened by  8",
         "29/2/2016 01:16",
         "Created by 6",
         "29/2/2016 01:23",
         "Updated by 804",
         "29/2/2016 11:29",
         "Phone",
         "Location 143",
         "Category 55",
         "Subcategory 170",
         "Symptom 72",
         "?",
         "2 - Medium",
         "2 - Medium",
         "3 - Moderate",
         "Group 56",
         "?",
         true,
         false,
         "Do Not Notify",
         "?",
         "?",
         "?",
         "?",
         "code 5",
         "Resolved by 149",
         "29/2/2016 11:29",
         "5/3/2016 12:00"
        ],
        [
         "INC0000045",
         "Closed",
         false,
         0,
         0,
         4,
         true,
         "Caller 2403",
         "Opened by  8",
         "29/2/2016 01:16",
         "Created by 6",
         "29/2/2016 01:23",
         "Updated by 908",
         "5/3/2016 12:00",
         "Phone",
         "Location 143",
         "Category 55",
         "Subcategory 170",
         "Symptom 72",
         "?",
         "2 - Medium",
         "2 - Medium",
         "3 - Moderate",
         "Group 56",
         "?",
         true,
         false,
         "Do Not Notify",
         "?",
         "?",
         "?",
         "?",
         "code 5",
         "Resolved by 149",
         "29/2/2016 11:29",
         "5/3/2016 12:00"
        ],
        [
         "INC0000047",
         "New",
         true,
         0,
         0,
         0,
         true,
         "Caller 2403",
         "Opened by  397",
         "29/2/2016 04:40",
         "Created by 171",
         "29/2/2016 04:57",
         "Updated by 746",
         "29/2/2016 04:57",
         "Phone",
         "Location 165",
         "Category 40",
         "Subcategory 215",
         "Symptom 471",
         "?",
         "2 - Medium",
         "2 - Medium",
         "3 - Moderate",
         "Group 70",
         "Resolver 89",
         true,
         false,
         "Do Not Notify",
         "?",
         "?",
         "?",
         "?",
         "code 5",
         "Resolved by 81",
         "1/3/2016 09:52",
         "6/3/2016 10:00"
        ],
        [
         "INC0000047",
         "Active",
         true,
         1,
         0,
         1,
         true,
         "Caller 2403",
         "Opened by  397",
         "29/2/2016 04:40",
         "Created by 171",
         "29/2/2016 04:57",
         "Updated by 21",
         "29/2/2016 05:30",
         "Phone",
         "Location 165",
         "Category 40",
         "Subcategory 215",
         "Symptom 471",
         "?",
         "2 - Medium",
         "2 - Medium",
         "3 - Moderate",
         "Group 24",
         "Resolver 31",
         true,
         false,
         "Do Not Notify",
         "?",
         "?",
         "?",
         "?",
         "code 5",
         "Resolved by 81",
         "1/3/2016 09:52",
         "6/3/2016 10:00"
        ],
        [
         "INC0000047",
         "Active",
         true,
         1,
         0,
         2,
         true,
         "Caller 2403",
         "Opened by  397",
         "29/2/2016 04:40",
         "Created by 171",
         "29/2/2016 04:57",
         "Updated by 21",
         "29/2/2016 05:33",
         "Phone",
         "Location 165",
         "Category 40",
         "Subcategory 215",
         "Symptom 471",
         "?",
         "2 - Medium",
         "2 - Medium",
         "3 - Moderate",
         "Group 24",
         "Resolver 31",
         true,
         false,
         "Do Not Notify",
         "?",
         "?",
         "?",
         "?",
         "code 5",
         "Resolved by 81",
         "1/3/2016 09:52",
         "6/3/2016 10:00"
        ],
        [
         "INC0000047",
         "Active",
         true,
         1,
         0,
         3,
         true,
         "Caller 2403",
         "Opened by  397",
         "29/2/2016 04:40",
         "Created by 171",
         "29/2/2016 04:57",
         "Updated by 804",
         "29/2/2016 11:31",
         "Phone",
         "Location 165",
         "Category 40",
         "Subcategory 215",
         "Symptom 471",
         "?",
         "2 - Medium",
         "2 - Medium",
         "3 - Moderate",
         "Group 24",
         "Resolver 31",
         true,
         false,
         "Do Not Notify",
         "?",
         "?",
         "?",
         "?",
         "code 5",
         "Resolved by 81",
         "1/3/2016 09:52",
         "6/3/2016 10:00"
        ],
        [
         "INC0000047",
         "Active",
         true,
         1,
         0,
         4,
         true,
         "Caller 2403",
         "Opened by  397",
         "29/2/2016 04:40",
         "Created by 171",
         "29/2/2016 04:57",
         "Updated by 703",
         "29/2/2016 11:32",
         "Phone",
         "Location 165",
         "Category 40",
         "Subcategory 215",
         "Symptom 471",
         "?",
         "2 - Medium",
         "2 - Medium",
         "3 - Moderate",
         "Group 24",
         "Resolver 31",
         true,
         false,
         "Do Not Notify",
         "?",
         "?",
         "?",
         "?",
         "code 5",
         "Resolved by 81",
         "1/3/2016 09:52",
         "6/3/2016 10:00"
        ],
        [
         "INC0000047",
         "Active",
         true,
         1,
         0,
         5,
         true,
         "Caller 2403",
         "Opened by  397",
         "29/2/2016 04:40",
         "Created by 171",
         "29/2/2016 04:57",
         "Updated by 332",
         "1/3/2016 09:14",
         "Phone",
         "Location 165",
         "Category 40",
         "Subcategory 215",
         "Symptom 471",
         "?",
         "2 - Medium",
         "2 - Medium",
         "3 - Moderate",
         "Group 24",
         "Resolver 31",
         true,
         false,
         "Do Not Notify",
         "?",
         "?",
         "?",
         "?",
         "code 5",
         "Resolved by 81",
         "1/3/2016 09:52",
         "6/3/2016 10:00"
        ]
       ],
       "datasetInfos": [],
       "dbfsResultPath": null,
       "isJsonSchema": true,
       "metadata": {},
       "overflow": false,
       "plotOptions": {
        "customPlotOptions": {},
        "displayType": "table",
        "pivotAggregation": null,
        "pivotColumns": null,
        "xColumns": null,
        "yColumns": null
       },
       "removedWidgets": [],
       "schema": [
        {
         "metadata": "{}",
         "name": "number",
         "type": "\"string\""
        },
        {
         "metadata": "{}",
         "name": "incident_state",
         "type": "\"string\""
        },
        {
         "metadata": "{}",
         "name": "active",
         "type": "\"boolean\""
        },
        {
         "metadata": "{}",
         "name": "reassignment_count",
         "type": "\"integer\""
        },
        {
         "metadata": "{}",
         "name": "reopen_count",
         "type": "\"integer\""
        },
        {
         "metadata": "{}",
         "name": "sys_mod_count",
         "type": "\"integer\""
        },
        {
         "metadata": "{}",
         "name": "made_sla",
         "type": "\"boolean\""
        },
        {
         "metadata": "{}",
         "name": "caller_id",
         "type": "\"string\""
        },
        {
         "metadata": "{}",
         "name": "opened_by",
         "type": "\"string\""
        },
        {
         "metadata": "{}",
         "name": "opened_at",
         "type": "\"string\""
        },
        {
         "metadata": "{}",
         "name": "sys_created_by",
         "type": "\"string\""
        },
        {
         "metadata": "{}",
         "name": "sys_created_at",
         "type": "\"string\""
        },
        {
         "metadata": "{}",
         "name": "sys_updated_by",
         "type": "\"string\""
        },
        {
         "metadata": "{}",
         "name": "sys_updated_at",
         "type": "\"string\""
        },
        {
         "metadata": "{}",
         "name": "contact_type",
         "type": "\"string\""
        },
        {
         "metadata": "{}",
         "name": "location",
         "type": "\"string\""
        },
        {
         "metadata": "{}",
         "name": "category",
         "type": "\"string\""
        },
        {
         "metadata": "{}",
         "name": "subcategory",
         "type": "\"string\""
        },
        {
         "metadata": "{}",
         "name": "u_symptom",
         "type": "\"string\""
        },
        {
         "metadata": "{}",
         "name": "cmdb_ci",
         "type": "\"string\""
        },
        {
         "metadata": "{}",
         "name": "impact",
         "type": "\"string\""
        },
        {
         "metadata": "{}",
         "name": "urgency",
         "type": "\"string\""
        },
        {
         "metadata": "{}",
         "name": "priority",
         "type": "\"string\""
        },
        {
         "metadata": "{}",
         "name": "assignment_group",
         "type": "\"string\""
        },
        {
         "metadata": "{}",
         "name": "assigned_to",
         "type": "\"string\""
        },
        {
         "metadata": "{}",
         "name": "knowledge",
         "type": "\"boolean\""
        },
        {
         "metadata": "{}",
         "name": "u_priority_confirmation",
         "type": "\"boolean\""
        },
        {
         "metadata": "{}",
         "name": "notify",
         "type": "\"string\""
        },
        {
         "metadata": "{}",
         "name": "problem_id",
         "type": "\"string\""
        },
        {
         "metadata": "{}",
         "name": "rfc",
         "type": "\"string\""
        },
        {
         "metadata": "{}",
         "name": "vendor",
         "type": "\"string\""
        },
        {
         "metadata": "{}",
         "name": "caused_by",
         "type": "\"string\""
        },
        {
         "metadata": "{}",
         "name": "closed_code",
         "type": "\"string\""
        },
        {
         "metadata": "{}",
         "name": "resolved_by",
         "type": "\"string\""
        },
        {
         "metadata": "{}",
         "name": "resolved_at",
         "type": "\"string\""
        },
        {
         "metadata": "{}",
         "name": "closed_at",
         "type": "\"string\""
        }
       ],
       "type": "table"
      }
     },
     "output_type": "display_data"
    }
   ],
   "source": [
    "%sql select * from inc_bronze.incident LIMIT 10"
   ]
  },
  {
   "cell_type": "markdown",
   "metadata": {
    "application/vnd.databricks.v1+cell": {
     "cellMetadata": {},
     "inputWidgets": {},
     "nuid": "55198be8-a09e-4ce4-8bdc-0a7d46961415",
     "showTitle": false,
     "tableResultSettingsMap": {},
     "title": ""
    }
   },
   "source": [
    "##3.2 - **SILVER** - Base de Dados - (141712 rows)"
   ]
  },
  {
   "cell_type": "code",
   "execution_count": 0,
   "metadata": {
    "application/vnd.databricks.v1+cell": {
     "cellMetadata": {
      "byteLimit": 2048000,
      "rowLimit": 10000
     },
     "inputWidgets": {},
     "nuid": "0ccada6b-5396-4ced-9e94-0709a914d714",
     "showTitle": true,
     "tableResultSettingsMap": {},
     "title": "Verificação dos  data types"
    }
   },
   "outputs": [
    {
     "output_type": "stream",
     "name": "stdout",
     "output_type": "stream",
     "text": [
      "root\n |-- number: string (nullable = true)\n |-- incident_state: string (nullable = true)\n |-- active: boolean (nullable = true)\n |-- reassignment_count: integer (nullable = true)\n |-- reopen_count: integer (nullable = true)\n |-- sys_mod_count: integer (nullable = true)\n |-- made_sla: boolean (nullable = true)\n |-- caller_id: string (nullable = true)\n |-- opened_by: string (nullable = true)\n |-- opened_at: string (nullable = true)\n |-- sys_created_by: string (nullable = true)\n |-- sys_created_at: string (nullable = true)\n |-- sys_updated_by: string (nullable = true)\n |-- sys_updated_at: string (nullable = true)\n |-- contact_type: string (nullable = true)\n |-- location: string (nullable = true)\n |-- category: string (nullable = true)\n |-- subcategory: string (nullable = true)\n |-- u_symptom: string (nullable = true)\n |-- cmdb_ci: string (nullable = true)\n |-- impact: string (nullable = true)\n |-- urgency: string (nullable = true)\n |-- priority: string (nullable = true)\n |-- assignment_group: string (nullable = true)\n |-- assigned_to: string (nullable = true)\n |-- knowledge: boolean (nullable = true)\n |-- u_priority_confirmation: boolean (nullable = true)\n |-- notify: string (nullable = true)\n |-- problem_id: string (nullable = true)\n |-- rfc: string (nullable = true)\n |-- vendor: string (nullable = true)\n |-- caused_by: string (nullable = true)\n |-- closed_code: string (nullable = true)\n |-- resolved_by: string (nullable = true)\n |-- resolved_at: string (nullable = true)\n |-- closed_at: string (nullable = true)\n\n"
     ]
    }
   ],
   "source": [
    "#incident_df_Silver.printSchema()\n",
    "incident_df.printSchema()\n"
   ]
  },
  {
   "cell_type": "markdown",
   "metadata": {
    "application/vnd.databricks.v1+cell": {
     "cellMetadata": {},
     "inputWidgets": {},
     "nuid": "a5d52855-1748-42b6-af8e-4df42d3b5418",
     "showTitle": false,
     "tableResultSettingsMap": {},
     "title": ""
    }
   },
   "source": [
    "### 3.2.1 - Catalogo - SILVER\n"
   ]
  },
  {
   "cell_type": "markdown",
   "metadata": {
    "application/vnd.databricks.v1+cell": {
     "cellMetadata": {},
     "inputWidgets": {},
     "nuid": "034fc874-9394-456c-a9b2-7b64d9c2a22e",
     "showTitle": false,
     "tableResultSettingsMap": {},
     "title": ""
    }
   },
   "source": [
    "**Tabela = inc_silver.incident** \n",
    "\n",
    "- **number**: \tidentificador de incidente ;\n",
    "- **incident state**:\toito níveis que controlam as transições do processo de gerenciamento de incidentes, desde a abertura até o encerramento do caso;\n",
    "- **active**: \tatributo booleano que mostra se o registro está ativo ou fechado/cancelado;\n",
    "- **reassignment_count**: \tnúmero de vezes que o incidente teve o grupo ou os analistas de suporte alterados;\n",
    "- **reopen_count**: \tnúmero de vezes que a resolução do incidente foi rejeitada pelo autor da chamada;\n",
    "- **made_sla**: \tatributo booleano que mostra se o incidente excedeu o SLA de destino;\n",
    "- **opened_at_TS**: \tdata e hora de abertura do usuário do incidente;\n",
    "- **location**: \tidentificador da localização do local afetado;\n",
    "- **priority**: \tcalculado pelo sistema com base no “impact” e na “urgency”;\n",
    "- **resolved_by**: \tidentificador do usuário que resolveu o incidente;\n",
    "- **resolved_at_TS**: \tdata e hora de resolução do usuário do incidente ;\n",
    "- **closed_at_TS**: \tdata e hora de encerramento do usuário do incidente .\n",
    "\n",
    "**Tabela = inc_silver.location**\n",
    "\n",
    "- **Location**: Id da localicação;\n",
    "- **City**:  Cidade;\n",
    "- **Country**: Pais;\n",
    "- **UTC-Time Zone**: Fuso horário da Cidade;\n"
   ]
  },
  {
   "cell_type": "markdown",
   "metadata": {
    "application/vnd.databricks.v1+cell": {
     "cellMetadata": {},
     "inputWidgets": {},
     "nuid": "eee18a32-3142-475e-8160-40be6acc9627",
     "showTitle": false,
     "tableResultSettingsMap": {},
     "title": ""
    }
   },
   "source": [
    "###2.1.4 - Criando Base de Dados - SILVER"
   ]
  },
  {
   "cell_type": "code",
   "execution_count": 0,
   "metadata": {
    "application/vnd.databricks.v1+cell": {
     "cellMetadata": {
      "byteLimit": 2048000,
      "rowLimit": 10000
     },
     "inputWidgets": {},
     "nuid": "775b41b0-4a01-48b3-9461-da05e26fc5fb",
     "showTitle": false,
     "tableResultSettingsMap": {},
     "title": ""
    }
   },
   "outputs": [
    {
     "output_type": "stream",
     "name": "stdout",
     "output_type": "stream",
     "text": [
      "+----------+------------------+------+------------------+------------+-------------+--------+-----------+--------------+---------------+--------------+---------------+--------------+---------------+------------+------------+-----------+---------------+-----------+-------+----------+----------+------------+----------------+-----------+---------+-----------------------+-------------+----------+---+------+---------+-----------+--------------+--------------+--------------+\n|    number|    incident_state|active|reassignment_count|reopen_count|sys_mod_count|made_sla|  caller_id|     opened_by|      opened_at|sys_created_by| sys_created_at|sys_updated_by| sys_updated_at|contact_type|    location|   category|    subcategory|  u_symptom|cmdb_ci|    impact|   urgency|    priority|assignment_group|assigned_to|knowledge|u_priority_confirmation|       notify|problem_id|rfc|vendor|caused_by|closed_code|   resolved_by|   resolved_at|     closed_at|\n+----------+------------------+------+------------------+------------+-------------+--------+-----------+--------------+---------------+--------------+---------------+--------------+---------------+------------+------------+-----------+---------------+-----------+-------+----------+----------+------------+----------------+-----------+---------+-----------------------+-------------+----------+---+------+---------+-----------+--------------+--------------+--------------+\n|INC0000047|               New|  true|                 0|           0|            0|    true|Caller 2403|Opened by  397|29/2/2016 04:40|Created by 171|29/2/2016 04:57|Updated by 746|29/2/2016 04:57|       Phone|Location 165|Category 40|Subcategory 215|Symptom 471|      ?|2 - Medium|2 - Medium|3 - Moderate|        Group 70|Resolver 89|     true|                  false|Do Not Notify|         ?|  ?|     ?|        ?|     code 5|Resolved by 81|1/3/2016 09:52|6/3/2016 10:00|\n|INC0000047|            Active|  true|                 1|           0|            1|    true|Caller 2403|Opened by  397|29/2/2016 04:40|Created by 171|29/2/2016 04:57| Updated by 21|29/2/2016 05:30|       Phone|Location 165|Category 40|Subcategory 215|Symptom 471|      ?|2 - Medium|2 - Medium|3 - Moderate|        Group 24|Resolver 31|     true|                  false|Do Not Notify|         ?|  ?|     ?|        ?|     code 5|Resolved by 81|1/3/2016 09:52|6/3/2016 10:00|\n|INC0000047|            Active|  true|                 1|           0|            2|    true|Caller 2403|Opened by  397|29/2/2016 04:40|Created by 171|29/2/2016 04:57| Updated by 21|29/2/2016 05:33|       Phone|Location 165|Category 40|Subcategory 215|Symptom 471|      ?|2 - Medium|2 - Medium|3 - Moderate|        Group 24|Resolver 31|     true|                  false|Do Not Notify|         ?|  ?|     ?|        ?|     code 5|Resolved by 81|1/3/2016 09:52|6/3/2016 10:00|\n|INC0000047|            Active|  true|                 1|           0|            3|    true|Caller 2403|Opened by  397|29/2/2016 04:40|Created by 171|29/2/2016 04:57|Updated by 804|29/2/2016 11:31|       Phone|Location 165|Category 40|Subcategory 215|Symptom 471|      ?|2 - Medium|2 - Medium|3 - Moderate|        Group 24|Resolver 31|     true|                  false|Do Not Notify|         ?|  ?|     ?|        ?|     code 5|Resolved by 81|1/3/2016 09:52|6/3/2016 10:00|\n|INC0000047|            Active|  true|                 1|           0|            4|    true|Caller 2403|Opened by  397|29/2/2016 04:40|Created by 171|29/2/2016 04:57|Updated by 703|29/2/2016 11:32|       Phone|Location 165|Category 40|Subcategory 215|Symptom 471|      ?|2 - Medium|2 - Medium|3 - Moderate|        Group 24|Resolver 31|     true|                  false|Do Not Notify|         ?|  ?|     ?|        ?|     code 5|Resolved by 81|1/3/2016 09:52|6/3/2016 10:00|\n|INC0000047|            Active|  true|                 1|           0|            5|    true|Caller 2403|Opened by  397|29/2/2016 04:40|Created by 171|29/2/2016 04:57|Updated by 332| 1/3/2016 09:14|       Phone|Location 165|Category 40|Subcategory 215|Symptom 471|      ?|2 - Medium|2 - Medium|3 - Moderate|        Group 24|Resolver 31|     true|                  false|Do Not Notify|         ?|  ?|     ?|        ?|     code 5|Resolved by 81|1/3/2016 09:52|6/3/2016 10:00|\n|INC0000047|Awaiting User Info|  true|                 1|           0|            6|    true|Caller 2403|Opened by  397|29/2/2016 04:40|Created by 171|29/2/2016 04:57|Updated by 332| 1/3/2016 09:14|       Phone|Location 165|Category 40|Subcategory 215|Symptom 471|      ?|2 - Medium|2 - Medium|3 - Moderate|        Group 24|Resolver 89|     true|                  false|Do Not Notify|         ?|  ?|     ?|        ?|     code 5|Resolved by 81|1/3/2016 09:52|6/3/2016 10:00|\n|INC0000047|          Resolved|  true|                 1|           0|            7|    true|Caller 2403|Opened by  397|29/2/2016 04:40|Created by 171|29/2/2016 04:57|Updated by 332| 1/3/2016 09:52|       Phone|Location 165|Category 40|Subcategory 215|Symptom 471|      ?|2 - Medium|2 - Medium|3 - Moderate|        Group 24|Resolver 89|     true|                  false|Do Not Notify|         ?|  ?|     ?|        ?|     code 5|Resolved by 81|1/3/2016 09:52|6/3/2016 10:00|\n|INC0000047|            Closed| false|                 1|           0|            8|    true|Caller 2403|Opened by  397|29/2/2016 04:40|Created by 171|29/2/2016 04:57|Updated by 908| 6/3/2016 10:00|       Phone|Location 165|Category 40|Subcategory 215|Symptom 471|      ?|2 - Medium|2 - Medium|3 - Moderate|        Group 24|Resolver 89|     true|                  false|Do Not Notify|         ?|  ?|     ?|        ?|     code 5|Resolved by 81|1/3/2016 09:52|6/3/2016 10:00|\n+----------+------------------+------+------------------+------------+-------------+--------+-----------+--------------+---------------+--------------+---------------+--------------+---------------+------------+------------+-----------+---------------+-----------+-------+----------+----------+------------+----------------+-----------+---------+-----------------------+-------------+----------+---+------+---------+-----------+--------------+--------------+--------------+\n\n"
     ]
    }
   ],
   "source": [
    "incident_df.filter(incident_df.number==\"INC0000047\").show()"
   ]
  },
  {
   "cell_type": "code",
   "execution_count": 0,
   "metadata": {
    "application/vnd.databricks.v1+cell": {
     "cellMetadata": {
      "byteLimit": 2048000,
      "rowLimit": 10000
     },
     "inputWidgets": {},
     "nuid": "435204a1-9eba-40fe-8723-c7e77b155af7",
     "showTitle": true,
     "tableResultSettingsMap": {},
     "title": "Convertendo Data Types - STRING to TIMESTAMP"
    }
   },
   "outputs": [],
   "source": [
    "incident_df_Silver = incident_df.withColumn(\"opened_at_TS\", to_timestamp(col(\"opened_at\"), \"d/M/yyyy hh:mm\"))\n",
    "incident_df_Silver = incident_df_Silver.withColumn(\"resolved_at_TS\", to_timestamp(col(\"resolved_at\"), \"d/M/yyyy hh:mm\"))\n",
    "incident_df_Silver = incident_df_Silver.withColumn(\"closed_at_TS\", to_timestamp(col(\"closed_at\"), \"d/M/yyyy hh:mm\"))\n"
   ]
  },
  {
   "cell_type": "code",
   "execution_count": 0,
   "metadata": {
    "application/vnd.databricks.v1+cell": {
     "cellMetadata": {
      "byteLimit": 2048000,
      "rowLimit": 10000
     },
     "inputWidgets": {},
     "nuid": "249f0ba2-7bc5-43dc-8233-c0e10a118978",
     "showTitle": false,
     "tableResultSettingsMap": {},
     "title": ""
    }
   },
   "outputs": [
    {
     "output_type": "stream",
     "name": "stdout",
     "output_type": "stream",
     "text": [
      "root\n |-- number: string (nullable = true)\n |-- incident_state: string (nullable = true)\n |-- active: boolean (nullable = true)\n |-- reassignment_count: integer (nullable = true)\n |-- reopen_count: integer (nullable = true)\n |-- sys_mod_count: integer (nullable = true)\n |-- made_sla: boolean (nullable = true)\n |-- caller_id: string (nullable = true)\n |-- opened_by: string (nullable = true)\n |-- opened_at: string (nullable = true)\n |-- sys_created_by: string (nullable = true)\n |-- sys_created_at: string (nullable = true)\n |-- sys_updated_by: string (nullable = true)\n |-- sys_updated_at: string (nullable = true)\n |-- contact_type: string (nullable = true)\n |-- location: string (nullable = true)\n |-- category: string (nullable = true)\n |-- subcategory: string (nullable = true)\n |-- u_symptom: string (nullable = true)\n |-- cmdb_ci: string (nullable = true)\n |-- impact: string (nullable = true)\n |-- urgency: string (nullable = true)\n |-- priority: string (nullable = true)\n |-- assignment_group: string (nullable = true)\n |-- assigned_to: string (nullable = true)\n |-- knowledge: boolean (nullable = true)\n |-- u_priority_confirmation: boolean (nullable = true)\n |-- notify: string (nullable = true)\n |-- problem_id: string (nullable = true)\n |-- rfc: string (nullable = true)\n |-- vendor: string (nullable = true)\n |-- caused_by: string (nullable = true)\n |-- closed_code: string (nullable = true)\n |-- resolved_by: string (nullable = true)\n |-- resolved_at: string (nullable = true)\n |-- closed_at: string (nullable = true)\n |-- opened_at_TS: timestamp (nullable = true)\n |-- resolved_at_TS: timestamp (nullable = true)\n |-- closed_at_TS: timestamp (nullable = true)\n\n"
     ]
    }
   ],
   "source": [
    "incident_df_Silver.printSchema()"
   ]
  },
  {
   "cell_type": "code",
   "execution_count": 0,
   "metadata": {
    "application/vnd.databricks.v1+cell": {
     "cellMetadata": {
      "byteLimit": 2048000,
      "rowLimit": 10000
     },
     "inputWidgets": {},
     "nuid": "c18c4f66-0ca1-4d36-9614-4cfe1a96d372",
     "showTitle": true,
     "tableResultSettingsMap": {},
     "title": "Verificação de  campos NULL"
    }
   },
   "outputs": [
    {
     "output_type": "stream",
     "name": "stdout",
     "output_type": "stream",
     "text": [
      "+------+--------------+------+------------------+------------+-------------+--------+---------+---------+---------+--------------+--------------+--------------+--------------+------------+--------+--------+-----------+---------+-------+------+-------+--------+----------------+-----------+---------+-----------------------+------+----------+---+------+---------+-----------+-----------+-----------+---------+------------+--------------+------------+\n|number|incident_state|active|reassignment_count|reopen_count|sys_mod_count|made_sla|caller_id|opened_by|opened_at|sys_created_by|sys_created_at|sys_updated_by|sys_updated_at|contact_type|location|category|subcategory|u_symptom|cmdb_ci|impact|urgency|priority|assignment_group|assigned_to|knowledge|u_priority_confirmation|notify|problem_id|rfc|vendor|caused_by|closed_code|resolved_by|resolved_at|closed_at|opened_at_TS|resolved_at_TS|closed_at_TS|\n+------+--------------+------+------------------+------------+-------------+--------+---------+---------+---------+--------------+--------------+--------------+--------------+------------+--------+--------+-----------+---------+-------+------+-------+--------+----------------+-----------+---------+-----------------------+------+----------+---+------+---------+-----------+-----------+-----------+---------+------------+--------------+------------+\n+------+--------------+------+------------------+------------+-------------+--------+---------+---------+---------+--------------+--------------+--------------+--------------+------------+--------+--------+-----------+---------+-------+------+-------+--------+----------------+-----------+---------+-----------------------+------+----------+---+------+---------+-----------+-----------+-----------+---------+------------+--------------+------------+\n\n"
     ]
    }
   ],
   "source": [
    "#incident_df_Silver_2.select(count(expr(\"*\"))).show()  --141712\n",
    "incident_df_Silver.filter(col(\"closed_at\").isNull()).show()"
   ]
  },
  {
   "cell_type": "code",
   "execution_count": 0,
   "metadata": {
    "application/vnd.databricks.v1+cell": {
     "cellMetadata": {
      "byteLimit": 2048000,
      "rowLimit": 10000
     },
     "inputWidgets": {},
     "nuid": "8c9c80aa-5fdb-405d-af25-38bae6ed2d6f",
     "showTitle": true,
     "tableResultSettingsMap": {},
     "title": "Eliminação de colunas  não necessárias para a análise  -  INCIDENT"
    }
   },
   "outputs": [
    {
     "output_type": "stream",
     "name": "stdout",
     "output_type": "stream",
     "text": [
      "+----------+------------------+------+------------------+------------+--------+------------+------------+---------------+-------------------+-------------------+-------------------+\n|    number|    incident_state|active|reassignment_count|reopen_count|made_sla|    location|    priority|    resolved_by|       opened_at_TS|     resolved_at_TS|       closed_at_TS|\n+----------+------------------+------+------------------+------------+--------+------------+------------+---------------+-------------------+-------------------+-------------------+\n|INC0000045|               New|  true|                 0|           0|    true|Location 143|3 - Moderate|Resolved by 149|2016-02-29 01:16:00|2016-02-29 11:29:00|2016-03-05 00:00:00|\n|INC0000045|          Resolved|  true|                 0|           0|    true|Location 143|3 - Moderate|Resolved by 149|2016-02-29 01:16:00|2016-02-29 11:29:00|2016-03-05 00:00:00|\n|INC0000045|          Resolved|  true|                 0|           0|    true|Location 143|3 - Moderate|Resolved by 149|2016-02-29 01:16:00|2016-02-29 11:29:00|2016-03-05 00:00:00|\n|INC0000045|            Closed| false|                 0|           0|    true|Location 143|3 - Moderate|Resolved by 149|2016-02-29 01:16:00|2016-02-29 11:29:00|2016-03-05 00:00:00|\n|INC0000047|               New|  true|                 0|           0|    true|Location 165|3 - Moderate| Resolved by 81|2016-02-29 04:40:00|2016-03-01 09:52:00|2016-03-06 10:00:00|\n|INC0000047|            Active|  true|                 1|           0|    true|Location 165|3 - Moderate| Resolved by 81|2016-02-29 04:40:00|2016-03-01 09:52:00|2016-03-06 10:00:00|\n|INC0000047|            Active|  true|                 1|           0|    true|Location 165|3 - Moderate| Resolved by 81|2016-02-29 04:40:00|2016-03-01 09:52:00|2016-03-06 10:00:00|\n|INC0000047|            Active|  true|                 1|           0|    true|Location 165|3 - Moderate| Resolved by 81|2016-02-29 04:40:00|2016-03-01 09:52:00|2016-03-06 10:00:00|\n|INC0000047|            Active|  true|                 1|           0|    true|Location 165|3 - Moderate| Resolved by 81|2016-02-29 04:40:00|2016-03-01 09:52:00|2016-03-06 10:00:00|\n|INC0000047|            Active|  true|                 1|           0|    true|Location 165|3 - Moderate| Resolved by 81|2016-02-29 04:40:00|2016-03-01 09:52:00|2016-03-06 10:00:00|\n|INC0000047|Awaiting User Info|  true|                 1|           0|    true|Location 165|3 - Moderate| Resolved by 81|2016-02-29 04:40:00|2016-03-01 09:52:00|2016-03-06 10:00:00|\n|INC0000047|          Resolved|  true|                 1|           0|    true|Location 165|3 - Moderate| Resolved by 81|2016-02-29 04:40:00|2016-03-01 09:52:00|2016-03-06 10:00:00|\n|INC0000047|            Closed| false|                 1|           0|    true|Location 165|3 - Moderate| Resolved by 81|2016-02-29 04:40:00|2016-03-01 09:52:00|2016-03-06 10:00:00|\n|INC0000057|               New|  true|                 0|           0|    true|Location 204|3 - Moderate|  Resolved by 5|2016-02-29 06:10:00|2016-03-01 02:55:00|2016-03-06 03:00:00|\n|INC0000057|               New|  true|                 0|           0|    true|Location 204|3 - Moderate|  Resolved by 5|2016-02-29 06:10:00|2016-03-01 02:55:00|2016-03-06 03:00:00|\n|INC0000057|               New|  true|                 0|           0|    true|Location 204|3 - Moderate|  Resolved by 5|2016-02-29 06:10:00|2016-03-01 02:55:00|2016-03-06 03:00:00|\n|INC0000057|               New|  true|                 0|           0|    true|Location 204|3 - Moderate|  Resolved by 5|2016-02-29 06:10:00|2016-03-01 02:55:00|2016-03-06 03:00:00|\n|INC0000057|               New|  true|                 0|           0|    true|Location 204|3 - Moderate|  Resolved by 5|2016-02-29 06:10:00|2016-03-01 02:55:00|2016-03-06 03:00:00|\n|INC0000057|          Resolved|  true|                 0|           0|    true|Location 204|3 - Moderate|  Resolved by 5|2016-02-29 06:10:00|2016-03-01 02:55:00|2016-03-06 03:00:00|\n|INC0000057|            Closed| false|                 0|           0|    true|Location 204|3 - Moderate|  Resolved by 5|2016-02-29 06:10:00|2016-03-01 02:55:00|2016-03-06 03:00:00|\n+----------+------------------+------+------------------+------------+--------+------------+------------+---------------+-------------------+-------------------+-------------------+\nonly showing top 20 rows\n\n"
     ]
    }
   ],
   "source": [
    "incident_df_Silver = incident_df_Silver.drop('sys_mod_count','caller_id','opened_by','sys_created_by','sys_created_at','sys_updated_by','sys_updated_at','contact_type','category','subcategory','u_symptom','cmdb_ci','impact','urgency','assignment_group','assigned_to','knowledge','u_priority_confirmation','notify','problem_id','rfc','vendor','caused_by','closed_code','opened_at','resolved_at','closed_at')\n",
    "incident_df_Silver.show()"
   ]
  },
  {
   "cell_type": "code",
   "execution_count": 0,
   "metadata": {
    "application/vnd.databricks.v1+cell": {
     "cellMetadata": {
      "byteLimit": 2048000,
      "implicitDf": true,
      "rowLimit": 10000
     },
     "inputWidgets": {},
     "nuid": "35598a88-686a-4652-a307-de7c5bab35da",
     "showTitle": true,
     "tableResultSettingsMap": {},
     "title": "Apagando o database \"SILVER\" para ser recriado"
    }
   },
   "outputs": [
    {
     "output_type": "display_data",
     "data": {
      "text/html": [
       "<style scoped>\n",
       "  .table-result-container {\n",
       "    max-height: 300px;\n",
       "    overflow: auto;\n",
       "  }\n",
       "  table, th, td {\n",
       "    border: 1px solid black;\n",
       "    border-collapse: collapse;\n",
       "  }\n",
       "  th, td {\n",
       "    padding: 5px;\n",
       "  }\n",
       "  th {\n",
       "    text-align: left;\n",
       "  }\n",
       "</style><div class='table-result-container'><table class='table-result'><thead style='background-color: white'><tr></tr></thead><tbody></tbody></table></div>"
      ]
     },
     "metadata": {
      "application/vnd.databricks.v1+output": {
       "addedWidgets": {},
       "aggData": [],
       "aggError": "",
       "aggOverflow": false,
       "aggSchema": [],
       "aggSeriesLimitReached": false,
       "aggType": "",
       "arguments": {},
       "columnCustomDisplayInfos": {},
       "data": [],
       "datasetInfos": [],
       "dbfsResultPath": null,
       "isJsonSchema": true,
       "metadata": {},
       "overflow": false,
       "plotOptions": {
        "customPlotOptions": {},
        "displayType": "table",
        "pivotAggregation": null,
        "pivotColumns": null,
        "xColumns": null,
        "yColumns": null
       },
       "removedWidgets": [],
       "schema": [],
       "type": "table"
      }
     },
     "output_type": "display_data"
    }
   ],
   "source": [
    "%sql DROP DATABASE IF EXISTS inc_silver CASCADE;"
   ]
  },
  {
   "cell_type": "code",
   "execution_count": 0,
   "metadata": {
    "application/vnd.databricks.v1+cell": {
     "cellMetadata": {
      "byteLimit": 2048000,
      "implicitDf": true,
      "rowLimit": 10000
     },
     "inputWidgets": {},
     "nuid": "71df489f-1dd9-4f3e-855b-bc9e19632c41",
     "showTitle": true,
     "tableResultSettingsMap": {},
     "title": "Recriando o database \"SILVER\""
    }
   },
   "outputs": [
    {
     "output_type": "display_data",
     "data": {
      "text/html": [
       "<style scoped>\n",
       "  .table-result-container {\n",
       "    max-height: 300px;\n",
       "    overflow: auto;\n",
       "  }\n",
       "  table, th, td {\n",
       "    border: 1px solid black;\n",
       "    border-collapse: collapse;\n",
       "  }\n",
       "  th, td {\n",
       "    padding: 5px;\n",
       "  }\n",
       "  th {\n",
       "    text-align: left;\n",
       "  }\n",
       "</style><div class='table-result-container'><table class='table-result'><thead style='background-color: white'><tr></tr></thead><tbody></tbody></table></div>"
      ]
     },
     "metadata": {
      "application/vnd.databricks.v1+output": {
       "addedWidgets": {},
       "aggData": [],
       "aggError": "",
       "aggOverflow": false,
       "aggSchema": [],
       "aggSeriesLimitReached": false,
       "aggType": "",
       "arguments": {},
       "columnCustomDisplayInfos": {},
       "data": [],
       "datasetInfos": [],
       "dbfsResultPath": null,
       "isJsonSchema": true,
       "metadata": {},
       "overflow": false,
       "plotOptions": {
        "customPlotOptions": {},
        "displayType": "table",
        "pivotAggregation": null,
        "pivotColumns": null,
        "xColumns": null,
        "yColumns": null
       },
       "removedWidgets": [],
       "schema": [],
       "type": "table"
      }
     },
     "output_type": "display_data"
    }
   ],
   "source": [
    "%sql CREATE DATABASE inc_silver;"
   ]
  },
  {
   "cell_type": "code",
   "execution_count": 0,
   "metadata": {
    "application/vnd.databricks.v1+cell": {
     "cellMetadata": {
      "byteLimit": 2048000,
      "rowLimit": 10000
     },
     "inputWidgets": {},
     "nuid": "cde4f9b3-59e5-4fbe-84f7-d62a09120c0c",
     "showTitle": false,
     "tableResultSettingsMap": {},
     "title": ""
    }
   },
   "outputs": [
    {
     "output_type": "stream",
     "name": "stdout",
     "output_type": "stream",
     "text": [
      "+----------+------------------+------+------------------+------------+--------+------------+------------+---------------+-------------------+-------------------+-------------------+\n|    number|    incident_state|active|reassignment_count|reopen_count|made_sla|    location|    priority|    resolved_by|       opened_at_TS|     resolved_at_TS|       closed_at_TS|\n+----------+------------------+------+------------------+------------+--------+------------+------------+---------------+-------------------+-------------------+-------------------+\n|INC0000045|               New|  true|                 0|           0|    true|Location 143|3 - Moderate|Resolved by 149|2016-02-29 01:16:00|2016-02-29 11:29:00|2016-03-05 00:00:00|\n|INC0000045|          Resolved|  true|                 0|           0|    true|Location 143|3 - Moderate|Resolved by 149|2016-02-29 01:16:00|2016-02-29 11:29:00|2016-03-05 00:00:00|\n|INC0000045|          Resolved|  true|                 0|           0|    true|Location 143|3 - Moderate|Resolved by 149|2016-02-29 01:16:00|2016-02-29 11:29:00|2016-03-05 00:00:00|\n|INC0000045|            Closed| false|                 0|           0|    true|Location 143|3 - Moderate|Resolved by 149|2016-02-29 01:16:00|2016-02-29 11:29:00|2016-03-05 00:00:00|\n|INC0000047|               New|  true|                 0|           0|    true|Location 165|3 - Moderate| Resolved by 81|2016-02-29 04:40:00|2016-03-01 09:52:00|2016-03-06 10:00:00|\n|INC0000047|            Active|  true|                 1|           0|    true|Location 165|3 - Moderate| Resolved by 81|2016-02-29 04:40:00|2016-03-01 09:52:00|2016-03-06 10:00:00|\n|INC0000047|            Active|  true|                 1|           0|    true|Location 165|3 - Moderate| Resolved by 81|2016-02-29 04:40:00|2016-03-01 09:52:00|2016-03-06 10:00:00|\n|INC0000047|            Active|  true|                 1|           0|    true|Location 165|3 - Moderate| Resolved by 81|2016-02-29 04:40:00|2016-03-01 09:52:00|2016-03-06 10:00:00|\n|INC0000047|            Active|  true|                 1|           0|    true|Location 165|3 - Moderate| Resolved by 81|2016-02-29 04:40:00|2016-03-01 09:52:00|2016-03-06 10:00:00|\n|INC0000047|            Active|  true|                 1|           0|    true|Location 165|3 - Moderate| Resolved by 81|2016-02-29 04:40:00|2016-03-01 09:52:00|2016-03-06 10:00:00|\n|INC0000047|Awaiting User Info|  true|                 1|           0|    true|Location 165|3 - Moderate| Resolved by 81|2016-02-29 04:40:00|2016-03-01 09:52:00|2016-03-06 10:00:00|\n|INC0000047|          Resolved|  true|                 1|           0|    true|Location 165|3 - Moderate| Resolved by 81|2016-02-29 04:40:00|2016-03-01 09:52:00|2016-03-06 10:00:00|\n|INC0000047|            Closed| false|                 1|           0|    true|Location 165|3 - Moderate| Resolved by 81|2016-02-29 04:40:00|2016-03-01 09:52:00|2016-03-06 10:00:00|\n|INC0000057|               New|  true|                 0|           0|    true|Location 204|3 - Moderate|  Resolved by 5|2016-02-29 06:10:00|2016-03-01 02:55:00|2016-03-06 03:00:00|\n|INC0000057|               New|  true|                 0|           0|    true|Location 204|3 - Moderate|  Resolved by 5|2016-02-29 06:10:00|2016-03-01 02:55:00|2016-03-06 03:00:00|\n|INC0000057|               New|  true|                 0|           0|    true|Location 204|3 - Moderate|  Resolved by 5|2016-02-29 06:10:00|2016-03-01 02:55:00|2016-03-06 03:00:00|\n|INC0000057|               New|  true|                 0|           0|    true|Location 204|3 - Moderate|  Resolved by 5|2016-02-29 06:10:00|2016-03-01 02:55:00|2016-03-06 03:00:00|\n|INC0000057|               New|  true|                 0|           0|    true|Location 204|3 - Moderate|  Resolved by 5|2016-02-29 06:10:00|2016-03-01 02:55:00|2016-03-06 03:00:00|\n|INC0000057|          Resolved|  true|                 0|           0|    true|Location 204|3 - Moderate|  Resolved by 5|2016-02-29 06:10:00|2016-03-01 02:55:00|2016-03-06 03:00:00|\n|INC0000057|            Closed| false|                 0|           0|    true|Location 204|3 - Moderate|  Resolved by 5|2016-02-29 06:10:00|2016-03-01 02:55:00|2016-03-06 03:00:00|\n+----------+------------------+------+------------------+------------+--------+------------+------------+---------------+-------------------+-------------------+-------------------+\nonly showing top 20 rows\n\n"
     ]
    }
   ],
   "source": [
    "incident_df_Silver.show()"
   ]
  },
  {
   "cell_type": "code",
   "execution_count": 0,
   "metadata": {
    "application/vnd.databricks.v1+cell": {
     "cellMetadata": {
      "byteLimit": 2048000,
      "rowLimit": 10000
     },
     "inputWidgets": {},
     "nuid": "616415be-b91d-434d-816d-a1908bb43a63",
     "showTitle": true,
     "tableResultSettingsMap": {},
     "title": "Criação da tabela LOCATION a partir do dataframe"
    }
   },
   "outputs": [],
   "source": [
    "location_df.write.mode(\"overwrite\").saveAsTable(\"inc_silver.location\")"
   ]
  },
  {
   "cell_type": "code",
   "execution_count": 0,
   "metadata": {
    "application/vnd.databricks.v1+cell": {
     "cellMetadata": {
      "byteLimit": 2048000,
      "rowLimit": 10000
     },
     "inputWidgets": {},
     "nuid": "77f88cfa-f5e2-4c48-8859-5bdf1d925140",
     "showTitle": true,
     "tableResultSettingsMap": {},
     "title": "Criação da tabela INCIDENT a partir do dataframe"
    }
   },
   "outputs": [],
   "source": [
    "incident_df_Silver.write.mode(\"overwrite\").saveAsTable(\"inc_silver.incident\")"
   ]
  },
  {
   "cell_type": "code",
   "execution_count": 0,
   "metadata": {
    "application/vnd.databricks.v1+cell": {
     "cellMetadata": {
      "byteLimit": 2048000,
      "implicitDf": true,
      "rowLimit": 10000
     },
     "inputWidgets": {},
     "nuid": "6b70a5ea-5af6-4792-8ec5-566a6952ecca",
     "showTitle": true,
     "tableResultSettingsMap": {},
     "title": "Verificação se todas as linhas foram importadas no BD"
    }
   },
   "outputs": [
    {
     "output_type": "display_data",
     "data": {
      "text/html": [
       "<style scoped>\n",
       "  .table-result-container {\n",
       "    max-height: 300px;\n",
       "    overflow: auto;\n",
       "  }\n",
       "  table, th, td {\n",
       "    border: 1px solid black;\n",
       "    border-collapse: collapse;\n",
       "  }\n",
       "  th, td {\n",
       "    padding: 5px;\n",
       "  }\n",
       "  th {\n",
       "    text-align: left;\n",
       "  }\n",
       "</style><div class='table-result-container'><table class='table-result'><thead style='background-color: white'><tr><th>count(1)</th></tr></thead><tbody><tr><td>84156</td></tr></tbody></table></div>"
      ]
     },
     "metadata": {
      "application/vnd.databricks.v1+output": {
       "addedWidgets": {},
       "aggData": [],
       "aggError": "",
       "aggOverflow": false,
       "aggSchema": [],
       "aggSeriesLimitReached": false,
       "aggType": "",
       "arguments": {},
       "columnCustomDisplayInfos": {},
       "data": [
        [
         84156
        ]
       ],
       "datasetInfos": [],
       "dbfsResultPath": null,
       "isJsonSchema": true,
       "metadata": {},
       "overflow": false,
       "plotOptions": {
        "customPlotOptions": {},
        "displayType": "table",
        "pivotAggregation": null,
        "pivotColumns": null,
        "xColumns": null,
        "yColumns": null
       },
       "removedWidgets": [],
       "schema": [
        {
         "metadata": "{\"__autoGeneratedAlias\":\"true\"}",
         "name": "count(1)",
         "type": "\"long\""
        }
       ],
       "type": "table"
      }
     },
     "output_type": "display_data"
    }
   ],
   "source": [
    "%sql  select count(1) from inc_silver.incident -- 141712\n"
   ]
  },
  {
   "cell_type": "code",
   "execution_count": 0,
   "metadata": {
    "application/vnd.databricks.v1+cell": {
     "cellMetadata": {
      "byteLimit": 2048000,
      "implicitDf": true,
      "rowLimit": 10000
     },
     "inputWidgets": {},
     "nuid": "3ffa4772-1243-4948-a97b-d7a38b361650",
     "showTitle": true,
     "tableResultSettingsMap": {},
     "title": "Verificação  nos dados  da tabela LOCATION"
    }
   },
   "outputs": [
    {
     "output_type": "display_data",
     "data": {
      "text/html": [
       "<style scoped>\n",
       "  .table-result-container {\n",
       "    max-height: 300px;\n",
       "    overflow: auto;\n",
       "  }\n",
       "  table, th, td {\n",
       "    border: 1px solid black;\n",
       "    border-collapse: collapse;\n",
       "  }\n",
       "  th, td {\n",
       "    padding: 5px;\n",
       "  }\n",
       "  th {\n",
       "    text-align: left;\n",
       "  }\n",
       "</style><div class='table-result-container'><table class='table-result'><thead style='background-color: white'><tr><th>Location</th><th>City</th><th>Country</th><th>TimeZone</th></tr></thead><tbody><tr><td>Location 204</td><td>Hyderabad</td><td>India</td><td>UTC + 5:30</td></tr><tr><td>Location 108</td><td>Pune</td><td>India</td><td>UTC + 5:30</td></tr><tr><td>Location 161</td><td>Camberra</td><td>Austrtali</td><td>UTC + 10</td></tr><tr><td>Location 18</td><td>London</td><td>England</td><td>UTC + 0</td></tr><tr><td>Location 55</td><td>São Paulo</td><td>Brazil</td><td>UTC - 3</td></tr><tr><td>Location 56</td><td>Santiago</td><td>Chile</td><td>UTC - 3</td></tr><tr><td>Location 93</td><td>Montreal</td><td>Canada</td><td>UTC - 4</td></tr></tbody></table></div>"
      ]
     },
     "metadata": {
      "application/vnd.databricks.v1+output": {
       "addedWidgets": {},
       "aggData": [],
       "aggError": "",
       "aggOverflow": false,
       "aggSchema": [],
       "aggSeriesLimitReached": false,
       "aggType": "",
       "arguments": {},
       "columnCustomDisplayInfos": {},
       "data": [
        [
         "Location 204",
         "Hyderabad",
         "India",
         "UTC + 5:30"
        ],
        [
         "Location 108",
         "Pune",
         "India",
         "UTC + 5:30"
        ],
        [
         "Location 161",
         "Camberra",
         "Austrtali",
         "UTC + 10"
        ],
        [
         "Location 18",
         "London",
         "England",
         "UTC + 0"
        ],
        [
         "Location 55",
         "São Paulo",
         "Brazil",
         "UTC - 3"
        ],
        [
         "Location 56",
         "Santiago",
         "Chile",
         "UTC - 3"
        ],
        [
         "Location 93",
         "Montreal",
         "Canada",
         "UTC - 4"
        ]
       ],
       "datasetInfos": [],
       "dbfsResultPath": null,
       "isJsonSchema": true,
       "metadata": {},
       "overflow": false,
       "plotOptions": {
        "customPlotOptions": {},
        "displayType": "table",
        "pivotAggregation": null,
        "pivotColumns": null,
        "xColumns": null,
        "yColumns": null
       },
       "removedWidgets": [],
       "schema": [
        {
         "metadata": "{}",
         "name": "Location",
         "type": "\"string\""
        },
        {
         "metadata": "{}",
         "name": "City",
         "type": "\"string\""
        },
        {
         "metadata": "{}",
         "name": "Country",
         "type": "\"string\""
        },
        {
         "metadata": "{}",
         "name": "TimeZone",
         "type": "\"string\""
        }
       ],
       "type": "table"
      }
     },
     "output_type": "display_data"
    }
   ],
   "source": [
    "%sql select * from inc_silver.location"
   ]
  },
  {
   "cell_type": "code",
   "execution_count": 0,
   "metadata": {
    "application/vnd.databricks.v1+cell": {
     "cellMetadata": {
      "byteLimit": 2048000,
      "implicitDf": true,
      "rowLimit": 10000
     },
     "inputWidgets": {},
     "nuid": "f456dd8a-2c40-42d7-b800-8a4b7628127f",
     "showTitle": true,
     "tableResultSettingsMap": {},
     "title": "Verificação  nos dados  da tabela INCIDENT"
    }
   },
   "outputs": [
    {
     "output_type": "display_data",
     "data": {
      "text/html": [
       "<style scoped>\n",
       "  .table-result-container {\n",
       "    max-height: 300px;\n",
       "    overflow: auto;\n",
       "  }\n",
       "  table, th, td {\n",
       "    border: 1px solid black;\n",
       "    border-collapse: collapse;\n",
       "  }\n",
       "  th, td {\n",
       "    padding: 5px;\n",
       "  }\n",
       "  th {\n",
       "    text-align: left;\n",
       "  }\n",
       "</style><div class='table-result-container'><table class='table-result'><thead style='background-color: white'><tr><th>number</th><th>incident_state</th><th>active</th><th>reassignment_count</th><th>reopen_count</th><th>made_sla</th><th>location</th><th>priority</th><th>resolved_by</th><th>opened_at_TS</th><th>resolved_at_TS</th><th>closed_at_TS</th></tr></thead><tbody><tr><td>INC0000045</td><td>New</td><td>true</td><td>0</td><td>0</td><td>true</td><td>Location 143</td><td>3 - Moderate</td><td>Resolved by 149</td><td>2016-02-29T01:16:00.000+0000</td><td>2016-02-29T11:29:00.000+0000</td><td>2016-03-05T00:00:00.000+0000</td></tr><tr><td>INC0000045</td><td>Resolved</td><td>true</td><td>0</td><td>0</td><td>true</td><td>Location 143</td><td>3 - Moderate</td><td>Resolved by 149</td><td>2016-02-29T01:16:00.000+0000</td><td>2016-02-29T11:29:00.000+0000</td><td>2016-03-05T00:00:00.000+0000</td></tr><tr><td>INC0000045</td><td>Resolved</td><td>true</td><td>0</td><td>0</td><td>true</td><td>Location 143</td><td>3 - Moderate</td><td>Resolved by 149</td><td>2016-02-29T01:16:00.000+0000</td><td>2016-02-29T11:29:00.000+0000</td><td>2016-03-05T00:00:00.000+0000</td></tr><tr><td>INC0000045</td><td>Closed</td><td>false</td><td>0</td><td>0</td><td>true</td><td>Location 143</td><td>3 - Moderate</td><td>Resolved by 149</td><td>2016-02-29T01:16:00.000+0000</td><td>2016-02-29T11:29:00.000+0000</td><td>2016-03-05T00:00:00.000+0000</td></tr><tr><td>INC0000047</td><td>New</td><td>true</td><td>0</td><td>0</td><td>true</td><td>Location 165</td><td>3 - Moderate</td><td>Resolved by 81</td><td>2016-02-29T04:40:00.000+0000</td><td>2016-03-01T09:52:00.000+0000</td><td>2016-03-06T10:00:00.000+0000</td></tr><tr><td>INC0000047</td><td>Active</td><td>true</td><td>1</td><td>0</td><td>true</td><td>Location 165</td><td>3 - Moderate</td><td>Resolved by 81</td><td>2016-02-29T04:40:00.000+0000</td><td>2016-03-01T09:52:00.000+0000</td><td>2016-03-06T10:00:00.000+0000</td></tr><tr><td>INC0000047</td><td>Active</td><td>true</td><td>1</td><td>0</td><td>true</td><td>Location 165</td><td>3 - Moderate</td><td>Resolved by 81</td><td>2016-02-29T04:40:00.000+0000</td><td>2016-03-01T09:52:00.000+0000</td><td>2016-03-06T10:00:00.000+0000</td></tr><tr><td>INC0000047</td><td>Active</td><td>true</td><td>1</td><td>0</td><td>true</td><td>Location 165</td><td>3 - Moderate</td><td>Resolved by 81</td><td>2016-02-29T04:40:00.000+0000</td><td>2016-03-01T09:52:00.000+0000</td><td>2016-03-06T10:00:00.000+0000</td></tr><tr><td>INC0000047</td><td>Active</td><td>true</td><td>1</td><td>0</td><td>true</td><td>Location 165</td><td>3 - Moderate</td><td>Resolved by 81</td><td>2016-02-29T04:40:00.000+0000</td><td>2016-03-01T09:52:00.000+0000</td><td>2016-03-06T10:00:00.000+0000</td></tr><tr><td>INC0000047</td><td>Active</td><td>true</td><td>1</td><td>0</td><td>true</td><td>Location 165</td><td>3 - Moderate</td><td>Resolved by 81</td><td>2016-02-29T04:40:00.000+0000</td><td>2016-03-01T09:52:00.000+0000</td><td>2016-03-06T10:00:00.000+0000</td></tr></tbody></table></div>"
      ]
     },
     "metadata": {
      "application/vnd.databricks.v1+output": {
       "addedWidgets": {},
       "aggData": [],
       "aggError": "",
       "aggOverflow": false,
       "aggSchema": [],
       "aggSeriesLimitReached": false,
       "aggType": "",
       "arguments": {},
       "columnCustomDisplayInfos": {},
       "data": [
        [
         "INC0000045",
         "New",
         true,
         0,
         0,
         true,
         "Location 143",
         "3 - Moderate",
         "Resolved by 149",
         "2016-02-29T01:16:00.000+0000",
         "2016-02-29T11:29:00.000+0000",
         "2016-03-05T00:00:00.000+0000"
        ],
        [
         "INC0000045",
         "Resolved",
         true,
         0,
         0,
         true,
         "Location 143",
         "3 - Moderate",
         "Resolved by 149",
         "2016-02-29T01:16:00.000+0000",
         "2016-02-29T11:29:00.000+0000",
         "2016-03-05T00:00:00.000+0000"
        ],
        [
         "INC0000045",
         "Resolved",
         true,
         0,
         0,
         true,
         "Location 143",
         "3 - Moderate",
         "Resolved by 149",
         "2016-02-29T01:16:00.000+0000",
         "2016-02-29T11:29:00.000+0000",
         "2016-03-05T00:00:00.000+0000"
        ],
        [
         "INC0000045",
         "Closed",
         false,
         0,
         0,
         true,
         "Location 143",
         "3 - Moderate",
         "Resolved by 149",
         "2016-02-29T01:16:00.000+0000",
         "2016-02-29T11:29:00.000+0000",
         "2016-03-05T00:00:00.000+0000"
        ],
        [
         "INC0000047",
         "New",
         true,
         0,
         0,
         true,
         "Location 165",
         "3 - Moderate",
         "Resolved by 81",
         "2016-02-29T04:40:00.000+0000",
         "2016-03-01T09:52:00.000+0000",
         "2016-03-06T10:00:00.000+0000"
        ],
        [
         "INC0000047",
         "Active",
         true,
         1,
         0,
         true,
         "Location 165",
         "3 - Moderate",
         "Resolved by 81",
         "2016-02-29T04:40:00.000+0000",
         "2016-03-01T09:52:00.000+0000",
         "2016-03-06T10:00:00.000+0000"
        ],
        [
         "INC0000047",
         "Active",
         true,
         1,
         0,
         true,
         "Location 165",
         "3 - Moderate",
         "Resolved by 81",
         "2016-02-29T04:40:00.000+0000",
         "2016-03-01T09:52:00.000+0000",
         "2016-03-06T10:00:00.000+0000"
        ],
        [
         "INC0000047",
         "Active",
         true,
         1,
         0,
         true,
         "Location 165",
         "3 - Moderate",
         "Resolved by 81",
         "2016-02-29T04:40:00.000+0000",
         "2016-03-01T09:52:00.000+0000",
         "2016-03-06T10:00:00.000+0000"
        ],
        [
         "INC0000047",
         "Active",
         true,
         1,
         0,
         true,
         "Location 165",
         "3 - Moderate",
         "Resolved by 81",
         "2016-02-29T04:40:00.000+0000",
         "2016-03-01T09:52:00.000+0000",
         "2016-03-06T10:00:00.000+0000"
        ],
        [
         "INC0000047",
         "Active",
         true,
         1,
         0,
         true,
         "Location 165",
         "3 - Moderate",
         "Resolved by 81",
         "2016-02-29T04:40:00.000+0000",
         "2016-03-01T09:52:00.000+0000",
         "2016-03-06T10:00:00.000+0000"
        ]
       ],
       "datasetInfos": [],
       "dbfsResultPath": null,
       "isJsonSchema": true,
       "metadata": {},
       "overflow": false,
       "plotOptions": {
        "customPlotOptions": {},
        "displayType": "table",
        "pivotAggregation": null,
        "pivotColumns": null,
        "xColumns": null,
        "yColumns": null
       },
       "removedWidgets": [],
       "schema": [
        {
         "metadata": "{}",
         "name": "number",
         "type": "\"string\""
        },
        {
         "metadata": "{}",
         "name": "incident_state",
         "type": "\"string\""
        },
        {
         "metadata": "{}",
         "name": "active",
         "type": "\"boolean\""
        },
        {
         "metadata": "{}",
         "name": "reassignment_count",
         "type": "\"integer\""
        },
        {
         "metadata": "{}",
         "name": "reopen_count",
         "type": "\"integer\""
        },
        {
         "metadata": "{}",
         "name": "made_sla",
         "type": "\"boolean\""
        },
        {
         "metadata": "{}",
         "name": "location",
         "type": "\"string\""
        },
        {
         "metadata": "{}",
         "name": "priority",
         "type": "\"string\""
        },
        {
         "metadata": "{}",
         "name": "resolved_by",
         "type": "\"string\""
        },
        {
         "metadata": "{}",
         "name": "opened_at_TS",
         "type": "\"timestamp\""
        },
        {
         "metadata": "{}",
         "name": "resolved_at_TS",
         "type": "\"timestamp\""
        },
        {
         "metadata": "{}",
         "name": "closed_at_TS",
         "type": "\"timestamp\""
        }
       ],
       "type": "table"
      }
     },
     "output_type": "display_data"
    }
   ],
   "source": [
    "%sql select * from inc_silver.incident LIMIT 10"
   ]
  },
  {
   "cell_type": "code",
   "execution_count": 0,
   "metadata": {
    "application/vnd.databricks.v1+cell": {
     "cellMetadata": {
      "byteLimit": 2048000,
      "implicitDf": true,
      "rowLimit": 10000
     },
     "inputWidgets": {},
     "nuid": "16be30d5-f24c-4c0c-9224-682bfee0376f",
     "showTitle": true,
     "tableResultSettingsMap": {},
     "title": "Verificação de Tipos da tabela INCIDENT"
    }
   },
   "outputs": [
    {
     "output_type": "display_data",
     "data": {
      "text/html": [
       "<style scoped>\n",
       "  .table-result-container {\n",
       "    max-height: 300px;\n",
       "    overflow: auto;\n",
       "  }\n",
       "  table, th, td {\n",
       "    border: 1px solid black;\n",
       "    border-collapse: collapse;\n",
       "  }\n",
       "  th, td {\n",
       "    padding: 5px;\n",
       "  }\n",
       "  th {\n",
       "    text-align: left;\n",
       "  }\n",
       "</style><div class='table-result-container'><table class='table-result'><thead style='background-color: white'><tr><th>col_name</th><th>data_type</th><th>comment</th></tr></thead><tbody><tr><td>Location</td><td>string</td><td>null</td></tr><tr><td>City</td><td>string</td><td>null</td></tr><tr><td>Country</td><td>string</td><td>null</td></tr><tr><td>TimeZone</td><td>string</td><td>null</td></tr></tbody></table></div>"
      ]
     },
     "metadata": {
      "application/vnd.databricks.v1+output": {
       "addedWidgets": {},
       "aggData": [],
       "aggError": "",
       "aggOverflow": false,
       "aggSchema": [],
       "aggSeriesLimitReached": false,
       "aggType": "",
       "arguments": {},
       "columnCustomDisplayInfos": {},
       "data": [
        [
         "Location",
         "string",
         null
        ],
        [
         "City",
         "string",
         null
        ],
        [
         "Country",
         "string",
         null
        ],
        [
         "TimeZone",
         "string",
         null
        ]
       ],
       "datasetInfos": [],
       "dbfsResultPath": null,
       "isJsonSchema": true,
       "metadata": {
        "createTempViewForImplicitDf": true,
        "dataframeName": "_sqldf",
        "executionCount": 18
       },
       "overflow": false,
       "plotOptions": {
        "customPlotOptions": {},
        "displayType": "table",
        "pivotAggregation": null,
        "pivotColumns": null,
        "xColumns": null,
        "yColumns": null
       },
       "removedWidgets": [],
       "schema": [
        {
         "metadata": "{\"comment\":\"name of the column\"}",
         "name": "col_name",
         "type": "\"string\""
        },
        {
         "metadata": "{\"comment\":\"data type of the column\"}",
         "name": "data_type",
         "type": "\"string\""
        },
        {
         "metadata": "{\"comment\":\"comment of the column\"}",
         "name": "comment",
         "type": "\"string\""
        }
       ],
       "type": "table"
      }
     },
     "output_type": "display_data"
    }
   ],
   "source": [
    "%sql desc inc_silver.location"
   ]
  },
  {
   "cell_type": "markdown",
   "metadata": {
    "application/vnd.databricks.v1+cell": {
     "cellMetadata": {},
     "inputWidgets": {},
     "nuid": "321ce699-1cbc-4d47-a589-10dd5fb0f12b",
     "showTitle": false,
     "tableResultSettingsMap": {},
     "title": ""
    }
   },
   "source": [
    "##3.3 - **GOLD** - Base de Dados - (24985 rows)"
   ]
  },
  {
   "cell_type": "markdown",
   "metadata": {
    "application/vnd.databricks.v1+cell": {
     "cellMetadata": {},
     "inputWidgets": {},
     "nuid": "c96cf76a-d84a-49dc-919e-7e944f116319",
     "showTitle": false,
     "tableResultSettingsMap": {},
     "title": ""
    }
   },
   "source": [
    "### 3.3.1 - Catalogo - Gold\n",
    "\n",
    "\n",
    "\n",
    "\n"
   ]
  },
  {
   "cell_type": "markdown",
   "metadata": {
    "application/vnd.databricks.v1+cell": {
     "cellMetadata": {},
     "inputWidgets": {},
     "nuid": "1dd43f29-0c96-488e-a911-ec29216d0a5c",
     "showTitle": false,
     "tableResultSettingsMap": {},
     "title": ""
    }
   },
   "source": [
    "**Tabela = inc_gold.incident** \n",
    "\n",
    "- **number**: \tidentificador de incidente ;\n",
    "- **incident state**:\toito níveis que controlam as transições do processo de gerenciamento de incidentes, desde a abertura até o encerramento do caso;\n",
    "- **active**: \tatributo booleano que mostra se o registro está ativo ou fechado/cancelado;\n",
    "- **reassignment_count**: \tnúmero de vezes que o incidente teve o grupo ou os analistas de suporte alterados;\n",
    "- **reopen_count**: \tnúmero de vezes que a resolução do incidente foi rejeitada pelo autor da chamada;\n",
    "- **made_sla**: \tatributo booleano que mostra se o incidente excedeu o SLA de destino;\n",
    "- **opened_at_TS**: \tdata e hora de abertura do usuário do incidente;\n",
    "- **location**: \tidentificador da localização do local afetado;\n",
    "- **priority**: \tcalculado pelo sistema com base no “impact” e na “urgency”;\n",
    "- **resolved_by**: \tidentificador do usuário que resolveu o incidente;\n",
    "- **resolved_at_TS**: \tdata e hora de resolução do usuário do incidente ;\n",
    "- **closed_at_TS**: \tdata e hora de encerramento do usuário do incidente .\n",
    "\n",
    "**Tabela = inc_gold.location**\n",
    "\n",
    "- **Location**: Id da localicação;\n",
    "- **City**:  Cidade;\n",
    "- **Country**: Pais;\n",
    "- **UTC-Time Zone**: Fuso horário da Cidade;"
   ]
  },
  {
   "cell_type": "markdown",
   "metadata": {
    "application/vnd.databricks.v1+cell": {
     "cellMetadata": {},
     "inputWidgets": {},
     "nuid": "e655ff75-53d8-46f7-aafe-43418a5e62fc",
     "showTitle": false,
     "tableResultSettingsMap": {},
     "title": ""
    }
   },
   "source": [
    "###3.3.2 - Criando Base de Dados - GOLD"
   ]
  },
  {
   "cell_type": "code",
   "execution_count": 0,
   "metadata": {
    "application/vnd.databricks.v1+cell": {
     "cellMetadata": {
      "byteLimit": 2048000,
      "implicitDf": true,
      "rowLimit": 10000
     },
     "inputWidgets": {},
     "nuid": "0f7339a6-c423-4253-80e4-8262fc2d3124",
     "showTitle": true,
     "tableResultSettingsMap": {},
     "title": "Apagando o database \"GOLD\" para ser recriado"
    }
   },
   "outputs": [
    {
     "output_type": "display_data",
     "data": {
      "text/html": [
       "<style scoped>\n",
       "  .table-result-container {\n",
       "    max-height: 300px;\n",
       "    overflow: auto;\n",
       "  }\n",
       "  table, th, td {\n",
       "    border: 1px solid black;\n",
       "    border-collapse: collapse;\n",
       "  }\n",
       "  th, td {\n",
       "    padding: 5px;\n",
       "  }\n",
       "  th {\n",
       "    text-align: left;\n",
       "  }\n",
       "</style><div class='table-result-container'><table class='table-result'><thead style='background-color: white'><tr></tr></thead><tbody></tbody></table></div>"
      ]
     },
     "metadata": {
      "application/vnd.databricks.v1+output": {
       "addedWidgets": {},
       "aggData": [],
       "aggError": "",
       "aggOverflow": false,
       "aggSchema": [],
       "aggSeriesLimitReached": false,
       "aggType": "",
       "arguments": {},
       "columnCustomDisplayInfos": {},
       "data": [],
       "datasetInfos": [],
       "dbfsResultPath": null,
       "isJsonSchema": true,
       "metadata": {},
       "overflow": false,
       "plotOptions": {
        "customPlotOptions": {},
        "displayType": "table",
        "pivotAggregation": null,
        "pivotColumns": null,
        "xColumns": null,
        "yColumns": null
       },
       "removedWidgets": [],
       "schema": [],
       "type": "table"
      }
     },
     "output_type": "display_data"
    }
   ],
   "source": [
    "%sql DROP DATABASE IF EXISTS inc_gold CASCADE;"
   ]
  },
  {
   "cell_type": "code",
   "execution_count": 0,
   "metadata": {
    "application/vnd.databricks.v1+cell": {
     "cellMetadata": {
      "byteLimit": 2048000,
      "implicitDf": true,
      "rowLimit": 10000
     },
     "inputWidgets": {},
     "nuid": "62175233-7803-4405-9224-a108c1293fe8",
     "showTitle": true,
     "tableResultSettingsMap": {},
     "title": "Recriando o database \"GOLD\""
    }
   },
   "outputs": [
    {
     "output_type": "display_data",
     "data": {
      "text/html": [
       "<style scoped>\n",
       "  .table-result-container {\n",
       "    max-height: 300px;\n",
       "    overflow: auto;\n",
       "  }\n",
       "  table, th, td {\n",
       "    border: 1px solid black;\n",
       "    border-collapse: collapse;\n",
       "  }\n",
       "  th, td {\n",
       "    padding: 5px;\n",
       "  }\n",
       "  th {\n",
       "    text-align: left;\n",
       "  }\n",
       "</style><div class='table-result-container'><table class='table-result'><thead style='background-color: white'><tr></tr></thead><tbody></tbody></table></div>"
      ]
     },
     "metadata": {
      "application/vnd.databricks.v1+output": {
       "addedWidgets": {},
       "aggData": [],
       "aggError": "",
       "aggOverflow": false,
       "aggSchema": [],
       "aggSeriesLimitReached": false,
       "aggType": "",
       "arguments": {},
       "columnCustomDisplayInfos": {},
       "data": [],
       "datasetInfos": [],
       "dbfsResultPath": null,
       "isJsonSchema": true,
       "metadata": {},
       "overflow": false,
       "plotOptions": {
        "customPlotOptions": {},
        "displayType": "table",
        "pivotAggregation": null,
        "pivotColumns": null,
        "xColumns": null,
        "yColumns": null
       },
       "removedWidgets": [],
       "schema": [],
       "type": "table"
      }
     },
     "output_type": "display_data"
    }
   ],
   "source": [
    "%sql CREATE DATABASE inc_gold;"
   ]
  },
  {
   "cell_type": "code",
   "execution_count": 0,
   "metadata": {
    "application/vnd.databricks.v1+cell": {
     "cellMetadata": {
      "byteLimit": 2048000,
      "rowLimit": 10000
     },
     "inputWidgets": {},
     "nuid": "cf02e5c0-75c1-4e82-b258-d5c22ebeda0e",
     "showTitle": true,
     "tableResultSettingsMap": {},
     "title": "Transformando o Dataset  -  Removendo linhas inúteis a análise"
    }
   },
   "outputs": [],
   "source": [
    "incident_df_Gold =incident_df_Silver.filter(incident_df_Silver.incident_state==\"Closed\")"
   ]
  },
  {
   "cell_type": "code",
   "execution_count": 0,
   "metadata": {
    "application/vnd.databricks.v1+cell": {
     "cellMetadata": {
      "byteLimit": 2048000,
      "rowLimit": 10000
     },
     "inputWidgets": {},
     "nuid": "27421432-1009-4e51-9356-d8a5e461c0bf",
     "showTitle": true,
     "tableResultSettingsMap": {},
     "title": "Criação da tabela LOCATION a partir do dataframe"
    }
   },
   "outputs": [],
   "source": [
    "location_df.write.mode(\"overwrite\").saveAsTable(\"inc_gold.location\")"
   ]
  },
  {
   "cell_type": "code",
   "execution_count": 0,
   "metadata": {
    "application/vnd.databricks.v1+cell": {
     "cellMetadata": {
      "byteLimit": 2048000,
      "rowLimit": 10000
     },
     "inputWidgets": {},
     "nuid": "359ef0b2-478c-44e0-8e00-6e3bf14a64c5",
     "showTitle": true,
     "tableResultSettingsMap": {},
     "title": "Criação da tabela INCIDENT a partir do dataframe"
    }
   },
   "outputs": [],
   "source": [
    "incident_df_Gold.write.mode(\"overwrite\").saveAsTable(\"inc_gold.incident\")"
   ]
  },
  {
   "cell_type": "code",
   "execution_count": 0,
   "metadata": {
    "application/vnd.databricks.v1+cell": {
     "cellMetadata": {
      "byteLimit": 2048000,
      "implicitDf": true,
      "rowLimit": 10000
     },
     "inputWidgets": {},
     "nuid": "b34c1aca-e9e8-40e4-9031-7e72e1943aaf",
     "showTitle": true,
     "tableResultSettingsMap": {},
     "title": "Verificação se todas as linhas foram importadas no BD%sql  select count(1) from inc_silver.incident"
    }
   },
   "outputs": [
    {
     "output_type": "display_data",
     "data": {
      "text/html": [
       "<style scoped>\n",
       "  .table-result-container {\n",
       "    max-height: 300px;\n",
       "    overflow: auto;\n",
       "  }\n",
       "  table, th, td {\n",
       "    border: 1px solid black;\n",
       "    border-collapse: collapse;\n",
       "  }\n",
       "  th, td {\n",
       "    padding: 5px;\n",
       "  }\n",
       "  th {\n",
       "    text-align: left;\n",
       "  }\n",
       "</style><div class='table-result-container'><table class='table-result'><thead style='background-color: white'><tr><th>count(1)</th></tr></thead><tbody><tr><td>24985</td></tr></tbody></table></div>"
      ]
     },
     "metadata": {
      "application/vnd.databricks.v1+output": {
       "addedWidgets": {},
       "aggData": [],
       "aggError": "",
       "aggOverflow": false,
       "aggSchema": [],
       "aggSeriesLimitReached": false,
       "aggType": "",
       "arguments": {},
       "columnCustomDisplayInfos": {},
       "data": [
        [
         24985
        ]
       ],
       "datasetInfos": [],
       "dbfsResultPath": null,
       "isJsonSchema": true,
       "metadata": {},
       "overflow": false,
       "plotOptions": {
        "customPlotOptions": {},
        "displayType": "table",
        "pivotAggregation": null,
        "pivotColumns": null,
        "xColumns": null,
        "yColumns": null
       },
       "removedWidgets": [],
       "schema": [
        {
         "metadata": "{\"__autoGeneratedAlias\":\"true\"}",
         "name": "count(1)",
         "type": "\"long\""
        }
       ],
       "type": "table"
      }
     },
     "output_type": "display_data"
    }
   ],
   "source": [
    "%sql  select count(1) from inc_gold.incident -- 24985"
   ]
  },
  {
   "cell_type": "code",
   "execution_count": 0,
   "metadata": {
    "application/vnd.databricks.v1+cell": {
     "cellMetadata": {
      "byteLimit": 2048000,
      "implicitDf": true,
      "rowLimit": 10000
     },
     "inputWidgets": {},
     "nuid": "e4164f94-8465-4912-aa36-8a6ce4e05e6d",
     "showTitle": true,
     "tableResultSettingsMap": {},
     "title": "Verificação  nos dados  da tabela LOCATION"
    }
   },
   "outputs": [
    {
     "output_type": "display_data",
     "data": {
      "text/html": [
       "<style scoped>\n",
       "  .table-result-container {\n",
       "    max-height: 300px;\n",
       "    overflow: auto;\n",
       "  }\n",
       "  table, th, td {\n",
       "    border: 1px solid black;\n",
       "    border-collapse: collapse;\n",
       "  }\n",
       "  th, td {\n",
       "    padding: 5px;\n",
       "  }\n",
       "  th {\n",
       "    text-align: left;\n",
       "  }\n",
       "</style><div class='table-result-container'><table class='table-result'><thead style='background-color: white'><tr><th>Location</th><th>City</th><th>Country</th><th>TimeZone</th></tr></thead><tbody><tr><td>Location 204</td><td>Hyderabad</td><td>India</td><td>UTC + 5:30</td></tr><tr><td>Location 108</td><td>Pune</td><td>India</td><td>UTC + 5:30</td></tr><tr><td>Location 161</td><td>Camberra</td><td>Austrtali</td><td>UTC + 10</td></tr><tr><td>Location 18</td><td>London</td><td>England</td><td>UTC + 0</td></tr><tr><td>Location 55</td><td>São Paulo</td><td>Brazil</td><td>UTC - 3</td></tr><tr><td>Location 56</td><td>Santiago</td><td>Chile</td><td>UTC - 3</td></tr><tr><td>Location 93</td><td>Montreal</td><td>Canada</td><td>UTC - 4</td></tr></tbody></table></div>"
      ]
     },
     "metadata": {
      "application/vnd.databricks.v1+output": {
       "addedWidgets": {},
       "aggData": [],
       "aggError": "",
       "aggOverflow": false,
       "aggSchema": [],
       "aggSeriesLimitReached": false,
       "aggType": "",
       "arguments": {},
       "columnCustomDisplayInfos": {},
       "data": [
        [
         "Location 204",
         "Hyderabad",
         "India",
         "UTC + 5:30"
        ],
        [
         "Location 108",
         "Pune",
         "India",
         "UTC + 5:30"
        ],
        [
         "Location 161",
         "Camberra",
         "Austrtali",
         "UTC + 10"
        ],
        [
         "Location 18",
         "London",
         "England",
         "UTC + 0"
        ],
        [
         "Location 55",
         "São Paulo",
         "Brazil",
         "UTC - 3"
        ],
        [
         "Location 56",
         "Santiago",
         "Chile",
         "UTC - 3"
        ],
        [
         "Location 93",
         "Montreal",
         "Canada",
         "UTC - 4"
        ]
       ],
       "datasetInfos": [],
       "dbfsResultPath": null,
       "isJsonSchema": true,
       "metadata": {},
       "overflow": false,
       "plotOptions": {
        "customPlotOptions": {},
        "displayType": "table",
        "pivotAggregation": null,
        "pivotColumns": null,
        "xColumns": null,
        "yColumns": null
       },
       "removedWidgets": [],
       "schema": [
        {
         "metadata": "{}",
         "name": "Location",
         "type": "\"string\""
        },
        {
         "metadata": "{}",
         "name": "City",
         "type": "\"string\""
        },
        {
         "metadata": "{}",
         "name": "Country",
         "type": "\"string\""
        },
        {
         "metadata": "{}",
         "name": "TimeZone",
         "type": "\"string\""
        }
       ],
       "type": "table"
      }
     },
     "output_type": "display_data"
    }
   ],
   "source": [
    "%sql select * from inc_gold.location"
   ]
  },
  {
   "cell_type": "code",
   "execution_count": 0,
   "metadata": {
    "application/vnd.databricks.v1+cell": {
     "cellMetadata": {
      "byteLimit": 2048000,
      "implicitDf": true,
      "rowLimit": 10000
     },
     "inputWidgets": {},
     "nuid": "5e6740d2-1afb-4dad-a323-a2691c4c273f",
     "showTitle": true,
     "tableResultSettingsMap": {},
     "title": "Verificação  nos dados  da tabela INCIDENT"
    }
   },
   "outputs": [
    {
     "output_type": "display_data",
     "data": {
      "text/html": [
       "<style scoped>\n",
       "  .table-result-container {\n",
       "    max-height: 300px;\n",
       "    overflow: auto;\n",
       "  }\n",
       "  table, th, td {\n",
       "    border: 1px solid black;\n",
       "    border-collapse: collapse;\n",
       "  }\n",
       "  th, td {\n",
       "    padding: 5px;\n",
       "  }\n",
       "  th {\n",
       "    text-align: left;\n",
       "  }\n",
       "</style><div class='table-result-container'><table class='table-result'><thead style='background-color: white'><tr><th>number</th><th>incident_state</th><th>active</th><th>reassignment_count</th><th>reopen_count</th><th>made_sla</th><th>location</th><th>priority</th><th>resolved_by</th><th>opened_at_TS</th><th>resolved_at_TS</th><th>closed_at_TS</th></tr></thead><tbody><tr><td>INC0000045</td><td>Closed</td><td>false</td><td>0</td><td>0</td><td>true</td><td>Location 143</td><td>3 - Moderate</td><td>Resolved by 149</td><td>2016-02-29T01:16:00.000+0000</td><td>2016-02-29T11:29:00.000+0000</td><td>2016-03-05T00:00:00.000+0000</td></tr><tr><td>INC0000047</td><td>Closed</td><td>false</td><td>1</td><td>0</td><td>true</td><td>Location 165</td><td>3 - Moderate</td><td>Resolved by 81</td><td>2016-02-29T04:40:00.000+0000</td><td>2016-03-01T09:52:00.000+0000</td><td>2016-03-06T10:00:00.000+0000</td></tr><tr><td>INC0000057</td><td>Closed</td><td>false</td><td>0</td><td>0</td><td>true</td><td>Location 204</td><td>3 - Moderate</td><td>Resolved by 5</td><td>2016-02-29T06:10:00.000+0000</td><td>2016-03-01T02:55:00.000+0000</td><td>2016-03-06T03:00:00.000+0000</td></tr><tr><td>INC0000060</td><td>Closed</td><td>false</td><td>0</td><td>0</td><td>true</td><td>Location 204</td><td>3 - Moderate</td><td>Resolved by 113</td><td>2016-02-29T06:38:00.000+0000</td><td>2016-03-02T00:06:00.000+0000</td><td>null</td></tr><tr><td>INC0000062</td><td>Closed</td><td>false</td><td>1</td><td>0</td><td>false</td><td>Location 93</td><td>2 - High</td><td>Resolved by 62</td><td>2016-02-29T06:58:00.000+0000</td><td>null</td><td>null</td></tr><tr><td>INC0000063</td><td>Closed</td><td>false</td><td>1</td><td>0</td><td>true</td><td>Location 93</td><td>3 - Moderate</td><td>Resolved by 62</td><td>2016-02-29T07:08:00.000+0000</td><td>null</td><td>null</td></tr><tr><td>INC0000064</td><td>Closed</td><td>false</td><td>1</td><td>0</td><td>true</td><td>Location 143</td><td>3 - Moderate</td><td>Resolved by 71</td><td>2016-02-29T07:10:00.000+0000</td><td>null</td><td>null</td></tr><tr><td>INC0000065</td><td>Closed</td><td>false</td><td>6</td><td>0</td><td>true</td><td>Location 108</td><td>3 - Moderate</td><td>Resolved by 197</td><td>2016-02-29T07:38:00.000+0000</td><td>null</td><td>null</td></tr><tr><td>INC0000066</td><td>Closed</td><td>false</td><td>1</td><td>0</td><td>true</td><td>Location 161</td><td>3 - Moderate</td><td>Resolved by 208</td><td>2016-02-29T08:03:00.000+0000</td><td>null</td><td>null</td></tr><tr><td>INC0000067</td><td>Closed</td><td>false</td><td>1</td><td>0</td><td>true</td><td>Location 143</td><td>3 - Moderate</td><td>Resolved by 215</td><td>2016-02-29T08:03:00.000+0000</td><td>2016-03-02T11:11:00.000+0000</td><td>2016-03-07T00:00:00.000+0000</td></tr></tbody></table></div>"
      ]
     },
     "metadata": {
      "application/vnd.databricks.v1+output": {
       "addedWidgets": {},
       "aggData": [],
       "aggError": "",
       "aggOverflow": false,
       "aggSchema": [],
       "aggSeriesLimitReached": false,
       "aggType": "",
       "arguments": {},
       "columnCustomDisplayInfos": {},
       "data": [
        [
         "INC0000045",
         "Closed",
         false,
         0,
         0,
         true,
         "Location 143",
         "3 - Moderate",
         "Resolved by 149",
         "2016-02-29T01:16:00.000+0000",
         "2016-02-29T11:29:00.000+0000",
         "2016-03-05T00:00:00.000+0000"
        ],
        [
         "INC0000047",
         "Closed",
         false,
         1,
         0,
         true,
         "Location 165",
         "3 - Moderate",
         "Resolved by 81",
         "2016-02-29T04:40:00.000+0000",
         "2016-03-01T09:52:00.000+0000",
         "2016-03-06T10:00:00.000+0000"
        ],
        [
         "INC0000057",
         "Closed",
         false,
         0,
         0,
         true,
         "Location 204",
         "3 - Moderate",
         "Resolved by 5",
         "2016-02-29T06:10:00.000+0000",
         "2016-03-01T02:55:00.000+0000",
         "2016-03-06T03:00:00.000+0000"
        ],
        [
         "INC0000060",
         "Closed",
         false,
         0,
         0,
         true,
         "Location 204",
         "3 - Moderate",
         "Resolved by 113",
         "2016-02-29T06:38:00.000+0000",
         "2016-03-02T00:06:00.000+0000",
         null
        ],
        [
         "INC0000062",
         "Closed",
         false,
         1,
         0,
         false,
         "Location 93",
         "2 - High",
         "Resolved by 62",
         "2016-02-29T06:58:00.000+0000",
         null,
         null
        ],
        [
         "INC0000063",
         "Closed",
         false,
         1,
         0,
         true,
         "Location 93",
         "3 - Moderate",
         "Resolved by 62",
         "2016-02-29T07:08:00.000+0000",
         null,
         null
        ],
        [
         "INC0000064",
         "Closed",
         false,
         1,
         0,
         true,
         "Location 143",
         "3 - Moderate",
         "Resolved by 71",
         "2016-02-29T07:10:00.000+0000",
         null,
         null
        ],
        [
         "INC0000065",
         "Closed",
         false,
         6,
         0,
         true,
         "Location 108",
         "3 - Moderate",
         "Resolved by 197",
         "2016-02-29T07:38:00.000+0000",
         null,
         null
        ],
        [
         "INC0000066",
         "Closed",
         false,
         1,
         0,
         true,
         "Location 161",
         "3 - Moderate",
         "Resolved by 208",
         "2016-02-29T08:03:00.000+0000",
         null,
         null
        ],
        [
         "INC0000067",
         "Closed",
         false,
         1,
         0,
         true,
         "Location 143",
         "3 - Moderate",
         "Resolved by 215",
         "2016-02-29T08:03:00.000+0000",
         "2016-03-02T11:11:00.000+0000",
         "2016-03-07T00:00:00.000+0000"
        ]
       ],
       "datasetInfos": [],
       "dbfsResultPath": null,
       "isJsonSchema": true,
       "metadata": {},
       "overflow": false,
       "plotOptions": {
        "customPlotOptions": {},
        "displayType": "table",
        "pivotAggregation": null,
        "pivotColumns": null,
        "xColumns": null,
        "yColumns": null
       },
       "removedWidgets": [],
       "schema": [
        {
         "metadata": "{}",
         "name": "number",
         "type": "\"string\""
        },
        {
         "metadata": "{}",
         "name": "incident_state",
         "type": "\"string\""
        },
        {
         "metadata": "{}",
         "name": "active",
         "type": "\"boolean\""
        },
        {
         "metadata": "{}",
         "name": "reassignment_count",
         "type": "\"integer\""
        },
        {
         "metadata": "{}",
         "name": "reopen_count",
         "type": "\"integer\""
        },
        {
         "metadata": "{}",
         "name": "made_sla",
         "type": "\"boolean\""
        },
        {
         "metadata": "{}",
         "name": "location",
         "type": "\"string\""
        },
        {
         "metadata": "{}",
         "name": "priority",
         "type": "\"string\""
        },
        {
         "metadata": "{}",
         "name": "resolved_by",
         "type": "\"string\""
        },
        {
         "metadata": "{}",
         "name": "opened_at_TS",
         "type": "\"timestamp\""
        },
        {
         "metadata": "{}",
         "name": "resolved_at_TS",
         "type": "\"timestamp\""
        },
        {
         "metadata": "{}",
         "name": "closed_at_TS",
         "type": "\"timestamp\""
        }
       ],
       "type": "table"
      }
     },
     "output_type": "display_data"
    }
   ],
   "source": [
    "%sql select * from inc_gold.incident LIMIT 10\n"
   ]
  },
  {
   "cell_type": "code",
   "execution_count": 0,
   "metadata": {
    "application/vnd.databricks.v1+cell": {
     "cellMetadata": {
      "byteLimit": 2048000,
      "implicitDf": true,
      "rowLimit": 10000
     },
     "inputWidgets": {},
     "nuid": "2c0555ca-ccf4-4d9c-87d4-70368799a7bf",
     "showTitle": true,
     "tableResultSettingsMap": {},
     "title": "Verificação de Tipos da tabela INCIDENT"
    }
   },
   "outputs": [
    {
     "output_type": "display_data",
     "data": {
      "text/html": [
       "<style scoped>\n",
       "  .table-result-container {\n",
       "    max-height: 300px;\n",
       "    overflow: auto;\n",
       "  }\n",
       "  table, th, td {\n",
       "    border: 1px solid black;\n",
       "    border-collapse: collapse;\n",
       "  }\n",
       "  th, td {\n",
       "    padding: 5px;\n",
       "  }\n",
       "  th {\n",
       "    text-align: left;\n",
       "  }\n",
       "</style><div class='table-result-container'><table class='table-result'><thead style='background-color: white'><tr><th>col_name</th><th>data_type</th><th>comment</th></tr></thead><tbody><tr><td>Location</td><td>string</td><td>null</td></tr><tr><td>City</td><td>string</td><td>null</td></tr><tr><td>Country</td><td>string</td><td>null</td></tr><tr><td>TimeZone</td><td>string</td><td>null</td></tr></tbody></table></div>"
      ]
     },
     "metadata": {
      "application/vnd.databricks.v1+output": {
       "addedWidgets": {},
       "aggData": [],
       "aggError": "",
       "aggOverflow": false,
       "aggSchema": [],
       "aggSeriesLimitReached": false,
       "aggType": "",
       "arguments": {},
       "columnCustomDisplayInfos": {},
       "data": [
        [
         "Location",
         "string",
         null
        ],
        [
         "City",
         "string",
         null
        ],
        [
         "Country",
         "string",
         null
        ],
        [
         "TimeZone",
         "string",
         null
        ]
       ],
       "datasetInfos": [],
       "dbfsResultPath": null,
       "isJsonSchema": true,
       "metadata": {},
       "overflow": false,
       "plotOptions": {
        "customPlotOptions": {},
        "displayType": "table",
        "pivotAggregation": null,
        "pivotColumns": null,
        "xColumns": null,
        "yColumns": null
       },
       "removedWidgets": [],
       "schema": [
        {
         "metadata": "{\"comment\":\"name of the column\"}",
         "name": "col_name",
         "type": "\"string\""
        },
        {
         "metadata": "{\"comment\":\"data type of the column\"}",
         "name": "data_type",
         "type": "\"string\""
        },
        {
         "metadata": "{\"comment\":\"comment of the column\"}",
         "name": "comment",
         "type": "\"string\""
        }
       ],
       "type": "table"
      }
     },
     "output_type": "display_data"
    }
   ],
   "source": [
    "%sql desc inc_gold.location"
   ]
  },
  {
   "cell_type": "markdown",
   "metadata": {
    "application/vnd.databricks.v1+cell": {
     "cellMetadata": {},
     "inputWidgets": {},
     "nuid": "10574144-9f03-47bf-b8f8-42363e2bced2",
     "showTitle": false,
     "tableResultSettingsMap": {},
     "title": ""
    }
   },
   "source": [
    "# 4 - Modelagem"
   ]
  },
  {
   "cell_type": "markdown",
   "metadata": {
    "application/vnd.databricks.v1+cell": {
     "cellMetadata": {},
     "inputWidgets": {},
     "nuid": "821bdcb8-0558-4389-b7a2-36a283adae43",
     "showTitle": false,
     "tableResultSettingsMap": {},
     "title": ""
    }
   },
   "source": [
    "\n",
    "Para a análise dos dados do problema proposto, optei pelo esquema Multidimensional  ESTRELA."
   ]
  },
  {
   "cell_type": "code",
   "execution_count": 0,
   "metadata": {
    "application/vnd.databricks.v1+cell": {
     "cellMetadata": {
      "byteLimit": 2048000,
      "rowLimit": 10000
     },
     "inputWidgets": {},
     "nuid": "7a98eec3-113a-4a3b-a8d8-97a79b4acd31",
     "showTitle": false,
     "tableResultSettingsMap": {},
     "title": ""
    }
   },
   "outputs": [
    {
     "output_type": "display_data",
     "data": {
      "text/html": [
       "<img src=\"https://raw.githubusercontent.com/Tirrenus/PUC-RIO_Eng_Dados-MVP/main/Modelo_de_Dados.png\"/>"
      ]
     },
     "metadata": {
      "application/vnd.databricks.v1+output": {
       "addedWidgets": {},
       "arguments": {},
       "data": "<img src=\"https://raw.githubusercontent.com/Tirrenus/PUC-RIO_Eng_Dados-MVP/main/Modelo_de_Dados.png\"/>",
       "datasetInfos": [],
       "metadata": {},
       "removedWidgets": [],
       "textData": null,
       "type": "htmlSandbox"
      }
     },
     "output_type": "display_data"
    }
   ],
   "source": [
    "from IPython.display import Image, display\n",
    "\n",
    "# URL da imagem em versão raw do GitHub\n",
    "image_url = \"https://raw.githubusercontent.com/Tirrenus/PUC-RIO_Eng_Dados-MVP/main/Modelo_de_Dados.png\"\n",
    "          \n",
    "\n",
    "# Exibe a imagem no notebook\n",
    "display(Image(url=image_url))"
   ]
  },
  {
   "cell_type": "markdown",
   "metadata": {
    "application/vnd.databricks.v1+cell": {
     "cellMetadata": {},
     "inputWidgets": {},
     "nuid": "88985872-baff-431c-ab54-849198531962",
     "showTitle": false,
     "tableResultSettingsMap": {},
     "title": ""
    }
   },
   "source": [
    "# 5 - Análise de Dados"
   ]
  },
  {
   "cell_type": "markdown",
   "metadata": {
    "application/vnd.databricks.v1+cell": {
     "cellMetadata": {},
     "inputWidgets": {},
     "nuid": "3397e648-30d6-453b-b5bf-d530bf2cdc7f",
     "showTitle": false,
     "tableResultSettingsMap": {},
     "title": ""
    }
   },
   "source": [
    "Análise dos dados levaram as respostas as perguntas feitas. Na sequencias poderemos ver as respostas em formato de SQL Query e em representação GRÁFICA.\n"
   ]
  },
  {
   "cell_type": "markdown",
   "metadata": {
    "application/vnd.databricks.v1+cell": {
     "cellMetadata": {},
     "inputWidgets": {},
     "nuid": "d8389e5b-67ad-4a21-bee8-0b99b5788099",
     "showTitle": false,
     "tableResultSettingsMap": {},
     "title": ""
    }
   },
   "source": [
    "## 5.1 - Perguntas e respostas"
   ]
  },
  {
   "cell_type": "markdown",
   "metadata": {
    "application/vnd.databricks.v1+cell": {
     "cellMetadata": {},
     "inputWidgets": {},
     "nuid": "7f1c21f9-f004-467e-b3e5-1483b24820f4",
     "showTitle": false,
     "tableResultSettingsMap": {},
     "title": ""
    }
   },
   "source": [
    " **P1** – Qual é o número de Tickets/países (locations), em que os Incidentes NÃO foram atendidos dentro do prazo estimado por sua Prioridade?\n",
    "\n",
    " **P2** – Qual é o número de Tickets/países (locations), em que os Incidentes FORAM atendidos dentro do prazo estimado por sua Prioridade?\n",
    "\n",
    " **P3** – Qual é o número de Tickets/mês, em que os Incidentes NÃO foram atendidos dentro do prazo estimado por sua Prioridade?\n",
    "\n",
    " **P4** – Qual é o número de Tickets/mês, em que os Incidentes FORAM atendidos dentro do prazo estimado por sua Prioridade?\n"
   ]
  },
  {
   "cell_type": "markdown",
   "metadata": {
    "application/vnd.databricks.v1+cell": {
     "cellMetadata": {},
     "inputWidgets": {},
     "nuid": "67036ad3-d20a-43b9-b26b-52e8be4f53b6",
     "showTitle": false,
     "tableResultSettingsMap": {},
     "title": ""
    }
   },
   "source": [
    "### 5.1.1 - P1 - Estouro de SLA por Pais"
   ]
  },
  {
   "cell_type": "code",
   "execution_count": 0,
   "metadata": {
    "application/vnd.databricks.v1+cell": {
     "cellMetadata": {
      "byteLimit": 2048000,
      "implicitDf": true,
      "rowLimit": 10000
     },
     "inputWidgets": {},
     "nuid": "43564591-fef5-4282-9319-ae870fd2fa28",
     "showTitle": true,
     "tableResultSettingsMap": {},
     "title": "SQL Query"
    }
   },
   "outputs": [
    {
     "output_type": "display_data",
     "data": {
      "text/html": [
       "<style scoped>\n",
       "  .table-result-container {\n",
       "    max-height: 300px;\n",
       "    overflow: auto;\n",
       "  }\n",
       "  table, th, td {\n",
       "    border: 1px solid black;\n",
       "    border-collapse: collapse;\n",
       "  }\n",
       "  th, td {\n",
       "    padding: 5px;\n",
       "  }\n",
       "  th {\n",
       "    text-align: left;\n",
       "  }\n",
       "</style><div class='table-result-container'><table class='table-result'><thead style='background-color: white'><tr><th>qte</th><th>Country</th></tr></thead><tbody><tr><td>2939</td><td>India</td></tr><tr><td>58</td><td>Chile</td></tr><tr><td>1185</td><td>Austrtali</td></tr><tr><td>765</td><td>Canada</td></tr><tr><td>99</td><td>Brazil</td></tr><tr><td>24</td><td>England</td></tr></tbody></table></div>"
      ]
     },
     "metadata": {
      "application/vnd.databricks.v1+output": {
       "addedWidgets": {},
       "aggData": [],
       "aggError": "",
       "aggOverflow": false,
       "aggSchema": [],
       "aggSeriesLimitReached": false,
       "aggType": "",
       "arguments": {},
       "columnCustomDisplayInfos": {},
       "data": [
        [
         2939,
         "India"
        ],
        [
         58,
         "Chile"
        ],
        [
         1185,
         "Austrtali"
        ],
        [
         765,
         "Canada"
        ],
        [
         99,
         "Brazil"
        ],
        [
         24,
         "England"
        ]
       ],
       "datasetInfos": [],
       "dbfsResultPath": null,
       "isJsonSchema": true,
       "metadata": {},
       "overflow": false,
       "plotOptions": {
        "customPlotOptions": {},
        "displayType": "table",
        "pivotAggregation": null,
        "pivotColumns": null,
        "xColumns": null,
        "yColumns": null
       },
       "removedWidgets": [],
       "schema": [
        {
         "metadata": "{}",
         "name": "qte",
         "type": "\"long\""
        },
        {
         "metadata": "{}",
         "name": "Country",
         "type": "\"string\""
        }
       ],
       "type": "table"
      }
     },
     "output_type": "display_data"
    }
   ],
   "source": [
    "%sql select count(i.number) as qte, l.Country from inc_gold.incident i, inc_gold.location l where i.location=l.Location and i.made_sla is false group by  l.Country"
   ]
  },
  {
   "cell_type": "code",
   "execution_count": 0,
   "metadata": {
    "application/vnd.databricks.v1+cell": {
     "cellMetadata": {
      "byteLimit": 2048000,
      "implicitDf": true,
      "rowLimit": 10000
     },
     "inputWidgets": {},
     "nuid": "eee2953e-9697-466e-9503-6f9edb8e60bf",
     "showTitle": true,
     "tableResultSettingsMap": {},
     "title": "Gráfico"
    }
   },
   "outputs": [
    {
     "output_type": "display_data",
     "data": {
      "application/vnd.databricks.v1+bamboolib_hint": "{\"pd.DataFrames\": [], \"version\": \"0.0.1\"}",
      "text/plain": []
     },
     "metadata": {},
     "output_type": "display_data"
    },
    {
     "output_type": "stream",
     "name": "stdout",
     "output_type": "stream",
     "text": [
      "Out[64]: <AxesSubplot:xlabel='Country'>"
     ]
    },
    {
     "output_type": "display_data",
     "data": {
      "image/png": "[encoded data removed]"
     },
     "metadata": {
      "application/vnd.databricks.v1+output": {
       "addedWidgets": {},
       "arguments": {},
       "data": "data:image/png;base64,iVBORw0KGgoAAAANSUhEUgAAAX0AAAEnCAYAAABFbJPAAAAAOXRFWHRTb2Z0d2FyZQBNYXRwbG90bGliIHZlcnNpb24zLjUuMSwgaHR0cHM6Ly9tYXRwbG90bGliLm9yZy/YYfK9AAAACXBIWXMAAAsTAAALEwEAmpwYAAAb4UlEQVR4nO3de5hcVZ3u8e8LRIKCgqRBJIGOEsEE5dYio46Hy3D3EHFEYDgCikbncBHRo1HPGTI4zOE4IjM6Cg8OMVHRDASBIBkwAjPqHJAkGCAXeGi5HDoGiAFiHMFJwu/8sVeFSlN93127q9b7eZ5+atfau2r/9pP0W7tXrb22IgIzM8vDNlUXYGZmzePQNzPLiEPfzCwjDn0zs4w49M3MMuLQNzPLyHZVF9CfCRMmRGdnZ9VlmJm1lKVLl/42IjoarRvTod/Z2cmSJUuqLsPMrKVIeqKvdQN270gaL+leSfdLWiHpr1P7ZEm/lNQt6Z8lvSq1b5+ed6f1nXXv9YXU/rCkY0s4NjMzG4LB9On/ETgyIg4ADgSOk3QY8H+AKyJiH+A54Jy0/TnAc6n9irQdkqYCpwHTgOOAb0natsRjMTOzAQwY+lH4fXo6Lv0EcCQwP7XPBd6flqen56T1R0lSap8XEX+MiMeAbuDQMg7CzMwGZ1B9+umMfCmwD/BN4NfA8xGxKW3SA+yZlvcEngSIiE2S1gO7pvZ76t62/jVmZk2xceNGenp6ePHFF6suZcTGjx/PxIkTGTdu3KBfM6jQj4jNwIGSdgZuBPYbVoWDIGkGMANgr732Gq3dmFmmenp62Gmnnejs7KTohGhNEcG6devo6elh8uTJg37dkMbpR8TzwF3AnwA7S6p9aEwEVqfl1cAkgLT+dcC6+vYGr6nfx9UR0RURXR0dDUccmZkN24svvsiuu+7a0oEPIIldd911yH+xDGb0Tkc6w0fSDsDRwCqK8P9g2uws4Oa0vCA9J62/M4r5mxcAp6XRPZOBKcC9Q6rWzKwErR74NcM5jsGc6e8B3CXpAWAxsCgifgx8HrhIUjdFn/01aftrgF1T+0XATICIWAFcB6wEbgPOTd1GZmbZmzNnDr/5zW9GfT8D9ulHxAPAQQ3aH6XB6JuIeBE4pY/3uhS4dOhlDk3nzFtHexdbefyyE5u6PzMrT9l5Mdw8mDNnDvvvvz9vfOMbS62ntzF9Ra6ZWTu69NJLmTt3LrvtthuTJk3ikEMOYcmSJZxxxhnssMMO3H333axcuZKLLrqI3//+90yYMIE5c+awxx57jHjfnnDNzKyJli5dyrx581i2bBkLFy5k8eLFAHR1dXHttdeybNkytttuO84//3zmz5/P0qVL+ehHP8qXvvSlUvbvM30zsyb6+c9/zsknn8yrX/1qAE466aRXbPPwww+zfPlyjj76aAA2b95cylk+OPTNzMaciGDatGncfffdpb+3u3fMzJrove99LzfddBMvvPACGzZs4JZbbgFgp512YsOGDQDsu+++rF27dkvob9y4kRUrVpSyf5/pm5k10cEHH8ypp57KAQccwG677cY73vEOAM4++2w++clPbvkid/78+VxwwQWsX7+eTZs2ceGFFzJt2rQR71/FdVNjU1dXVwxnPn0P2TSzvqxatYq3vvWtVZexxaxZs9hxxx357Gc/O6zXNzoeSUsjoqvR9u7eMTPLiLt3zMwqNGvWrKbuz2f6ZmYZceibWXbG8neZQzGc43Dom1lWxo8fz7p161o++Gvz6Y8fP35Ir3OfvpllZeLEifT09LB27dqqSxmx2p2zhsKhb2ZZGTdu3JDuNNVu3L1jZpYRh76ZWUYc+mZmGXHom5llxKFvZpYRh76ZWUYc+mZmGXHom5llxKFvZpYRh76ZWUYc+mZmGXHom5llZMDQlzRJ0l2SVkpaIelTqX2WpNWSlqWfE+pe8wVJ3ZIelnRsXftxqa1b0szROSQzM+vLYGbZ3AR8JiLuk7QTsFTSorTuioj4av3GkqYCpwHTgDcCP5X0lrT6m8DRQA+wWNKCiFhZxoGYmdnABgz9iFgDrEnLGyStAvbs5yXTgXkR8UfgMUndwKFpXXdEPAogaV7a1qFvZtYkQ+rTl9QJHAT8MjWdJ+kBSbMl7ZLa9gSerHtZT2rrq93MzJpk0KEvaUfgBuDCiPgdcCXwZuBAir8ELi+jIEkzJC2RtKQd7mxjZjaWDCr0JY2jCPxrI+JHABHxdERsjoiXgG/zchfOamBS3csnpra+2rcSEVdHRFdEdHV0dAz1eMzMrB+DGb0j4BpgVUR8ra59j7rNTgaWp+UFwGmStpc0GZgC3AssBqZImizpVRRf9i4o5zDMzGwwBjN6593Ah4EHJS1LbV8ETpd0IBDA48AnACJihaTrKL6g3QScGxGbASSdB9wObAvMjogVpR2JmZkNaDCjd34BqMGqhf285lLg0gbtC/t7nZmZjS5fkWtmlhGHvplZRhz6ZmYZceibmWXEoW9mlhGHvplZRhz6ZmYZceibmWXEoW9mlhGHvplZRhz6ZmYZceibmWXEoW9mlhGHvplZRhz6ZmYZceibmWXEoW9mlhGHvplZRhz6ZmYZceibmWXEoW9mlhGHvplZRhz6ZmYZceibmWXEoW9mlhGHvplZRhz6ZmYZGTD0JU2SdJeklZJWSPpUan+9pEWSHkmPu6R2Sfq6pG5JD0g6uO69zkrbPyLprNE7LDMza2QwZ/qbgM9ExFTgMOBcSVOBmcAdETEFuCM9BzgemJJ+ZgBXQvEhAVwMvBM4FLi49kFhZmbNMWDoR8SaiLgvLW8AVgF7AtOBuWmzucD70/J04LtRuAfYWdIewLHAooh4NiKeAxYBx5V5MGZm1r8h9elL6gQOAn4J7B4Ra9Kqp4Dd0/KewJN1L+tJbX21m5lZkww69CXtCNwAXBgRv6tfFxEBRBkFSZohaYmkJWvXri3jLc3MLBlU6EsaRxH410bEj1Lz06nbhvT4TGpfDUyqe/nE1NZX+1Yi4uqI6IqIro6OjqEci5mZDWAwo3cEXAOsioiv1a1aANRG4JwF3FzXfmYaxXMYsD51A90OHCNpl/QF7jGpzczMmmS7QWzzbuDDwIOSlqW2LwKXAddJOgd4AvhQWrcQOAHoBv4AfAQgIp6V9GVgcdrukoh4toyDMDOzwRkw9CPiF4D6WH1Ug+0DOLeP95oNzB5KgWZmVh5fkWtmlhGHvplZRhz6ZmYZceibmWXEoW9mlhGHvplZRhz6ZmYZceibmWXEoW9mlhGHvplZRhz6ZmYZceibmWXEoW9mlhGHvplZRhz6ZmYZceibmWXEoW9mlhGHvplZRhz6ZmYZceibmWXEoW9mlhGHvplZRhz6ZmYZceibmWXEoW9mlhGHvplZRgYMfUmzJT0jaXld2yxJqyUtSz8n1K37gqRuSQ9LOrau/bjU1i1pZvmHYmZmAxnMmf4c4LgG7VdExIHpZyGApKnAacC09JpvSdpW0rbAN4HjganA6WlbMzNrou0G2iAifiapc5DvNx2YFxF/BB6T1A0cmtZ1R8SjAJLmpW1XDr1kMzMbrpH06Z8n6YHU/bNLatsTeLJum57U1le7mZk10XBD/0rgzcCBwBrg8rIKkjRD0hJJS9auXVvW25qZGcMM/Yh4OiI2R8RLwLd5uQtnNTCpbtOJqa2v9kbvfXVEdEVEV0dHx3DKMzOzPgwr9CXtUff0ZKA2smcBcJqk7SVNBqYA9wKLgSmSJkt6FcWXvQuGX7aZmQ3HgF/kSvohcDgwQVIPcDFwuKQDgQAeBz4BEBErJF1H8QXtJuDciNic3uc84HZgW2B2RKwo+2DMzKx/gxm9c3qD5mv62f5S4NIG7QuBhUOqzszMSuUrcs3MMuLQNzPLiEPfzCwjDn0zs4w49M3MMuLQNzPLiEPfzCwjDn0zs4w49M3MMuLQNzPLiEPfzCwjDn0zs4w49M3MMuLQNzPLiEPfzCwjDn0zs4w49M3MMjLgnbPMmq1z5q1N3d/jl53Y1P2ZVcln+mZmGXHom5llxKFvZpYRh76ZWUYc+mZmGXHom5llxKFvZpYRh76ZWUYGDH1JsyU9I2l5XdvrJS2S9Eh63CW1S9LXJXVLekDSwXWvOStt/4iks0bncMzMrD+DOdOfAxzXq20mcEdETAHuSM8BjgempJ8ZwJVQfEgAFwPvBA4FLq59UJiZWfMMGPoR8TPg2V7N04G5aXku8P669u9G4R5gZ0l7AMcCiyLi2Yh4DljEKz9IzMxslA23T3/3iFiTlp8Cdk/LewJP1m3Xk9r6ajczsyYa8Re5ERFAlFALAJJmSFoiacnatWvLelszM2P4of906rYhPT6T2lcDk+q2m5ja+mp/hYi4OiK6IqKro6NjmOWZmVkjww39BUBtBM5ZwM117WemUTyHAetTN9DtwDGSdklf4B6T2szMrIkGnE9f0g+Bw4EJknooRuFcBlwn6RzgCeBDafOFwAlAN/AH4CMAEfGspC8Di9N2l0RE7y+HzcxslA0Y+hFxeh+rjmqwbQDn9vE+s4HZQ6rOzMxK5Styzcwy4tA3M8uIQ9/MLCMOfTOzjDj0zcwy4tA3M8uIQ9/MLCMOfTOzjDj0zcwy4tA3M8uIQ9/MLCMOfTOzjAw44ZqZlatz5q1N3d/jl53Y1P3Z2OYzfTOzjDj0zcwy4tA3M8uIQ9/MLCMOfTOzjDj0zcwy4tA3M8uIQ9/MLCMOfTOzjDj0zcwy4tA3M8uIQ9/MLCMOfTOzjIwo9CU9LulBScskLUltr5e0SNIj6XGX1C5JX5fULekBSQeXcQBmZjZ4ZZzpHxERB0ZEV3o+E7gjIqYAd6TnAMcDU9LPDODKEvZtZmZDMBrdO9OBuWl5LvD+uvbvRuEeYGdJe4zC/s3MrA8jDf0AfiJpqaQZqW33iFiTlp8Cdk/LewJP1r22J7WZmVmTjPTOWe+JiNWSdgMWSXqofmVEhKQYyhumD48ZAHvttdcIyzMzs3ojOtOPiNXp8RngRuBQ4Olat016fCZtvhqYVPfyiamt93teHRFdEdHV0dExkvLMzKyXYYe+pNdI2qm2DBwDLAcWAGelzc4Cbk7LC4Az0yiew4D1dd1AZmbWBCPp3tkduFFS7X1+EBG3SVoMXCfpHOAJ4ENp+4XACUA38AfgIyPYt5mZDcOwQz8iHgUOaNC+DjiqQXsA5w53f2ZmNnK+ItfMLCMOfTOzjDj0zcwy4tA3M8uIQ9/MLCMOfTOzjDj0zcwy4tA3M8uIQ9/MLCMOfTOzjDj0zcwy4tA3M8uIQ9/MLCMOfTOzjDj0zcwy4tA3M8uIQ9/MLCMOfTOzjDj0zcwy4tA3M8uIQ9/MLCMOfTOzjDj0zcwy4tA3M8vIdlUXYGbtpXPmrU3d3+OXndjU/bU6n+mbmWXEZ/otyGdSZjZcTT/Tl3ScpIcldUua2ez9m5nlrKmhL2lb4JvA8cBU4HRJU5tZg5lZzprdvXMo0B0RjwJImgdMB1Y2uQ4zsyFrh67VZnfv7Ak8Wfe8J7WZmVkTKCKatzPpg8BxEfGx9PzDwDsj4ry6bWYAM9LTfYGHm1YgTAB+28T9NZuPr7X5+FpXs49t74joaLSi2d07q4FJdc8nprYtIuJq4OpmFlUjaUlEdFWx72bw8bU2H1/rGkvH1uzuncXAFEmTJb0KOA1Y0OQazMyy1dQz/YjYJOk84HZgW2B2RKxoZg1mZjlr+sVZEbEQWNjs/Q5SJd1KTeTja20+vtY1Zo6tqV/kmplZtTz3jplZRhz6ZmYZceibmWUk+1k2JXUAn6eYC2h8rT0ijqysqBJJEnAG8KaIuETSXsAbIuLeiksbNklHRsSdkj7QaH1E/KjZNY0mSbux9f/N/1dhOaWQ9Pr+1kfEs82qpWySHgT6/LI0It7exHJeIfvQB64F/hk4EfgkcBawttKKyvUt4CXgSOASYANwA/COKosaof8C3An81wbrAmiL0Jd0EnA58EbgGWBvYBUwrcq6SrKU4t9KDdYF8KbmllOq96XHc9Pj99LjGRXU8grZj96RtDQiDpH0QO0TWNLiiGjlUNxC0n0RcbCkX0XEQant/og4oOrarH+S7qf4sP5pRBwk6Qjgv0XEORWXZoNQ/ztX13ZfRBxcVU3gM32AjelxjaQTgd8A/f7p2WI2pimtA7Z0Z71UbUkjI+mi/tZHxNeaVcso2xgR6yRtI2mbiLhL0t9XXVQZJO0XEQ9JahiAEXFfs2saBZL07oj49/TkXYyB71Ed+vA3kl4HfAb4BvBa4NPVllSqrwM3ArtJuhT4IPA/qy1pxHaquoAmeV7SjsDPgGslPQP8R8U1leUiiokVL2+wLij+wml15wCzU74IeA74aLUluXsnC5L2A46i+I93R0SsqrgkGwRJrwFepPh3OwN4HXBtRKyrtDAbkhT6RMT6qmuBjENf0uci4iuSvkGDb9oj4oIKyipNO4+OqJE0nuJsahpbj26p/GzKBkfSr4G/i4ir6tp+HBHv6+dlLUHS9sCfA53U9apExCVV1QR5d+/UznaXVFrF6Gk0OqL2vNVHR9R8D3gIOJZiZNIZvPzv2rIkbaD/IX+vbWI5o20jcISkdwKfiIj/pH1urHQzsJ7id/GPFdeyRbZn+tb6aqMjaiOvJI0Dfh4Rh1VdWxkkfRlYQ/HhVuvi2SMi/qrSwkpUN7rscxRnxacAN1U9wqUMkpZHxP5V19Fbtmf6km6h/7Opk5pYTukyGR1RG3n1vKT9gaeA3Sqsp2wn9Rpae2Uaxtk2oU/6SzR1td4H/IT2GT33fyW9LSIerLqQetmGPvDV9PgB4A3A99Pz04GnK6moXDmMjrha0i4Uo5EWADsC/6vakkr1H5LOAOZR/JudTvuM3qnZ8gEWET+VdAxwdnXllOo9wNmSHqPo3hEQVV+Rm333TqPbmI2lW5tZ3yRNjojHBmprVZI6gX8A3k0R+v8OXBgRj1dYVunSB/cUtv4y/mfVVVQOSXs3ao+IJ5pdS72cz/RrXiPpTRHxKBShAbym4ppKlS4K6WTrEQTfrayg8twA9O6+mg8cUkEtpUvhPr3qOkaTpI8Bn6K4X/Yy4DDgbtrgL9FauPeeO6lqDv3iQqx/lfQoxZ9fewOfqLak8kj6HvBmil+ozak5gJYN/XTdwTTgdb0mXXstY+iXa6QyGZL6KYp5oO6JiCPSv+3fVlxTKcbq3EnZh35E3CZpCrBfanooIsbM8KoSdAFTo7368falmNRqZ7aedG0D8PEqCholbTkktZcXI+JFSUjaPg0+2LfqokryZYq/XLaaO6nimhz6ySG83P1xgKR26f4AWE7xRfWaqgspS0TcLOnHwOcjoi3OCvuwT0ScIml6RMyV9APg51UXVbIeSTsDNwGLJD0HVNrnXaIxOXdS9qHfjt0fsNWQ1J2AlZLupe4CkVYfkhoRmyW9nzbpCuhDuw9JJSJOTouzJN1FMdXEbRWWVKYxOXeSR+9Iq2i/7g8kfRzYnVeeGf4psCYirml+VeWSdAUwjuJ+CFt+mdrkGoTal5w3AG8HvkMxJPWv6qcsaGVp9tcVEbHfgBu3oLE6d5JDX7oeuCAi2qb7A4r5S4Av9L4wRNLbgL+NiEY3IGkp6cywt2iXu57lQNLNwPntcDewVpF99w4wgTbs/gB2b3QlYEQ8mMZ/t4NzakNtayS1w5xCwNidsKtkuwAr0u9f/V9rLfv718/cSbWLsyqdO8mhD7OqLmCU7NzPuh2aVcQom88rx+lfT5uM02eMTthVsna6ghqAiBjT93vIPvQj4t+qrmGULJH08Yj4dn1j6ideWlFNpchlnD4wMSKOq7qI0VT/+ydpArCuXb5f62N68w0RsbFBe9NkG/pj/U+wElwI3JjmbqmFfBfwKuDkvl7UInIZpz8mJ+wqg6TDgMuAZynGs3+Poqt1G0lnRkQ7jOC5D5hEcccsUfx/fUrS08DHI6KSk6/sv8htd+mCkNr0risi4s4q6ymTpD+JiLurrmO0SFoJ7AOMqQm7yiBpCfBFihEtVwPHR8Q96a+4H/a+oXgrkvRtYH5E3J6eH0PxHc13gH+IiHdWUpdD31qVpK8AfwO8QDG2++3ApyPi+/2+sEWM1Qm7yiBpWUQcmJZXRcRb69b9qk1C/8GIeFuvttq9H7Ycf7NVfmd2sxE4JiJ+R9HV8zjFWfH/qLSiEkXEEyngX6Doiqz9tIOX6pZf6LWuXY5xjaTPS9o7/XwOeDpdn/DSQC8eLdn26VtbGJceTwSuj4j1kvrbvqWM1Qm7SnKApN9RdFntkJZJz9vly/i/AC6mmGICiqmx/wLYFvhQRTU59K2l3SLpIYozxb+U1EFxBWS7GJMTdpUhIratuobRFhG/Bc7vY3V3M2up5z59a2lpWNz6NBfPq4HXRsRTVddVhtrNfNItEg+KiJck3d/rFoo2Rkl6C/BZXnlxXaVXjPtM31qWpDPrlutXtfRkeXXG5IRdNmjXA1cB/8TLkzlWzmf61rIkfaPu6XjgKOC+iPhgRSWVQtI+FJPlLaPoutqGYsKuvYFbqxrfbUMjaWlEjLmrwx361jbSvOzzWv0q1hwmy8uBpFkUX8DfyNbzej1bVU3g0Lc2ImkcxQVob6m6lpGQtDgi3tHHuleM/baxSdJjDZojIiqdFNB9+tay6m4UA8UwuLcC11VXUWl27mddu0yW1/YiYnLVNTTii7OslX2VYhz75RR30Dqb4k5hrW5JugnOVtphsrwcpIuwasun9FpX+Z3e3L1jLU3SQRQXvJxCMUfNDRHxj9VWNTKSdqfoB/5PGkyW1y5DUtuVpPsi4uDey42eV8HdO9Zy0vjn09PPbylul6iIOKLSwkoSEU8D7+o1Wd6t7TRZXptTH8uNnjedQ99a0UMU9/59X0R0A0j6dLUllS8i7gIa3RLSxrboY7nR86Zz6Fsr+gBwGnCXpNuAeYyBMyizZEzPK+Q+fWtZkl4DTKfo5jmS4krcGyPiJ5UWZjaGOfStLUjaheLL3FMj4qiq6zEbqxz6ZmYZ8Th9M7OMOPTNzDLi0LfsSHqDpHmSfi1pqaSFaex/We9/uKR3lfV+ZmVy6FtWVEy8fyPwrxHx5jT17RcopjIuy+FAw9CX5GHSVimHvuXmCGBjRFxVa4iI+4FfSPo7ScslPSjpVNhy1v7j2raS/lHS2Wn5cUl/Lem+9Jr9JHUCnwQ+LWmZpD+VNEfSVZJ+CXxF0iPp1o5I2kZSd+252WjzWYflZn8aT1r2AeBA4ABgArBY0s8G8X6/jYiDJf134LMR8TFJVwG/j4ivAkg6B5gIvCvd1nE9xU1R/h74M+D+iFg7wuMyGxSf6ZsV3gP8MCI2p7lv/g1oOKd9Lz9Kj0sp7oXal+sjonbLvNlA7VaPHwW+M/RyzYbHoW+5WQEM5RZ2m9j696T3ZfS1OyJtpv+/nLfc2zYingSelnQkcCjwL0Oox2xEHPqWmzuB7SXNqDVIejvwPHCqpG1T//p7gXuBJ4CpkrZPt2MczNW+Gxh4Xv9/Ar7P1n8BmI06h75lJYpL0E8G/iwN2VwB/G/gB8ADwP0UHwyfi4in0ln5dcDy9PirQezmFuDk2he5fWyzANgRd+1Yk3kaBrMKSOoCroiIvj4UzEaFR++YNZmkmcBfUozgMWsqn+mbmWXEffpmZhlx6JuZZcShb2aWEYe+mVlGHPpmZhlx6JuZZeT/A/UZsFuC0HEuAAAAAElFTkSuQmCC\n",
       "datasetInfos": [],
       "metadata": {},
       "removedWidgets": [],
       "type": "image"
      }
     },
     "output_type": "display_data"
    }
   ],
   "source": [
    "from pyspark.sql import SparkSession\n",
    "import pandas as pd\n",
    "\n",
    "query = f\"select count(i.number) as qte, l.Country from inc_gold.incident i, inc_gold.location l where i.location=l.Location and i.made_sla is false group by  l.Country\"\n",
    "\n",
    "result = spark.sql(query)\n",
    "result = result.toPandas()\n",
    "result.plot(kind='bar', x='Country', y='qte')"
   ]
  },
  {
   "cell_type": "markdown",
   "metadata": {
    "application/vnd.databricks.v1+cell": {
     "cellMetadata": {},
     "inputWidgets": {},
     "nuid": "51fea34d-51e2-4f79-b7ae-390c08bc2d5d",
     "showTitle": false,
     "tableResultSettingsMap": {},
     "title": ""
    }
   },
   "source": [
    "### 5.1.1 - P2 - Dentro do SLA por Pais"
   ]
  },
  {
   "cell_type": "code",
   "execution_count": 0,
   "metadata": {
    "application/vnd.databricks.v1+cell": {
     "cellMetadata": {
      "byteLimit": 2048000,
      "implicitDf": true,
      "rowLimit": 10000
     },
     "inputWidgets": {},
     "nuid": "d55c080f-6471-4592-b90f-30bebd429ddd",
     "showTitle": true,
     "tableResultSettingsMap": {},
     "title": "SQL Query"
    }
   },
   "outputs": [
    {
     "output_type": "display_data",
     "data": {
      "text/html": [
       "<style scoped>\n",
       "  .table-result-container {\n",
       "    max-height: 300px;\n",
       "    overflow: auto;\n",
       "  }\n",
       "  table, th, td {\n",
       "    border: 1px solid black;\n",
       "    border-collapse: collapse;\n",
       "  }\n",
       "  th, td {\n",
       "    padding: 5px;\n",
       "  }\n",
       "  th {\n",
       "    text-align: left;\n",
       "  }\n",
       "</style><div class='table-result-container'><table class='table-result'><thead style='background-color: white'><tr><th>Incidents</th><th>Country</th></tr></thead><tbody><tr><td>4782</td><td>India</td></tr><tr><td>93</td><td>Chile</td></tr><tr><td>2824</td><td>Austrtali</td></tr><tr><td>1170</td><td>Canada</td></tr><tr><td>144</td><td>Brazil</td></tr><tr><td>35</td><td>England</td></tr></tbody></table></div>"
      ]
     },
     "metadata": {
      "application/vnd.databricks.v1+output": {
       "addedWidgets": {},
       "aggData": [],
       "aggError": "",
       "aggOverflow": false,
       "aggSchema": [],
       "aggSeriesLimitReached": false,
       "aggType": "",
       "arguments": {},
       "columnCustomDisplayInfos": {},
       "data": [
        [
         4782,
         "India"
        ],
        [
         93,
         "Chile"
        ],
        [
         2824,
         "Austrtali"
        ],
        [
         1170,
         "Canada"
        ],
        [
         144,
         "Brazil"
        ],
        [
         35,
         "England"
        ]
       ],
       "datasetInfos": [],
       "dbfsResultPath": null,
       "isJsonSchema": true,
       "metadata": {},
       "overflow": false,
       "plotOptions": {
        "customPlotOptions": {},
        "displayType": "table",
        "pivotAggregation": null,
        "pivotColumns": null,
        "xColumns": null,
        "yColumns": null
       },
       "removedWidgets": [],
       "schema": [
        {
         "metadata": "{}",
         "name": "Incidents",
         "type": "\"long\""
        },
        {
         "metadata": "{}",
         "name": "Country",
         "type": "\"string\""
        }
       ],
       "type": "table"
      }
     },
     "output_type": "display_data"
    }
   ],
   "source": [
    "%sql select count(i.number) as Incidents, l.Country from inc_gold.incident i, inc_gold.location l where i.location=l.Location and i.made_sla is true group by  l.Country"
   ]
  },
  {
   "cell_type": "code",
   "execution_count": 0,
   "metadata": {
    "application/vnd.databricks.v1+cell": {
     "cellMetadata": {
      "byteLimit": 2048000,
      "rowLimit": 10000
     },
     "inputWidgets": {},
     "nuid": "523b33b6-9855-44a2-887a-5f12dbfb28b3",
     "showTitle": true,
     "tableResultSettingsMap": {},
     "title": "Gráfico"
    }
   },
   "outputs": [
    {
     "output_type": "stream",
     "name": "stdout",
     "output_type": "stream",
     "text": [
      "Out[66]: <AxesSubplot:xlabel='Country'>"
     ]
    },
    {
     "output_type": "display_data",
     "data": {
      "image/png": "[encoded data removed]"
     },
     "metadata": {
      "application/vnd.databricks.v1+output": {
       "addedWidgets": {},
       "arguments": {},
       "data": "data:image/png;base64,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\n",
       "datasetInfos": [],
       "metadata": {},
       "removedWidgets": [],
       "type": "image"
      }
     },
     "output_type": "display_data"
    }
   ],
   "source": [
    "query = f\"select count(i.number) as Incidents, l.Country from inc_gold.incident i, inc_gold.location l where i.location=l.Location and i.made_sla is true group by  l.Country\"\n",
    "\n",
    "result = spark.sql(query)\n",
    "result = result.toPandas()\n",
    "result.plot(kind='bar', x='Country', y='Incidents')"
   ]
  },
  {
   "cell_type": "markdown",
   "metadata": {
    "application/vnd.databricks.v1+cell": {
     "cellMetadata": {},
     "inputWidgets": {},
     "nuid": "23f72163-d015-4d69-971b-e74d2c3f00eb",
     "showTitle": false,
     "tableResultSettingsMap": {},
     "title": ""
    }
   },
   "source": [
    "### 5.1.3 - P3 - Tickets com SLA estourados por mês"
   ]
  },
  {
   "cell_type": "code",
   "execution_count": 0,
   "metadata": {
    "application/vnd.databricks.v1+cell": {
     "cellMetadata": {
      "byteLimit": 2048000,
      "implicitDf": true,
      "rowLimit": 10000
     },
     "inputWidgets": {},
     "nuid": "fff11775-9f10-494b-a49a-5cce6da988b4",
     "showTitle": true,
     "tableResultSettingsMap": {},
     "title": "SQL Query"
    }
   },
   "outputs": [
    {
     "output_type": "display_data",
     "data": {
      "text/html": [
       "<style scoped>\n",
       "  .table-result-container {\n",
       "    max-height: 300px;\n",
       "    overflow: auto;\n",
       "  }\n",
       "  table, th, td {\n",
       "    border: 1px solid black;\n",
       "    border-collapse: collapse;\n",
       "  }\n",
       "  th, td {\n",
       "    padding: 5px;\n",
       "  }\n",
       "  th {\n",
       "    text-align: left;\n",
       "  }\n",
       "</style><div class='table-result-container'><table class='table-result'><thead style='background-color: white'><tr><th>Incidents</th><th>Mes</th></tr></thead><tbody><tr><td>18</td><td>1</td></tr><tr><td>23</td><td>2</td></tr><tr><td>2968</td><td>3</td></tr><tr><td>868</td><td>4</td></tr><tr><td>956</td><td>5</td></tr><tr><td>2</td><td>7</td></tr><tr><td>6</td><td>8</td></tr><tr><td>5</td><td>9</td></tr><tr><td>7</td><td>10</td></tr><tr><td>4</td><td>11</td></tr><tr><td>4</td><td>12</td></tr></tbody></table></div>"
      ]
     },
     "metadata": {
      "application/vnd.databricks.v1+output": {
       "addedWidgets": {},
       "aggData": [],
       "aggError": "",
       "aggOverflow": false,
       "aggSchema": [],
       "aggSeriesLimitReached": false,
       "aggType": "",
       "arguments": {},
       "columnCustomDisplayInfos": {},
       "data": [
        [
         18,
         1
        ],
        [
         23,
         2
        ],
        [
         2968,
         3
        ],
        [
         868,
         4
        ],
        [
         956,
         5
        ],
        [
         2,
         7
        ],
        [
         6,
         8
        ],
        [
         5,
         9
        ],
        [
         7,
         10
        ],
        [
         4,
         11
        ],
        [
         4,
         12
        ]
       ],
       "datasetInfos": [],
       "dbfsResultPath": null,
       "isJsonSchema": true,
       "metadata": {
        "createTempViewForImplicitDf": true,
        "dataframeName": "_sqldf",
        "executionCount": 43
       },
       "overflow": false,
       "plotOptions": {
        "customPlotOptions": {},
        "displayType": "table",
        "pivotAggregation": null,
        "pivotColumns": null,
        "xColumns": null,
        "yColumns": null
       },
       "removedWidgets": [],
       "schema": [
        {
         "metadata": "{}",
         "name": "Incidents",
         "type": "\"long\""
        },
        {
         "metadata": "{}",
         "name": "Mes",
         "type": "\"integer\""
        }
       ],
       "type": "table"
      }
     },
     "output_type": "display_data"
    }
   ],
   "source": [
    "%sql\n",
    "select  count(number) Incidents, MONTH(opened_at_TS) Mes from inc_gold.incident where made_sla is false and opened_at_TS is not null group by MONTH(opened_at_TS) order by Mes ;\n"
   ]
  },
  {
   "cell_type": "code",
   "execution_count": 0,
   "metadata": {
    "application/vnd.databricks.v1+cell": {
     "cellMetadata": {
      "byteLimit": 2048000,
      "rowLimit": 10000
     },
     "inputWidgets": {},
     "nuid": "af9ce118-f834-4fe1-a32a-3f8790dd7bf2",
     "showTitle": true,
     "tableResultSettingsMap": {},
     "title": "Gráfico"
    }
   },
   "outputs": [
    {
     "output_type": "execute_result",
     "data": {
      "text/plain": [
       "<Axes: xlabel='Mes'>"
      ]
     },
     "execution_count": 44,
     "metadata": {},
     "output_type": "execute_result"
    },
    {
     "output_type": "display_data",
     "data": {
      "image/png": "[encoded data removed]",
      "text/plain": [
       "<Figure size 640x480 with 1 Axes>"
      ]
     },
     "metadata": {},
     "output_type": "display_data"
    }
   ],
   "source": [
    "query = f\"select  count(number) Incidents, MONTH(opened_at_TS) Mes from inc_gold.incident where made_sla is false and opened_at_TS is not null group by MONTH(opened_at_TS) order by Mes \"\n",
    "\n",
    "result = spark.sql(query)\n",
    "result = result.toPandas()\n",
    "result.plot(kind='bar', x='Mes', y='Incidents')"
   ]
  },
  {
   "cell_type": "markdown",
   "metadata": {
    "application/vnd.databricks.v1+cell": {
     "cellMetadata": {},
     "inputWidgets": {},
     "nuid": "b26a9299-cf9e-479b-a313-0a41618efd4d",
     "showTitle": false,
     "tableResultSettingsMap": {},
     "title": ""
    }
   },
   "source": [
    "### 5.1.4 - P4 - Tickets com Dentro do SLA por mês"
   ]
  },
  {
   "cell_type": "code",
   "execution_count": 0,
   "metadata": {
    "application/vnd.databricks.v1+cell": {
     "cellMetadata": {
      "byteLimit": 2048000,
      "implicitDf": true,
      "rowLimit": 10000
     },
     "inputWidgets": {},
     "nuid": "a5e30061-7b43-467c-a009-5c5428c748ef",
     "showTitle": true,
     "tableResultSettingsMap": {},
     "title": "SQL Query"
    }
   },
   "outputs": [
    {
     "output_type": "display_data",
     "data": {
      "text/html": [
       "<style scoped>\n",
       "  .table-result-container {\n",
       "    max-height: 300px;\n",
       "    overflow: auto;\n",
       "  }\n",
       "  table, th, td {\n",
       "    border: 1px solid black;\n",
       "    border-collapse: collapse;\n",
       "  }\n",
       "  th, td {\n",
       "    padding: 5px;\n",
       "  }\n",
       "  th {\n",
       "    text-align: left;\n",
       "  }\n",
       "</style><div class='table-result-container'><table class='table-result'><thead style='background-color: white'><tr><th>Incidents</th><th>Mes</th></tr></thead><tbody><tr><td>28</td><td>1</td></tr><tr><td>125</td><td>2</td></tr><tr><td>2092</td><td>3</td></tr><tr><td>3525</td><td>4</td></tr><tr><td>3279</td><td>5</td></tr><tr><td>3</td><td>6</td></tr><tr><td>2</td><td>7</td></tr><tr><td>4</td><td>8</td></tr><tr><td>5</td><td>9</td></tr><tr><td>3</td><td>10</td></tr><tr><td>10</td><td>11</td></tr><tr><td>9</td><td>12</td></tr></tbody></table></div>"
      ]
     },
     "metadata": {
      "application/vnd.databricks.v1+output": {
       "addedWidgets": {},
       "aggData": [],
       "aggError": "",
       "aggOverflow": false,
       "aggSchema": [],
       "aggSeriesLimitReached": false,
       "aggType": "",
       "arguments": {},
       "columnCustomDisplayInfos": {},
       "data": [
        [
         28,
         1
        ],
        [
         125,
         2
        ],
        [
         2092,
         3
        ],
        [
         3525,
         4
        ],
        [
         3279,
         5
        ],
        [
         3,
         6
        ],
        [
         2,
         7
        ],
        [
         4,
         8
        ],
        [
         5,
         9
        ],
        [
         3,
         10
        ],
        [
         10,
         11
        ],
        [
         9,
         12
        ]
       ],
       "datasetInfos": [],
       "dbfsResultPath": null,
       "isJsonSchema": true,
       "metadata": {
        "createTempViewForImplicitDf": true,
        "dataframeName": "_sqldf",
        "executionCount": 47
       },
       "overflow": false,
       "plotOptions": {
        "customPlotOptions": {},
        "displayType": "table",
        "pivotAggregation": null,
        "pivotColumns": null,
        "xColumns": null,
        "yColumns": null
       },
       "removedWidgets": [],
       "schema": [
        {
         "metadata": "{}",
         "name": "Incidents",
         "type": "\"long\""
        },
        {
         "metadata": "{}",
         "name": "Mes",
         "type": "\"integer\""
        }
       ],
       "type": "table"
      }
     },
     "output_type": "display_data"
    }
   ],
   "source": [
    "%sql\n",
    "select  count(number) Incidents, MONTH(opened_at_TS) Mes from inc_gold.incident where made_sla is true and opened_at_TS is not null group by MONTH(opened_at_TS) order by Mes ;\n"
   ]
  },
  {
   "cell_type": "code",
   "execution_count": 0,
   "metadata": {
    "application/vnd.databricks.v1+cell": {
     "cellMetadata": {
      "byteLimit": 2048000,
      "rowLimit": 10000
     },
     "inputWidgets": {},
     "nuid": "b5f02bcf-b075-40e4-9a3c-e030fed139d3",
     "showTitle": true,
     "tableResultSettingsMap": {},
     "title": "Gráfico"
    }
   },
   "outputs": [
    {
     "output_type": "execute_result",
     "data": {
      "text/plain": [
       "<Axes: xlabel='Mes'>"
      ]
     },
     "execution_count": 48,
     "metadata": {},
     "output_type": "execute_result"
    },
    {
     "output_type": "display_data",
     "data": {
      "image/png": "[encoded data removed]",
      "text/plain": [
       "<Figure size 640x480 with 1 Axes>"
      ]
     },
     "metadata": {},
     "output_type": "display_data"
    }
   ],
   "source": [
    "query = f\"select  count(number) Incidents, MONTH(opened_at_TS) Mes from inc_gold.incident where made_sla is true and opened_at_TS is not null group by MONTH(opened_at_TS) order by Mes \"\n",
    "\n",
    "result = spark.sql(query)\n",
    "result = result.toPandas()\n",
    "result.plot(kind='bar', x='Mes', y='Incidents')"
   ]
  },
  {
   "cell_type": "markdown",
   "metadata": {
    "application/vnd.databricks.v1+cell": {
     "cellMetadata": {},
     "inputWidgets": {},
     "nuid": "f19845e8-bbfe-4ab4-82a5-bcccccf22e6f",
     "showTitle": false,
     "tableResultSettingsMap": {},
     "title": ""
    }
   },
   "source": [
    "# 6 - Autoavaliação\n",
    "A escolha do dataset relacionado a Incidentes foi fácil porque eu já estou bastante familiarizado com esse universo. A aquisição do mesmo, foi fácil devido a facilidade que o site  https://www.kaggle.com/  proporciona.\n",
    "\n",
    "Encontrei bastante dificuldade na transformação das datas que vieram em STRING e que as vezes vinham em formatos para o TIMESTAMP, pois no CSV, as datas vieram com  distintos formatos  d/m/yyyy mm:ss, as vezes dd/m/yyyyy mm:ss e as vezes d/mm/yyyy mm:ss. Foram horas buscando conhecimento para fazer essa conversão usando o Pyspark\n",
    "Verifiquei que na criação das tabelas do banco de dados alguns dados das colunas referente a DATAS, foram importados no NULL. Acredito que haja algum problema com o TIMESTAMP do Dataframe  x o TIMESTAMP do banco de Dados. Eu ainda estou verificando como revolver esse problema. \n",
    "\n",
    "Gostaria de ter proposto mais perguntas, mas devido ao tempo escasso, não foi possível ter mais tempo para aumentar a análise do dataset. \n"
   ]
  },
  {
   "cell_type": "markdown",
   "metadata": {
    "application/vnd.databricks.v1+cell": {
     "cellMetadata": {},
     "inputWidgets": {},
     "nuid": "87e6f164-5c0a-4038-9d2e-9a07fed2bdd7",
     "showTitle": false,
     "tableResultSettingsMap": {},
     "title": ""
    }
   },
   "source": [
    "# 8\tPrincipais ferramentas utilizadas:\n",
    "\n",
    "- Databricks Community\n",
    "- Apache Spark (PySpark e Spark SQL)\n",
    "- Python / Pandas\n",
    "- SQL\n"
   ]
  },
  {
   "cell_type": "markdown",
   "metadata": {
    "application/vnd.databricks.v1+cell": {
     "cellMetadata": {},
     "inputWidgets": {},
     "nuid": "18fcf185-fa98-4b84-a18f-fcbd21e4ea2a",
     "showTitle": false,
     "tableResultSettingsMap": {},
     "title": ""
    }
   },
   "source": []
  },
  {
   "cell_type": "markdown",
   "metadata": {
    "application/vnd.databricks.v1+cell": {
     "cellMetadata": {},
     "inputWidgets": {},
     "nuid": "ecfe563a-4b1a-43a1-b6c6-976d533cac2a",
     "showTitle": false,
     "tableResultSettingsMap": {},
     "title": ""
    }
   },
   "source": []
  }
 ],
 "metadata": {
  "application/vnd.databricks.v1+notebook": {
   "computePreferences": null,
   "dashboards": [],
   "environmentMetadata": {
    "base_environment": "",
    "environment_version": "1"
   },
   "inputWidgetPreferences": null,
   "language": "python",
   "notebookMetadata": {
    "mostRecentlyExecutedCommandWithImplicitDF": {
     "commandId": 2249599879401359,
     "dataframes": [
      "_sqldf"
     ]
    },
    "pythonIndentUnit": 4
   },
   "notebookName": "Fabio Martins - MVP - Eng Dados - 2025-04-09 V1.1",
   "widgets": {}
  }
 },
 "nbformat": 4,
 "nbformat_minor": 0
}