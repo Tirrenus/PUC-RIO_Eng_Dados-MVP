{
 "cells": [
  {
   "cell_type": "markdown",
   "metadata": {
    "application/vnd.databricks.v1+cell": {
     "cellMetadata": {},
     "inputWidgets": {},
     "nuid": "aac23b07-a6a9-4391-903d-b81399da0964",
     "showTitle": false,
     "tableResultSettingsMap": {},
     "title": ""
    }
   },
   "source": [
    "# MVP - PUC_RIO - Engenharia de Dados\n",
    "- **Curso Ciência de Dados e Analytics - Abril/2025**\n",
    "\n",
    "  - Aluno:      Fabio Nunes Martins. \n",
    "  - Professor:  Victor Almeida\n",
    "  - Professor:  Jose Boaro"
   ]
  },
  {
   "cell_type": "markdown",
   "metadata": {
    "application/vnd.databricks.v1+cell": {
     "cellMetadata": {},
     "inputWidgets": {},
     "nuid": "073c0d8a-f0e3-4ba2-9401-70b5281208d3",
     "showTitle": false,
     "tableResultSettingsMap": {},
     "title": ""
    }
   },
   "source": [
    "#1 - Objetivo\n",
    "\n"
   ]
  },
  {
   "cell_type": "markdown",
   "metadata": {
    "application/vnd.databricks.v1+cell": {
     "cellMetadata": {},
     "inputWidgets": {},
     "nuid": "2002f4c1-8f89-437b-9fd8-51ce1f128d20",
     "showTitle": false,
     "tableResultSettingsMap": {},
     "title": ""
    },
    "jupyter": {
     "outputs_hidden": true
    }
   },
   "source": [
    "Este MVP visa disponibilizar uma análise de dados para apoiar as decisões gerencias sobre a performance de uma equipe de suporte espalhada em diversos escritórios em países diferentes. Essas equipes tratam Tickets de Incidentes com Prioridades (Low, Moderate, High e Critical ).\n",
    "Para cada tipo de Prioridade existe um SLA ( Service Level Agreement), que limita o tempo máximo para a resolução de cada ticket de Incidente criado.\n",
    "\n",
    "Este estudo ajudara na renovação do contrato e readequação da equipe.\n",
    "\n",
    "\n",
    "Baseado nisso, esse MVP tem como objetivo responder as seguintes perguntas:\n",
    " \n",
    " **P1** – Qual é o número de Tickets/países (locations), em que os Incidentes NÃO foram atendidos dentro do prazo estimado por sua Prioridade?\n",
    "\n",
    " **P2** – Qual é o número de Tickets/países (locations), em que os Incidentes FORAM atendidos dentro do prazo estimado por sua Prioridade?\n",
    "\n",
    " **P3** – Qual é o número de Tickets/mês, em que os Incidentes NÃO foram atendidos dentro do prazo estimado por sua Prioridade?\n",
    "\n",
    " **P4** – Qual é o número de Tickets/mês, em que os Incidentes FORAM atendidos dentro do prazo estimado por sua Prioridade?\n"
   ]
  },
  {
   "cell_type": "markdown",
   "metadata": {
    "application/vnd.databricks.v1+cell": {
     "cellMetadata": {},
     "inputWidgets": {},
     "nuid": "fc78956f-bf2d-4929-a980-6190d4167115",
     "showTitle": false,
     "tableResultSettingsMap": {},
     "title": ""
    }
   },
   "source": [
    "#2 - Coleta dos Dados\n",
    "\n",
    "Origem dos dados: \n",
    "- incident_event_log.csv - Kraggle - https://www.kaggle.com/datasets/shamiulislamshifat/it-incident-log-dataset\n",
    "- incident_location_log.csv - Dado montado manualmente.\n",
    "\n",
    "O arquivo **incident_event_log.csv** foi baixado manualmente do site https://www.kaggle.com/datasets/shamiulislamshifat/it-incident-log-dataset . Esse dataset foi ecolhido porque **não contém dados sensíveis** que identifiquem empresas ou pessoas reais.\n",
    "\n",
    "Uma vez baixado, foi feito o upload dos arquivos _incident_event_log.csv_ e _incident_location_log.csv_  na **NUVEM**. Os arquivos foram armazenados no **DBFS** do **Databricks** conforme podemos ver ne evidencia abaixo:\n",
    "\n",
    "\n",
    ".\n",
    "\n",
    "<img src=\"https://raw.githubusercontent.com/Tirrenus/PUC-RIO_Eng_Dados-MVP/main/img/DBFS_CSVs.png\" style=\"width:200px;height:200px;\">"
   ]
  },
  {
   "cell_type": "code",
   "execution_count": 0,
   "metadata": {
    "application/vnd.databricks.v1+cell": {
     "cellMetadata": {
      "byteLimit": 2048000,
      "rowLimit": 10000
     },
     "inputWidgets": {},
     "nuid": "061159b1-665e-43a4-bf39-4c9683cfb2ba",
     "showTitle": false,
     "tableResultSettingsMap": {},
     "title": ""
    }
   },
   "outputs": [
    {
     "output_type": "display_data",
     "data": {
      "text/html": [
       "<img src=\"https://raw.githubusercontent.com/Tirrenus/PUC-RIO_Eng_Dados-MVP/main/img/DBFS_CSVs.png\"/>"
      ]
     },
     "metadata": {
      "application/vnd.databricks.v1+output": {
       "addedWidgets": {},
       "arguments": {},
       "data": "<img src=\"https://raw.githubusercontent.com/Tirrenus/PUC-RIO_Eng_Dados-MVP/main/img/DBFS_CSVs.png\"/>",
       "datasetInfos": [],
       "metadata": {},
       "removedWidgets": [],
       "textData": null,
       "type": "htmlSandbox"
      }
     },
     "output_type": "display_data"
    }
   ],
   "source": [
    "from IPython.display import Image, display\n",
    "\n",
    "# URL da imagem em versão raw do GitHub\n",
    "image_url = \"https://raw.githubusercontent.com/Tirrenus/PUC-RIO_Eng_Dados-MVP/main/img/DBFS_CSVs.png\"\n",
    "\n",
    "# Exibe a imagem no notebook\n",
    "display(Image(url=image_url))"
   ]
  },
  {
   "cell_type": "markdown",
   "metadata": {
    "application/vnd.databricks.v1+cell": {
     "cellMetadata": {},
     "inputWidgets": {},
     "nuid": "af5213c5-e5b5-4680-b0c4-86e75a4e0a49",
     "showTitle": false,
     "tableResultSettingsMap": {},
     "title": ""
    }
   },
   "source": [
    "# 4 - Modelagem\n",
    "\n",
    "\n"
   ]
  },
  {
   "cell_type": "markdown",
   "metadata": {
    "application/vnd.databricks.v1+cell": {
     "cellMetadata": {},
     "inputWidgets": {},
     "nuid": "2a3f2826-6520-497d-9942-607b1cd2480c",
     "showTitle": false,
     "tableResultSettingsMap": {},
     "title": ""
    }
   },
   "source": [
    "Para a análise dos dados do problema proposto, optei pelo esquema Multidimensional  ESTRELA (Data Warehouse). Contando com uma tabela FATO e uma tabela DIMENSÃO.\n",
    "\n",
    "Abaixo o modelo de dados baseado na Camada GOLD:\n",
    "\n",
    ".\n",
    "\n",
    "<img src=\"https://raw.githubusercontent.com/Tirrenus/PUC-RIO_Eng_Dados-MVP/main/img/Modelo_de_Dados.png\" style=\"width:42px;height:42px;\">"
   ]
  },
  {
   "cell_type": "markdown",
   "metadata": {
    "application/vnd.databricks.v1+cell": {
     "cellMetadata": {},
     "inputWidgets": {},
     "nuid": "2dfc3efa-2d6a-4a68-a43f-4d36d81cb2b2",
     "showTitle": false,
     "tableResultSettingsMap": {},
     "title": ""
    }
   },
   "source": [
    "#5 - Catalogos de Dados"
   ]
  },
  {
   "cell_type": "markdown",
   "metadata": {
    "application/vnd.databricks.v1+cell": {
     "cellMetadata": {},
     "inputWidgets": {},
     "nuid": "d6b93816-350f-4bb4-816f-d43f26d6ea51",
     "showTitle": false,
     "tableResultSettingsMap": {},
     "title": ""
    }
   },
   "source": [
    "### 5.1 - Catalogo - Camada BRONZE"
   ]
  },
  {
   "cell_type": "markdown",
   "metadata": {
    "application/vnd.databricks.v1+cell": {
     "cellMetadata": {},
     "inputWidgets": {},
     "nuid": "5d8755b7-1af6-4d06-b1fb-4de9c80fef40",
     "showTitle": false,
     "tableResultSettingsMap": {},
     "title": ""
    }
   },
   "source": [
    "\n",
    "\n",
    "**incident_event_log.csv** \n",
    "\n",
    "<img src=\"https://raw.githubusercontent.com/Tirrenus/PUC-RIO_Eng_Dados-MVP/main/img/tabela_location.png\" style=\"width:42px;height:42px;\" class=\"center\">\n",
    "\n",
    "\n",
    "\n",
    "\n",
    "**incident_location_log.csv**\n",
    "\n",
    "<img src=\"https://raw.githubusercontent.com/Tirrenus/PUC-RIO_Eng_Dados-MVP/main/img/tabela_incident_Bronze.png\" style=\"width:42px;height:42px;\" class=\"center\">\n",
    "\n",
    "\n",
    "\n"
   ]
  },
  {
   "cell_type": "markdown",
   "metadata": {
    "application/vnd.databricks.v1+cell": {
     "cellMetadata": {},
     "inputWidgets": {},
     "nuid": "a5d52855-1748-42b6-af8e-4df42d3b5418",
     "showTitle": false,
     "tableResultSettingsMap": {},
     "title": ""
    }
   },
   "source": [
    "### 5.2 - Catalogo - Camada SILVER\n"
   ]
  },
  {
   "cell_type": "markdown",
   "metadata": {
    "application/vnd.databricks.v1+cell": {
     "cellMetadata": {},
     "inputWidgets": {},
     "nuid": "c41fae86-0869-47ca-9077-f3cac763bfb0",
     "showTitle": false,
     "tableResultSettingsMap": {},
     "title": ""
    }
   },
   "source": [
    "\n",
    "\n",
    "**Tabela = inc_silver.location**\n",
    "\n",
    "<img src=\"https://raw.githubusercontent.com/Tirrenus/PUC-RIO_Eng_Dados-MVP/main/img/tabela_location.png\" style=\"width:42px;height:42px;\">\n",
    "\n",
    "\n",
    "\n",
    "\n",
    "**Tabela = inc_silver.incident**\n",
    "\n",
    "<img src=\"https://raw.githubusercontent.com/Tirrenus/PUC-RIO_Eng_Dados-MVP/main/img/tabela_incident_Silver.png\" style=\"width:42px;height:42px;\">\n",
    "\n",
    "\n",
    "\n"
   ]
  },
  {
   "cell_type": "markdown",
   "metadata": {
    "application/vnd.databricks.v1+cell": {
     "cellMetadata": {},
     "inputWidgets": {},
     "nuid": "c96cf76a-d84a-49dc-919e-7e944f116319",
     "showTitle": false,
     "tableResultSettingsMap": {},
     "title": ""
    }
   },
   "source": [
    "### 5.3 - Catalogo - Camada  Gold\n",
    "\n",
    "\n",
    "\n",
    "\n"
   ]
  },
  {
   "cell_type": "markdown",
   "metadata": {
    "application/vnd.databricks.v1+cell": {
     "cellMetadata": {},
     "inputWidgets": {},
     "nuid": "24072f02-1964-4920-bac6-369718a7e512",
     "showTitle": false,
     "tableResultSettingsMap": {},
     "title": ""
    }
   },
   "source": [
    "\n",
    "\n",
    "**Tabela = inc_gold.location** \n",
    "\n",
    "<img src=\"https://raw.githubusercontent.com/Tirrenus/PUC-RIO_Eng_Dados-MVP/main/img/tabela_location.png\" style=\"width:42px;height:42px;\">\n",
    "\n",
    "\n",
    "\n",
    "\n",
    "**Tabela = inc_gold.incident**\n",
    "\n",
    "<img src=\"https://raw.githubusercontent.com/Tirrenus/PUC-RIO_Eng_Dados-MVP/main/img/tabela_incident_Gold.png\" style=\"width:42px;height:42px;\">\n",
    "\n",
    "\n",
    "\n"
   ]
  },
  {
   "cell_type": "markdown",
   "metadata": {
    "application/vnd.databricks.v1+cell": {
     "cellMetadata": {},
     "inputWidgets": {},
     "nuid": "1831777d-c3d7-4cc5-bb3b-0d8193c5862d",
     "showTitle": false,
     "tableResultSettingsMap": {},
     "title": ""
    }
   },
   "source": [
    "#6 - Carga dos Dados\n",
    "As carga dos dados foram feitas em etapas durante a implementação das diferentes camadas de dados apresentadas no decorre do Pipeline.\n",
    "\n",
    "\n",
    "Abaixo, podemos ver em qual item do Pipeline as carga foram feitas e executadas com sucesso:\n",
    "- **_Camada Bronze_**\n",
    "\n",
    "    - A carga dos dados foi feita a partir do dataset en formato .CSV a um dataframe PySpark e na sequerncia na base de dados **INC_BRONZE**.\n",
    "    - Evidencias no  item _**( 7.1.3 )**_  deste Notebook.\n",
    "\n",
    "\n",
    "- **_Camada Silver_** \n",
    "\n",
    "    - A carga dos dados foi feita a partir do dataset em ormato .CSV a um dataframe PySpark, algumas transformações foram feitas e na sequerncia na base de dados **INC_SILVER**.\n",
    "    - Evidencias no  item _**( 7.2.4 )**_  deste Notebook.\n",
    "  \n",
    "- **_Camada Gold_**\n",
    "    \n",
    "     - A carga dos dados foi feita a partir do dataset em ormato .CSV a um dataframe PySpark, algumas transformações foram feitas e na sequerncia na base de dados **INC_GOLD**\n",
    "     - Evidencias no item  _**( 7.3.2 )**_   deste Notebook."
   ]
  },
  {
   "cell_type": "markdown",
   "metadata": {
    "application/vnd.databricks.v1+cell": {
     "cellMetadata": {
      "byteLimit": 2048000,
      "rowLimit": 10000
     },
     "inputWidgets": {},
     "nuid": "3522c6c4-1d52-4ed2-ae9d-4345c45b7ebf",
     "showTitle": false,
     "tableResultSettingsMap": {},
     "title": ""
    }
   },
   "source": [
    "# 7 - Pipeline de Dados - ETL"
   ]
  },
  {
   "cell_type": "markdown",
   "metadata": {
    "application/vnd.databricks.v1+cell": {
     "cellMetadata": {},
     "inputWidgets": {},
     "nuid": "d5601139-92e8-423a-afc3-5fc2d24d139c",
     "showTitle": false,
     "tableResultSettingsMap": {},
     "title": ""
    }
   },
   "source": [
    "## 7.1 - **BRONZE** - Base de Dados - (141712 rows) \n",
    "\n"
   ]
  },
  {
   "cell_type": "markdown",
   "metadata": {
    "application/vnd.databricks.v1+cell": {
     "cellMetadata": {},
     "inputWidgets": {},
     "nuid": "69f66f8e-1614-458a-aa76-4e0c7529bd2f",
     "showTitle": false,
     "tableResultSettingsMap": {},
     "title": ""
    }
   },
   "source": [
    "###7.1.3 - Carga de Dados BRONZE"
   ]
  },
  {
   "cell_type": "code",
   "execution_count": 0,
   "metadata": {
    "application/vnd.databricks.v1+cell": {
     "cellMetadata": {
      "byteLimit": 2048000,
      "rowLimit": 10000
     },
     "inputWidgets": {},
     "nuid": "46506942-d5f9-43ed-980f-1739c17b372a",
     "showTitle": true,
     "tableResultSettingsMap": {},
     "title": "Import de Bibliotecas e  Dados"
    }
   },
   "outputs": [],
   "source": [
    "### Import de Bibliotecas e  Dados\n",
    "\n",
    "# Import\n",
    "from pyspark.sql.functions import *\n",
    "from pyspark.sql.types import *\n",
    "\n",
    "# Read CSV File\n",
    "incident_df = spark.read.csv(\"/FileStore/tables/incident_event_log.csv\", inferSchema=True, header=True)\n",
    "location_df = spark.read.csv(\"/FileStore/tables/incident_location_log.csv\", inferSchema=True, header=True)"
   ]
  },
  {
   "cell_type": "code",
   "execution_count": 0,
   "metadata": {
    "application/vnd.databricks.v1+cell": {
     "cellMetadata": {
      "byteLimit": 2048000,
      "rowLimit": 10000
     },
     "inputWidgets": {},
     "nuid": "dad256d9-b368-4cd5-867b-1932263f681d",
     "showTitle": true,
     "tableResultSettingsMap": {},
     "title": "Verificação de Dados - Incident"
    }
   },
   "outputs": [
    {
     "output_type": "stream",
     "name": "stdout",
     "output_type": "stream",
     "text": [
      "+----------+--------------+------+------------------+------------+-------------+--------+-----------+--------------+---------------+--------------+---------------+--------------+---------------+------------+------------+-----------+---------------+-----------+-------+----------+----------+------------+----------------+-----------+---------+-----------------------+-------------+----------+---+------+---------+-----------+---------------+---------------+--------------+\n|    number|incident_state|active|reassignment_count|reopen_count|sys_mod_count|made_sla|  caller_id|     opened_by|      opened_at|sys_created_by| sys_created_at|sys_updated_by| sys_updated_at|contact_type|    location|   category|    subcategory|  u_symptom|cmdb_ci|    impact|   urgency|    priority|assignment_group|assigned_to|knowledge|u_priority_confirmation|       notify|problem_id|rfc|vendor|caused_by|closed_code|    resolved_by|    resolved_at|     closed_at|\n+----------+--------------+------+------------------+------------+-------------+--------+-----------+--------------+---------------+--------------+---------------+--------------+---------------+------------+------------+-----------+---------------+-----------+-------+----------+----------+------------+----------------+-----------+---------+-----------------------+-------------+----------+---+------+---------+-----------+---------------+---------------+--------------+\n|INC0000045|           New|  true|                 0|           0|            0|    true|Caller 2403|  Opened by  8|29/2/2016 01:16|  Created by 6|29/2/2016 01:23| Updated by 21|29/2/2016 01:23|       Phone|Location 143|Category 55|Subcategory 170| Symptom 72|      ?|2 - Medium|2 - Medium|3 - Moderate|        Group 56|          ?|     true|                  false|Do Not Notify|         ?|  ?|     ?|        ?|     code 5|Resolved by 149|29/2/2016 11:29|5/3/2016 12:00|\n|INC0000045|      Resolved|  true|                 0|           0|            2|    true|Caller 2403|  Opened by  8|29/2/2016 01:16|  Created by 6|29/2/2016 01:23|Updated by 642|29/2/2016 08:53|       Phone|Location 143|Category 55|Subcategory 170| Symptom 72|      ?|2 - Medium|2 - Medium|3 - Moderate|        Group 56|          ?|     true|                  false|Do Not Notify|         ?|  ?|     ?|        ?|     code 5|Resolved by 149|29/2/2016 11:29|5/3/2016 12:00|\n|INC0000045|      Resolved|  true|                 0|           0|            3|    true|Caller 2403|  Opened by  8|29/2/2016 01:16|  Created by 6|29/2/2016 01:23|Updated by 804|29/2/2016 11:29|       Phone|Location 143|Category 55|Subcategory 170| Symptom 72|      ?|2 - Medium|2 - Medium|3 - Moderate|        Group 56|          ?|     true|                  false|Do Not Notify|         ?|  ?|     ?|        ?|     code 5|Resolved by 149|29/2/2016 11:29|5/3/2016 12:00|\n|INC0000045|        Closed| false|                 0|           0|            4|    true|Caller 2403|  Opened by  8|29/2/2016 01:16|  Created by 6|29/2/2016 01:23|Updated by 908| 5/3/2016 12:00|       Phone|Location 143|Category 55|Subcategory 170| Symptom 72|      ?|2 - Medium|2 - Medium|3 - Moderate|        Group 56|          ?|     true|                  false|Do Not Notify|         ?|  ?|     ?|        ?|     code 5|Resolved by 149|29/2/2016 11:29|5/3/2016 12:00|\n|INC0000047|           New|  true|                 0|           0|            0|    true|Caller 2403|Opened by  397|29/2/2016 04:40|Created by 171|29/2/2016 04:57|Updated by 746|29/2/2016 04:57|       Phone|Location 165|Category 40|Subcategory 215|Symptom 471|      ?|2 - Medium|2 - Medium|3 - Moderate|        Group 70|Resolver 89|     true|                  false|Do Not Notify|         ?|  ?|     ?|        ?|     code 5| Resolved by 81| 1/3/2016 09:52|6/3/2016 10:00|\n+----------+--------------+------+------------------+------------+-------------+--------+-----------+--------------+---------------+--------------+---------------+--------------+---------------+------------+------------+-----------+---------------+-----------+-------+----------+----------+------------+----------------+-----------+---------+-----------------------+-------------+----------+---+------+---------+-----------+---------------+---------------+--------------+\nonly showing top 5 rows\n\n"
     ]
    }
   ],
   "source": [
    "### Verificação de Dados - Incident\n",
    "incident_df.show(5)"
   ]
  },
  {
   "cell_type": "code",
   "execution_count": 0,
   "metadata": {
    "application/vnd.databricks.v1+cell": {
     "cellMetadata": {
      "byteLimit": 2048000,
      "rowLimit": 10000
     },
     "inputWidgets": {},
     "nuid": "45dc67c9-68de-4f7f-bfc7-f924a53f54a0",
     "showTitle": true,
     "tableResultSettingsMap": {},
     "title": "Verificação de Dados - Location"
    }
   },
   "outputs": [
    {
     "output_type": "stream",
     "name": "stdout",
     "output_type": "stream",
     "text": [
      "+------------+---------+---------+----------+\n|    Location|     City|  Country|  TimeZone|\n+------------+---------+---------+----------+\n|Location 204|Hyderabad|    India|UTC + 5:30|\n|Location 108|     Pune|    India|UTC + 5:30|\n|Location 161| Camberra|Austrtali|  UTC + 10|\n| Location 18|   London|  England|   UTC + 0|\n| Location 55|São Paulo|   Brazil|   UTC - 3|\n| Location 56| Santiago|    Chile|   UTC - 3|\n| Location 93| Montreal|   Canada|   UTC - 4|\n+------------+---------+---------+----------+\n\n"
     ]
    }
   ],
   "source": [
    "### Verificação de Dados - Location\n",
    "location_df.show()"
   ]
  },
  {
   "cell_type": "markdown",
   "metadata": {
    "application/vnd.databricks.v1+cell": {
     "cellMetadata": {},
     "inputWidgets": {},
     "nuid": "14294ca1-64c2-4f6d-b5e3-64b2c854294d",
     "showTitle": false,
     "tableResultSettingsMap": {},
     "title": ""
    }
   },
   "source": [
    "###7.1.4 - Criando Base de Dados - BRONZE"
   ]
  },
  {
   "cell_type": "code",
   "execution_count": 0,
   "metadata": {
    "application/vnd.databricks.v1+cell": {
     "cellMetadata": {
      "byteLimit": 2048000,
      "implicitDf": true,
      "rowLimit": 10000
     },
     "inputWidgets": {},
     "nuid": "759b879e-2f11-4010-926b-5b8fc11bb1b5",
     "showTitle": true,
     "tableResultSettingsMap": {},
     "title": "Apagando o database \"BRONZE\" para ser recriado"
    }
   },
   "outputs": [
    {
     "output_type": "display_data",
     "data": {
      "text/html": [
       "<style scoped>\n",
       "  .table-result-container {\n",
       "    max-height: 300px;\n",
       "    overflow: auto;\n",
       "  }\n",
       "  table, th, td {\n",
       "    border: 1px solid black;\n",
       "    border-collapse: collapse;\n",
       "  }\n",
       "  th, td {\n",
       "    padding: 5px;\n",
       "  }\n",
       "  th {\n",
       "    text-align: left;\n",
       "  }\n",
       "</style><div class='table-result-container'><table class='table-result'><thead style='background-color: white'><tr></tr></thead><tbody></tbody></table></div>"
      ]
     },
     "metadata": {
      "application/vnd.databricks.v1+output": {
       "addedWidgets": {},
       "aggData": [],
       "aggError": "",
       "aggOverflow": false,
       "aggSchema": [],
       "aggSeriesLimitReached": false,
       "aggType": "",
       "arguments": {},
       "columnCustomDisplayInfos": {},
       "data": [],
       "datasetInfos": [],
       "dbfsResultPath": null,
       "isJsonSchema": true,
       "metadata": {},
       "overflow": false,
       "plotOptions": {
        "customPlotOptions": {},
        "displayType": "table",
        "pivotAggregation": null,
        "pivotColumns": null,
        "xColumns": null,
        "yColumns": null
       },
       "removedWidgets": [],
       "schema": [],
       "type": "table"
      }
     },
     "output_type": "display_data"
    }
   ],
   "source": [
    "\n",
    "%sql \n",
    "--- Apagando o database \"BRONZE\" para ser recriado\n",
    "DROP DATABASE IF EXISTS inc_bronze CASCADE;"
   ]
  },
  {
   "cell_type": "code",
   "execution_count": 0,
   "metadata": {
    "application/vnd.databricks.v1+cell": {
     "cellMetadata": {
      "byteLimit": 2048000,
      "implicitDf": true,
      "rowLimit": 10000
     },
     "inputWidgets": {},
     "nuid": "69ddcd48-c884-4e4c-8d7f-1f37e7618e77",
     "showTitle": true,
     "tableResultSettingsMap": {},
     "title": "Recriando o database \"BRONZE\""
    }
   },
   "outputs": [
    {
     "output_type": "display_data",
     "data": {
      "text/html": [
       "<style scoped>\n",
       "  .table-result-container {\n",
       "    max-height: 300px;\n",
       "    overflow: auto;\n",
       "  }\n",
       "  table, th, td {\n",
       "    border: 1px solid black;\n",
       "    border-collapse: collapse;\n",
       "  }\n",
       "  th, td {\n",
       "    padding: 5px;\n",
       "  }\n",
       "  th {\n",
       "    text-align: left;\n",
       "  }\n",
       "</style><div class='table-result-container'><table class='table-result'><thead style='background-color: white'><tr></tr></thead><tbody></tbody></table></div>"
      ]
     },
     "metadata": {
      "application/vnd.databricks.v1+output": {
       "addedWidgets": {},
       "aggData": [],
       "aggError": "",
       "aggOverflow": false,
       "aggSchema": [],
       "aggSeriesLimitReached": false,
       "aggType": "",
       "arguments": {},
       "columnCustomDisplayInfos": {},
       "data": [],
       "datasetInfos": [],
       "dbfsResultPath": null,
       "isJsonSchema": true,
       "metadata": {},
       "overflow": false,
       "plotOptions": {
        "customPlotOptions": {},
        "displayType": "table",
        "pivotAggregation": null,
        "pivotColumns": null,
        "xColumns": null,
        "yColumns": null
       },
       "removedWidgets": [],
       "schema": [],
       "type": "table"
      }
     },
     "output_type": "display_data"
    }
   ],
   "source": [
    "%sql \n",
    "--- Recriando o database \"BRONZE\"\n",
    "CREATE DATABASE inc_bronze;"
   ]
  },
  {
   "cell_type": "code",
   "execution_count": 0,
   "metadata": {
    "application/vnd.databricks.v1+cell": {
     "cellMetadata": {
      "byteLimit": 2048000,
      "rowLimit": 10000
     },
     "inputWidgets": {},
     "nuid": "c00ce7b6-b8e1-408a-bdb5-db2b3c949a76",
     "showTitle": true,
     "tableResultSettingsMap": {},
     "title": "Criação da tabela LOCATION a partir do dataframe"
    }
   },
   "outputs": [],
   "source": [
    "###  Criação da tabela LOCATION a partir do dataframe\n",
    "location_df.write.mode(\"overwrite\").saveAsTable(\"inc_bronze.location\")"
   ]
  },
  {
   "cell_type": "code",
   "execution_count": 0,
   "metadata": {
    "application/vnd.databricks.v1+cell": {
     "cellMetadata": {
      "byteLimit": 2048000,
      "rowLimit": 10000
     },
     "inputWidgets": {},
     "nuid": "7762aa97-bafb-4caa-a7a5-2a33a95c31fd",
     "showTitle": true,
     "tableResultSettingsMap": {},
     "title": "Criação da tabela INCIDENT a partir do dataframe"
    }
   },
   "outputs": [],
   "source": [
    "###  Criação da tabela INCIDENT a partir do dataframe\n",
    "incident_df.write.mode(\"overwrite\").saveAsTable(\"inc_bronze.incident\")"
   ]
  },
  {
   "cell_type": "code",
   "execution_count": 0,
   "metadata": {
    "application/vnd.databricks.v1+cell": {
     "cellMetadata": {
      "byteLimit": 2048000,
      "implicitDf": true,
      "rowLimit": 10000
     },
     "inputWidgets": {},
     "nuid": "2beddb57-5102-4123-8572-80fc977623c2",
     "showTitle": true,
     "tableResultSettingsMap": {},
     "title": "Verificação se todas as linhas foram importadas no BD"
    }
   },
   "outputs": [
    {
     "output_type": "display_data",
     "data": {
      "text/html": [
       "<style scoped>\n",
       "  .table-result-container {\n",
       "    max-height: 300px;\n",
       "    overflow: auto;\n",
       "  }\n",
       "  table, th, td {\n",
       "    border: 1px solid black;\n",
       "    border-collapse: collapse;\n",
       "  }\n",
       "  th, td {\n",
       "    padding: 5px;\n",
       "  }\n",
       "  th {\n",
       "    text-align: left;\n",
       "  }\n",
       "</style><div class='table-result-container'><table class='table-result'><thead style='background-color: white'><tr><th>count(1)</th></tr></thead><tbody><tr><td>141712</td></tr></tbody></table></div>"
      ]
     },
     "metadata": {
      "application/vnd.databricks.v1+output": {
       "addedWidgets": {},
       "aggData": [],
       "aggError": "",
       "aggOverflow": false,
       "aggSchema": [],
       "aggSeriesLimitReached": false,
       "aggType": "",
       "arguments": {},
       "columnCustomDisplayInfos": {},
       "data": [
        [
         141712
        ]
       ],
       "datasetInfos": [],
       "dbfsResultPath": null,
       "isJsonSchema": true,
       "metadata": {},
       "overflow": false,
       "plotOptions": {
        "customPlotOptions": {},
        "displayType": "table",
        "pivotAggregation": null,
        "pivotColumns": null,
        "xColumns": null,
        "yColumns": null
       },
       "removedWidgets": [],
       "schema": [
        {
         "metadata": "{\"__autoGeneratedAlias\":\"true\"}",
         "name": "count(1)",
         "type": "\"long\""
        }
       ],
       "type": "table"
      }
     },
     "output_type": "display_data"
    }
   ],
   "source": [
    "%sql \n",
    "---  Verificação se todas as linhas foram importadas no BD\n",
    " select count(1) from inc_bronze.incident --141712"
   ]
  },
  {
   "cell_type": "code",
   "execution_count": 0,
   "metadata": {
    "application/vnd.databricks.v1+cell": {
     "cellMetadata": {
      "byteLimit": 2048000,
      "implicitDf": true,
      "rowLimit": 10000
     },
     "inputWidgets": {},
     "nuid": "9d235a1b-9f98-4ba1-911f-f83a0b96b5fa",
     "showTitle": true,
     "tableResultSettingsMap": {},
     "title": "Verificação  nos dados  da tabela LOCATION"
    }
   },
   "outputs": [
    {
     "output_type": "display_data",
     "data": {
      "text/html": [
       "<style scoped>\n",
       "  .table-result-container {\n",
       "    max-height: 300px;\n",
       "    overflow: auto;\n",
       "  }\n",
       "  table, th, td {\n",
       "    border: 1px solid black;\n",
       "    border-collapse: collapse;\n",
       "  }\n",
       "  th, td {\n",
       "    padding: 5px;\n",
       "  }\n",
       "  th {\n",
       "    text-align: left;\n",
       "  }\n",
       "</style><div class='table-result-container'><table class='table-result'><thead style='background-color: white'><tr><th>Location</th><th>City</th><th>Country</th><th>TimeZone</th></tr></thead><tbody><tr><td>Location 204</td><td>Hyderabad</td><td>India</td><td>UTC + 5:30</td></tr><tr><td>Location 108</td><td>Pune</td><td>India</td><td>UTC + 5:30</td></tr><tr><td>Location 161</td><td>Camberra</td><td>Austrtali</td><td>UTC + 10</td></tr><tr><td>Location 18</td><td>London</td><td>England</td><td>UTC + 0</td></tr><tr><td>Location 55</td><td>São Paulo</td><td>Brazil</td><td>UTC - 3</td></tr><tr><td>Location 56</td><td>Santiago</td><td>Chile</td><td>UTC - 3</td></tr><tr><td>Location 93</td><td>Montreal</td><td>Canada</td><td>UTC - 4</td></tr></tbody></table></div>"
      ]
     },
     "metadata": {
      "application/vnd.databricks.v1+output": {
       "addedWidgets": {},
       "aggData": [],
       "aggError": "",
       "aggOverflow": false,
       "aggSchema": [],
       "aggSeriesLimitReached": false,
       "aggType": "",
       "arguments": {},
       "columnCustomDisplayInfos": {},
       "data": [
        [
         "Location 204",
         "Hyderabad",
         "India",
         "UTC + 5:30"
        ],
        [
         "Location 108",
         "Pune",
         "India",
         "UTC + 5:30"
        ],
        [
         "Location 161",
         "Camberra",
         "Austrtali",
         "UTC + 10"
        ],
        [
         "Location 18",
         "London",
         "England",
         "UTC + 0"
        ],
        [
         "Location 55",
         "São Paulo",
         "Brazil",
         "UTC - 3"
        ],
        [
         "Location 56",
         "Santiago",
         "Chile",
         "UTC - 3"
        ],
        [
         "Location 93",
         "Montreal",
         "Canada",
         "UTC - 4"
        ]
       ],
       "datasetInfos": [],
       "dbfsResultPath": null,
       "isJsonSchema": true,
       "metadata": {},
       "overflow": false,
       "plotOptions": {
        "customPlotOptions": {},
        "displayType": "table",
        "pivotAggregation": null,
        "pivotColumns": null,
        "xColumns": null,
        "yColumns": null
       },
       "removedWidgets": [],
       "schema": [
        {
         "metadata": "{}",
         "name": "Location",
         "type": "\"string\""
        },
        {
         "metadata": "{}",
         "name": "City",
         "type": "\"string\""
        },
        {
         "metadata": "{}",
         "name": "Country",
         "type": "\"string\""
        },
        {
         "metadata": "{}",
         "name": "TimeZone",
         "type": "\"string\""
        }
       ],
       "type": "table"
      }
     },
     "output_type": "display_data"
    }
   ],
   "source": [
    "%sql \n",
    "---Verificação  nos dados  da tabela LOCATION\n",
    "select * from inc_bronze.location"
   ]
  },
  {
   "cell_type": "code",
   "execution_count": 0,
   "metadata": {
    "application/vnd.databricks.v1+cell": {
     "cellMetadata": {
      "byteLimit": 2048000,
      "implicitDf": true,
      "rowLimit": 10000
     },
     "inputWidgets": {},
     "nuid": "2ee1b0dd-fe9f-4fef-ae4c-2032d5d0017f",
     "showTitle": true,
     "tableResultSettingsMap": {},
     "title": "Verificação  nos dados  da tabela INCIDENT"
    }
   },
   "outputs": [
    {
     "output_type": "display_data",
     "data": {
      "text/html": [
       "<style scoped>\n",
       "  .table-result-container {\n",
       "    max-height: 300px;\n",
       "    overflow: auto;\n",
       "  }\n",
       "  table, th, td {\n",
       "    border: 1px solid black;\n",
       "    border-collapse: collapse;\n",
       "  }\n",
       "  th, td {\n",
       "    padding: 5px;\n",
       "  }\n",
       "  th {\n",
       "    text-align: left;\n",
       "  }\n",
       "</style><div class='table-result-container'><table class='table-result'><thead style='background-color: white'><tr><th>number</th><th>incident_state</th><th>active</th><th>reassignment_count</th><th>reopen_count</th><th>sys_mod_count</th><th>made_sla</th><th>caller_id</th><th>opened_by</th><th>opened_at</th><th>sys_created_by</th><th>sys_created_at</th><th>sys_updated_by</th><th>sys_updated_at</th><th>contact_type</th><th>location</th><th>category</th><th>subcategory</th><th>u_symptom</th><th>cmdb_ci</th><th>impact</th><th>urgency</th><th>priority</th><th>assignment_group</th><th>assigned_to</th><th>knowledge</th><th>u_priority_confirmation</th><th>notify</th><th>problem_id</th><th>rfc</th><th>vendor</th><th>caused_by</th><th>closed_code</th><th>resolved_by</th><th>resolved_at</th><th>closed_at</th></tr></thead><tbody><tr><td>INC0000045</td><td>New</td><td>true</td><td>0</td><td>0</td><td>0</td><td>true</td><td>Caller 2403</td><td>Opened by  8</td><td>29/2/2016 01:16</td><td>Created by 6</td><td>29/2/2016 01:23</td><td>Updated by 21</td><td>29/2/2016 01:23</td><td>Phone</td><td>Location 143</td><td>Category 55</td><td>Subcategory 170</td><td>Symptom 72</td><td>?</td><td>2 - Medium</td><td>2 - Medium</td><td>3 - Moderate</td><td>Group 56</td><td>?</td><td>true</td><td>false</td><td>Do Not Notify</td><td>?</td><td>?</td><td>?</td><td>?</td><td>code 5</td><td>Resolved by 149</td><td>29/2/2016 11:29</td><td>5/3/2016 12:00</td></tr><tr><td>INC0000045</td><td>Resolved</td><td>true</td><td>0</td><td>0</td><td>2</td><td>true</td><td>Caller 2403</td><td>Opened by  8</td><td>29/2/2016 01:16</td><td>Created by 6</td><td>29/2/2016 01:23</td><td>Updated by 642</td><td>29/2/2016 08:53</td><td>Phone</td><td>Location 143</td><td>Category 55</td><td>Subcategory 170</td><td>Symptom 72</td><td>?</td><td>2 - Medium</td><td>2 - Medium</td><td>3 - Moderate</td><td>Group 56</td><td>?</td><td>true</td><td>false</td><td>Do Not Notify</td><td>?</td><td>?</td><td>?</td><td>?</td><td>code 5</td><td>Resolved by 149</td><td>29/2/2016 11:29</td><td>5/3/2016 12:00</td></tr><tr><td>INC0000045</td><td>Resolved</td><td>true</td><td>0</td><td>0</td><td>3</td><td>true</td><td>Caller 2403</td><td>Opened by  8</td><td>29/2/2016 01:16</td><td>Created by 6</td><td>29/2/2016 01:23</td><td>Updated by 804</td><td>29/2/2016 11:29</td><td>Phone</td><td>Location 143</td><td>Category 55</td><td>Subcategory 170</td><td>Symptom 72</td><td>?</td><td>2 - Medium</td><td>2 - Medium</td><td>3 - Moderate</td><td>Group 56</td><td>?</td><td>true</td><td>false</td><td>Do Not Notify</td><td>?</td><td>?</td><td>?</td><td>?</td><td>code 5</td><td>Resolved by 149</td><td>29/2/2016 11:29</td><td>5/3/2016 12:00</td></tr><tr><td>INC0000045</td><td>Closed</td><td>false</td><td>0</td><td>0</td><td>4</td><td>true</td><td>Caller 2403</td><td>Opened by  8</td><td>29/2/2016 01:16</td><td>Created by 6</td><td>29/2/2016 01:23</td><td>Updated by 908</td><td>5/3/2016 12:00</td><td>Phone</td><td>Location 143</td><td>Category 55</td><td>Subcategory 170</td><td>Symptom 72</td><td>?</td><td>2 - Medium</td><td>2 - Medium</td><td>3 - Moderate</td><td>Group 56</td><td>?</td><td>true</td><td>false</td><td>Do Not Notify</td><td>?</td><td>?</td><td>?</td><td>?</td><td>code 5</td><td>Resolved by 149</td><td>29/2/2016 11:29</td><td>5/3/2016 12:00</td></tr><tr><td>INC0000047</td><td>New</td><td>true</td><td>0</td><td>0</td><td>0</td><td>true</td><td>Caller 2403</td><td>Opened by  397</td><td>29/2/2016 04:40</td><td>Created by 171</td><td>29/2/2016 04:57</td><td>Updated by 746</td><td>29/2/2016 04:57</td><td>Phone</td><td>Location 165</td><td>Category 40</td><td>Subcategory 215</td><td>Symptom 471</td><td>?</td><td>2 - Medium</td><td>2 - Medium</td><td>3 - Moderate</td><td>Group 70</td><td>Resolver 89</td><td>true</td><td>false</td><td>Do Not Notify</td><td>?</td><td>?</td><td>?</td><td>?</td><td>code 5</td><td>Resolved by 81</td><td>1/3/2016 09:52</td><td>6/3/2016 10:00</td></tr><tr><td>INC0000047</td><td>Active</td><td>true</td><td>1</td><td>0</td><td>1</td><td>true</td><td>Caller 2403</td><td>Opened by  397</td><td>29/2/2016 04:40</td><td>Created by 171</td><td>29/2/2016 04:57</td><td>Updated by 21</td><td>29/2/2016 05:30</td><td>Phone</td><td>Location 165</td><td>Category 40</td><td>Subcategory 215</td><td>Symptom 471</td><td>?</td><td>2 - Medium</td><td>2 - Medium</td><td>3 - Moderate</td><td>Group 24</td><td>Resolver 31</td><td>true</td><td>false</td><td>Do Not Notify</td><td>?</td><td>?</td><td>?</td><td>?</td><td>code 5</td><td>Resolved by 81</td><td>1/3/2016 09:52</td><td>6/3/2016 10:00</td></tr><tr><td>INC0000047</td><td>Active</td><td>true</td><td>1</td><td>0</td><td>2</td><td>true</td><td>Caller 2403</td><td>Opened by  397</td><td>29/2/2016 04:40</td><td>Created by 171</td><td>29/2/2016 04:57</td><td>Updated by 21</td><td>29/2/2016 05:33</td><td>Phone</td><td>Location 165</td><td>Category 40</td><td>Subcategory 215</td><td>Symptom 471</td><td>?</td><td>2 - Medium</td><td>2 - Medium</td><td>3 - Moderate</td><td>Group 24</td><td>Resolver 31</td><td>true</td><td>false</td><td>Do Not Notify</td><td>?</td><td>?</td><td>?</td><td>?</td><td>code 5</td><td>Resolved by 81</td><td>1/3/2016 09:52</td><td>6/3/2016 10:00</td></tr><tr><td>INC0000047</td><td>Active</td><td>true</td><td>1</td><td>0</td><td>3</td><td>true</td><td>Caller 2403</td><td>Opened by  397</td><td>29/2/2016 04:40</td><td>Created by 171</td><td>29/2/2016 04:57</td><td>Updated by 804</td><td>29/2/2016 11:31</td><td>Phone</td><td>Location 165</td><td>Category 40</td><td>Subcategory 215</td><td>Symptom 471</td><td>?</td><td>2 - Medium</td><td>2 - Medium</td><td>3 - Moderate</td><td>Group 24</td><td>Resolver 31</td><td>true</td><td>false</td><td>Do Not Notify</td><td>?</td><td>?</td><td>?</td><td>?</td><td>code 5</td><td>Resolved by 81</td><td>1/3/2016 09:52</td><td>6/3/2016 10:00</td></tr><tr><td>INC0000047</td><td>Active</td><td>true</td><td>1</td><td>0</td><td>4</td><td>true</td><td>Caller 2403</td><td>Opened by  397</td><td>29/2/2016 04:40</td><td>Created by 171</td><td>29/2/2016 04:57</td><td>Updated by 703</td><td>29/2/2016 11:32</td><td>Phone</td><td>Location 165</td><td>Category 40</td><td>Subcategory 215</td><td>Symptom 471</td><td>?</td><td>2 - Medium</td><td>2 - Medium</td><td>3 - Moderate</td><td>Group 24</td><td>Resolver 31</td><td>true</td><td>false</td><td>Do Not Notify</td><td>?</td><td>?</td><td>?</td><td>?</td><td>code 5</td><td>Resolved by 81</td><td>1/3/2016 09:52</td><td>6/3/2016 10:00</td></tr><tr><td>INC0000047</td><td>Active</td><td>true</td><td>1</td><td>0</td><td>5</td><td>true</td><td>Caller 2403</td><td>Opened by  397</td><td>29/2/2016 04:40</td><td>Created by 171</td><td>29/2/2016 04:57</td><td>Updated by 332</td><td>1/3/2016 09:14</td><td>Phone</td><td>Location 165</td><td>Category 40</td><td>Subcategory 215</td><td>Symptom 471</td><td>?</td><td>2 - Medium</td><td>2 - Medium</td><td>3 - Moderate</td><td>Group 24</td><td>Resolver 31</td><td>true</td><td>false</td><td>Do Not Notify</td><td>?</td><td>?</td><td>?</td><td>?</td><td>code 5</td><td>Resolved by 81</td><td>1/3/2016 09:52</td><td>6/3/2016 10:00</td></tr></tbody></table></div>"
      ]
     },
     "metadata": {
      "application/vnd.databricks.v1+output": {
       "addedWidgets": {},
       "aggData": [],
       "aggError": "",
       "aggOverflow": false,
       "aggSchema": [],
       "aggSeriesLimitReached": false,
       "aggType": "",
       "arguments": {},
       "columnCustomDisplayInfos": {},
       "data": [
        [
         "INC0000045",
         "New",
         true,
         0,
         0,
         0,
         true,
         "Caller 2403",
         "Opened by  8",
         "29/2/2016 01:16",
         "Created by 6",
         "29/2/2016 01:23",
         "Updated by 21",
         "29/2/2016 01:23",
         "Phone",
         "Location 143",
         "Category 55",
         "Subcategory 170",
         "Symptom 72",
         "?",
         "2 - Medium",
         "2 - Medium",
         "3 - Moderate",
         "Group 56",
         "?",
         true,
         false,
         "Do Not Notify",
         "?",
         "?",
         "?",
         "?",
         "code 5",
         "Resolved by 149",
         "29/2/2016 11:29",
         "5/3/2016 12:00"
        ],
        [
         "INC0000045",
         "Resolved",
         true,
         0,
         0,
         2,
         true,
         "Caller 2403",
         "Opened by  8",
         "29/2/2016 01:16",
         "Created by 6",
         "29/2/2016 01:23",
         "Updated by 642",
         "29/2/2016 08:53",
         "Phone",
         "Location 143",
         "Category 55",
         "Subcategory 170",
         "Symptom 72",
         "?",
         "2 - Medium",
         "2 - Medium",
         "3 - Moderate",
         "Group 56",
         "?",
         true,
         false,
         "Do Not Notify",
         "?",
         "?",
         "?",
         "?",
         "code 5",
         "Resolved by 149",
         "29/2/2016 11:29",
         "5/3/2016 12:00"
        ],
        [
         "INC0000045",
         "Resolved",
         true,
         0,
         0,
         3,
         true,
         "Caller 2403",
         "Opened by  8",
         "29/2/2016 01:16",
         "Created by 6",
         "29/2/2016 01:23",
         "Updated by 804",
         "29/2/2016 11:29",
         "Phone",
         "Location 143",
         "Category 55",
         "Subcategory 170",
         "Symptom 72",
         "?",
         "2 - Medium",
         "2 - Medium",
         "3 - Moderate",
         "Group 56",
         "?",
         true,
         false,
         "Do Not Notify",
         "?",
         "?",
         "?",
         "?",
         "code 5",
         "Resolved by 149",
         "29/2/2016 11:29",
         "5/3/2016 12:00"
        ],
        [
         "INC0000045",
         "Closed",
         false,
         0,
         0,
         4,
         true,
         "Caller 2403",
         "Opened by  8",
         "29/2/2016 01:16",
         "Created by 6",
         "29/2/2016 01:23",
         "Updated by 908",
         "5/3/2016 12:00",
         "Phone",
         "Location 143",
         "Category 55",
         "Subcategory 170",
         "Symptom 72",
         "?",
         "2 - Medium",
         "2 - Medium",
         "3 - Moderate",
         "Group 56",
         "?",
         true,
         false,
         "Do Not Notify",
         "?",
         "?",
         "?",
         "?",
         "code 5",
         "Resolved by 149",
         "29/2/2016 11:29",
         "5/3/2016 12:00"
        ],
        [
         "INC0000047",
         "New",
         true,
         0,
         0,
         0,
         true,
         "Caller 2403",
         "Opened by  397",
         "29/2/2016 04:40",
         "Created by 171",
         "29/2/2016 04:57",
         "Updated by 746",
         "29/2/2016 04:57",
         "Phone",
         "Location 165",
         "Category 40",
         "Subcategory 215",
         "Symptom 471",
         "?",
         "2 - Medium",
         "2 - Medium",
         "3 - Moderate",
         "Group 70",
         "Resolver 89",
         true,
         false,
         "Do Not Notify",
         "?",
         "?",
         "?",
         "?",
         "code 5",
         "Resolved by 81",
         "1/3/2016 09:52",
         "6/3/2016 10:00"
        ],
        [
         "INC0000047",
         "Active",
         true,
         1,
         0,
         1,
         true,
         "Caller 2403",
         "Opened by  397",
         "29/2/2016 04:40",
         "Created by 171",
         "29/2/2016 04:57",
         "Updated by 21",
         "29/2/2016 05:30",
         "Phone",
         "Location 165",
         "Category 40",
         "Subcategory 215",
         "Symptom 471",
         "?",
         "2 - Medium",
         "2 - Medium",
         "3 - Moderate",
         "Group 24",
         "Resolver 31",
         true,
         false,
         "Do Not Notify",
         "?",
         "?",
         "?",
         "?",
         "code 5",
         "Resolved by 81",
         "1/3/2016 09:52",
         "6/3/2016 10:00"
        ],
        [
         "INC0000047",
         "Active",
         true,
         1,
         0,
         2,
         true,
         "Caller 2403",
         "Opened by  397",
         "29/2/2016 04:40",
         "Created by 171",
         "29/2/2016 04:57",
         "Updated by 21",
         "29/2/2016 05:33",
         "Phone",
         "Location 165",
         "Category 40",
         "Subcategory 215",
         "Symptom 471",
         "?",
         "2 - Medium",
         "2 - Medium",
         "3 - Moderate",
         "Group 24",
         "Resolver 31",
         true,
         false,
         "Do Not Notify",
         "?",
         "?",
         "?",
         "?",
         "code 5",
         "Resolved by 81",
         "1/3/2016 09:52",
         "6/3/2016 10:00"
        ],
        [
         "INC0000047",
         "Active",
         true,
         1,
         0,
         3,
         true,
         "Caller 2403",
         "Opened by  397",
         "29/2/2016 04:40",
         "Created by 171",
         "29/2/2016 04:57",
         "Updated by 804",
         "29/2/2016 11:31",
         "Phone",
         "Location 165",
         "Category 40",
         "Subcategory 215",
         "Symptom 471",
         "?",
         "2 - Medium",
         "2 - Medium",
         "3 - Moderate",
         "Group 24",
         "Resolver 31",
         true,
         false,
         "Do Not Notify",
         "?",
         "?",
         "?",
         "?",
         "code 5",
         "Resolved by 81",
         "1/3/2016 09:52",
         "6/3/2016 10:00"
        ],
        [
         "INC0000047",
         "Active",
         true,
         1,
         0,
         4,
         true,
         "Caller 2403",
         "Opened by  397",
         "29/2/2016 04:40",
         "Created by 171",
         "29/2/2016 04:57",
         "Updated by 703",
         "29/2/2016 11:32",
         "Phone",
         "Location 165",
         "Category 40",
         "Subcategory 215",
         "Symptom 471",
         "?",
         "2 - Medium",
         "2 - Medium",
         "3 - Moderate",
         "Group 24",
         "Resolver 31",
         true,
         false,
         "Do Not Notify",
         "?",
         "?",
         "?",
         "?",
         "code 5",
         "Resolved by 81",
         "1/3/2016 09:52",
         "6/3/2016 10:00"
        ],
        [
         "INC0000047",
         "Active",
         true,
         1,
         0,
         5,
         true,
         "Caller 2403",
         "Opened by  397",
         "29/2/2016 04:40",
         "Created by 171",
         "29/2/2016 04:57",
         "Updated by 332",
         "1/3/2016 09:14",
         "Phone",
         "Location 165",
         "Category 40",
         "Subcategory 215",
         "Symptom 471",
         "?",
         "2 - Medium",
         "2 - Medium",
         "3 - Moderate",
         "Group 24",
         "Resolver 31",
         true,
         false,
         "Do Not Notify",
         "?",
         "?",
         "?",
         "?",
         "code 5",
         "Resolved by 81",
         "1/3/2016 09:52",
         "6/3/2016 10:00"
        ]
       ],
       "datasetInfos": [],
       "dbfsResultPath": null,
       "isJsonSchema": true,
       "metadata": {},
       "overflow": false,
       "plotOptions": {
        "customPlotOptions": {},
        "displayType": "table",
        "pivotAggregation": null,
        "pivotColumns": null,
        "xColumns": null,
        "yColumns": null
       },
       "removedWidgets": [],
       "schema": [
        {
         "metadata": "{}",
         "name": "number",
         "type": "\"string\""
        },
        {
         "metadata": "{}",
         "name": "incident_state",
         "type": "\"string\""
        },
        {
         "metadata": "{}",
         "name": "active",
         "type": "\"boolean\""
        },
        {
         "metadata": "{}",
         "name": "reassignment_count",
         "type": "\"integer\""
        },
        {
         "metadata": "{}",
         "name": "reopen_count",
         "type": "\"integer\""
        },
        {
         "metadata": "{}",
         "name": "sys_mod_count",
         "type": "\"integer\""
        },
        {
         "metadata": "{}",
         "name": "made_sla",
         "type": "\"boolean\""
        },
        {
         "metadata": "{}",
         "name": "caller_id",
         "type": "\"string\""
        },
        {
         "metadata": "{}",
         "name": "opened_by",
         "type": "\"string\""
        },
        {
         "metadata": "{}",
         "name": "opened_at",
         "type": "\"string\""
        },
        {
         "metadata": "{}",
         "name": "sys_created_by",
         "type": "\"string\""
        },
        {
         "metadata": "{}",
         "name": "sys_created_at",
         "type": "\"string\""
        },
        {
         "metadata": "{}",
         "name": "sys_updated_by",
         "type": "\"string\""
        },
        {
         "metadata": "{}",
         "name": "sys_updated_at",
         "type": "\"string\""
        },
        {
         "metadata": "{}",
         "name": "contact_type",
         "type": "\"string\""
        },
        {
         "metadata": "{}",
         "name": "location",
         "type": "\"string\""
        },
        {
         "metadata": "{}",
         "name": "category",
         "type": "\"string\""
        },
        {
         "metadata": "{}",
         "name": "subcategory",
         "type": "\"string\""
        },
        {
         "metadata": "{}",
         "name": "u_symptom",
         "type": "\"string\""
        },
        {
         "metadata": "{}",
         "name": "cmdb_ci",
         "type": "\"string\""
        },
        {
         "metadata": "{}",
         "name": "impact",
         "type": "\"string\""
        },
        {
         "metadata": "{}",
         "name": "urgency",
         "type": "\"string\""
        },
        {
         "metadata": "{}",
         "name": "priority",
         "type": "\"string\""
        },
        {
         "metadata": "{}",
         "name": "assignment_group",
         "type": "\"string\""
        },
        {
         "metadata": "{}",
         "name": "assigned_to",
         "type": "\"string\""
        },
        {
         "metadata": "{}",
         "name": "knowledge",
         "type": "\"boolean\""
        },
        {
         "metadata": "{}",
         "name": "u_priority_confirmation",
         "type": "\"boolean\""
        },
        {
         "metadata": "{}",
         "name": "notify",
         "type": "\"string\""
        },
        {
         "metadata": "{}",
         "name": "problem_id",
         "type": "\"string\""
        },
        {
         "metadata": "{}",
         "name": "rfc",
         "type": "\"string\""
        },
        {
         "metadata": "{}",
         "name": "vendor",
         "type": "\"string\""
        },
        {
         "metadata": "{}",
         "name": "caused_by",
         "type": "\"string\""
        },
        {
         "metadata": "{}",
         "name": "closed_code",
         "type": "\"string\""
        },
        {
         "metadata": "{}",
         "name": "resolved_by",
         "type": "\"string\""
        },
        {
         "metadata": "{}",
         "name": "resolved_at",
         "type": "\"string\""
        },
        {
         "metadata": "{}",
         "name": "closed_at",
         "type": "\"string\""
        }
       ],
       "type": "table"
      }
     },
     "output_type": "display_data"
    }
   ],
   "source": [
    "%sql \n",
    "---  Verificação  nos dados  da tabela INCIDENT\n",
    "select * from inc_bronze.incident LIMIT 10"
   ]
  },
  {
   "cell_type": "markdown",
   "metadata": {
    "application/vnd.databricks.v1+cell": {
     "cellMetadata": {},
     "inputWidgets": {},
     "nuid": "55198be8-a09e-4ce4-8bdc-0a7d46961415",
     "showTitle": false,
     "tableResultSettingsMap": {},
     "title": ""
    }
   },
   "source": [
    "##7.2 - **SILVER** - Base de Dados - (141712 rows)"
   ]
  },
  {
   "cell_type": "code",
   "execution_count": 0,
   "metadata": {
    "application/vnd.databricks.v1+cell": {
     "cellMetadata": {
      "byteLimit": 2048000,
      "rowLimit": 10000
     },
     "inputWidgets": {},
     "nuid": "0ccada6b-5396-4ced-9e94-0709a914d714",
     "showTitle": true,
     "tableResultSettingsMap": {},
     "title": "Verificação dos  data types"
    }
   },
   "outputs": [
    {
     "output_type": "stream",
     "name": "stdout",
     "output_type": "stream",
     "text": [
      "root\n |-- number: string (nullable = true)\n |-- incident_state: string (nullable = true)\n |-- active: boolean (nullable = true)\n |-- reassignment_count: integer (nullable = true)\n |-- reopen_count: integer (nullable = true)\n |-- sys_mod_count: integer (nullable = true)\n |-- made_sla: boolean (nullable = true)\n |-- caller_id: string (nullable = true)\n |-- opened_by: string (nullable = true)\n |-- opened_at: string (nullable = true)\n |-- sys_created_by: string (nullable = true)\n |-- sys_created_at: string (nullable = true)\n |-- sys_updated_by: string (nullable = true)\n |-- sys_updated_at: string (nullable = true)\n |-- contact_type: string (nullable = true)\n |-- location: string (nullable = true)\n |-- category: string (nullable = true)\n |-- subcategory: string (nullable = true)\n |-- u_symptom: string (nullable = true)\n |-- cmdb_ci: string (nullable = true)\n |-- impact: string (nullable = true)\n |-- urgency: string (nullable = true)\n |-- priority: string (nullable = true)\n |-- assignment_group: string (nullable = true)\n |-- assigned_to: string (nullable = true)\n |-- knowledge: boolean (nullable = true)\n |-- u_priority_confirmation: boolean (nullable = true)\n |-- notify: string (nullable = true)\n |-- problem_id: string (nullable = true)\n |-- rfc: string (nullable = true)\n |-- vendor: string (nullable = true)\n |-- caused_by: string (nullable = true)\n |-- closed_code: string (nullable = true)\n |-- resolved_by: string (nullable = true)\n |-- resolved_at: string (nullable = true)\n |-- closed_at: string (nullable = true)\n\n"
     ]
    }
   ],
   "source": [
    "###Verificação dos  data types\n",
    "incident_df.printSchema()\n"
   ]
  },
  {
   "cell_type": "markdown",
   "metadata": {
    "application/vnd.databricks.v1+cell": {
     "cellMetadata": {},
     "inputWidgets": {},
     "nuid": "eee18a32-3142-475e-8160-40be6acc9627",
     "showTitle": false,
     "tableResultSettingsMap": {},
     "title": ""
    }
   },
   "source": [
    "###7.2.4 - Carga de Dados - SILVER"
   ]
  },
  {
   "cell_type": "code",
   "execution_count": 0,
   "metadata": {
    "application/vnd.databricks.v1+cell": {
     "cellMetadata": {
      "byteLimit": 2048000,
      "rowLimit": 10000
     },
     "inputWidgets": {},
     "nuid": "435204a1-9eba-40fe-8723-c7e77b155af7",
     "showTitle": true,
     "tableResultSettingsMap": {},
     "title": "Convertendo Data Types - STRING to TIMESTAMP"
    }
   },
   "outputs": [],
   "source": [
    "###  Convertendo Data Types - STRING to TIMESTAMP\n",
    "incident_df_Silver = incident_df.withColumn(\"opened_at_TS\", to_timestamp(col(\"opened_at\"), \"d/M/yyyy hh:mm\"))\n",
    "incident_df_Silver = incident_df_Silver.withColumn(\"resolved_at_TS\", to_timestamp(col(\"resolved_at\"), \"d/M/yyyy hh:mm\"))\n",
    "incident_df_Silver = incident_df_Silver.withColumn(\"closed_at_TS\", to_timestamp(col(\"closed_at\"), \"d/M/yyyy hh:mm\"))\n"
   ]
  },
  {
   "cell_type": "code",
   "execution_count": 0,
   "metadata": {
    "application/vnd.databricks.v1+cell": {
     "cellMetadata": {
      "byteLimit": 2048000,
      "rowLimit": 10000
     },
     "inputWidgets": {},
     "nuid": "249f0ba2-7bc5-43dc-8233-c0e10a118978",
     "showTitle": true,
     "tableResultSettingsMap": {},
     "title": "Verificação de Tidpo de Dados"
    }
   },
   "outputs": [
    {
     "output_type": "stream",
     "name": "stdout",
     "output_type": "stream",
     "text": [
      "root\n |-- number: string (nullable = true)\n |-- incident_state: string (nullable = true)\n |-- active: boolean (nullable = true)\n |-- reassignment_count: integer (nullable = true)\n |-- reopen_count: integer (nullable = true)\n |-- made_sla: boolean (nullable = true)\n |-- location: string (nullable = true)\n |-- priority: string (nullable = true)\n |-- resolved_by: string (nullable = true)\n |-- opened_at_TS: timestamp (nullable = true)\n |-- resolved_at_TS: timestamp (nullable = true)\n |-- closed_at_TS: timestamp (nullable = true)\n\n"
     ]
    }
   ],
   "source": [
    "###  Verificação de Tidpo de Dados \n",
    "incident_df_Silver.printSchema()"
   ]
  },
  {
   "cell_type": "code",
   "execution_count": 0,
   "metadata": {
    "application/vnd.databricks.v1+cell": {
     "cellMetadata": {
      "byteLimit": 2048000,
      "rowLimit": 10000
     },
     "inputWidgets": {},
     "nuid": "c18c4f66-0ca1-4d36-9614-4cfe1a96d372",
     "showTitle": true,
     "tableResultSettingsMap": {},
     "title": "Verificação de  campos NULL"
    }
   },
   "outputs": [
    {
     "output_type": "stream",
     "name": "stdout",
     "output_type": "stream",
     "text": [
      "+------+--------------+------+------------------+------------+-------------+--------+---------+---------+---------+--------------+--------------+--------------+--------------+------------+--------+--------+-----------+---------+-------+------+-------+--------+----------------+-----------+---------+-----------------------+------+----------+---+------+---------+-----------+-----------+-----------+---------+------------+--------------+------------+\n|number|incident_state|active|reassignment_count|reopen_count|sys_mod_count|made_sla|caller_id|opened_by|opened_at|sys_created_by|sys_created_at|sys_updated_by|sys_updated_at|contact_type|location|category|subcategory|u_symptom|cmdb_ci|impact|urgency|priority|assignment_group|assigned_to|knowledge|u_priority_confirmation|notify|problem_id|rfc|vendor|caused_by|closed_code|resolved_by|resolved_at|closed_at|opened_at_TS|resolved_at_TS|closed_at_TS|\n+------+--------------+------+------------------+------------+-------------+--------+---------+---------+---------+--------------+--------------+--------------+--------------+------------+--------+--------+-----------+---------+-------+------+-------+--------+----------------+-----------+---------+-----------------------+------+----------+---+------+---------+-----------+-----------+-----------+---------+------------+--------------+------------+\n+------+--------------+------+------------------+------------+-------------+--------+---------+---------+---------+--------------+--------------+--------------+--------------+------------+--------+--------+-----------+---------+-------+------+-------+--------+----------------+-----------+---------+-----------------------+------+----------+---+------+---------+-----------+-----------+-----------+---------+------------+--------------+------------+\n\n"
     ]
    }
   ],
   "source": [
    "###  Verificação de  campos NULL\n",
    "incident_df_Silver.filter(col(\"closed_at\").isNull()).show()"
   ]
  },
  {
   "cell_type": "code",
   "execution_count": 0,
   "metadata": {
    "application/vnd.databricks.v1+cell": {
     "cellMetadata": {
      "byteLimit": 2048000,
      "rowLimit": 10000
     },
     "inputWidgets": {},
     "nuid": "8c9c80aa-5fdb-405d-af25-38bae6ed2d6f",
     "showTitle": true,
     "tableResultSettingsMap": {},
     "title": "Eliminação de colunas  não necessárias para a análise  -  INCIDENT"
    }
   },
   "outputs": [
    {
     "output_type": "stream",
     "name": "stdout",
     "output_type": "stream",
     "text": [
      "+----------+------------------+------+------------------+------------+--------+------------+------------+---------------+-------------------+-------------------+-------------------+\n|    number|    incident_state|active|reassignment_count|reopen_count|made_sla|    location|    priority|    resolved_by|       opened_at_TS|     resolved_at_TS|       closed_at_TS|\n+----------+------------------+------+------------------+------------+--------+------------+------------+---------------+-------------------+-------------------+-------------------+\n|INC0000045|               New|  true|                 0|           0|    true|Location 143|3 - Moderate|Resolved by 149|2016-02-29 01:16:00|2016-02-29 11:29:00|2016-03-05 00:00:00|\n|INC0000045|          Resolved|  true|                 0|           0|    true|Location 143|3 - Moderate|Resolved by 149|2016-02-29 01:16:00|2016-02-29 11:29:00|2016-03-05 00:00:00|\n|INC0000045|          Resolved|  true|                 0|           0|    true|Location 143|3 - Moderate|Resolved by 149|2016-02-29 01:16:00|2016-02-29 11:29:00|2016-03-05 00:00:00|\n|INC0000045|            Closed| false|                 0|           0|    true|Location 143|3 - Moderate|Resolved by 149|2016-02-29 01:16:00|2016-02-29 11:29:00|2016-03-05 00:00:00|\n|INC0000047|               New|  true|                 0|           0|    true|Location 165|3 - Moderate| Resolved by 81|2016-02-29 04:40:00|2016-03-01 09:52:00|2016-03-06 10:00:00|\n|INC0000047|            Active|  true|                 1|           0|    true|Location 165|3 - Moderate| Resolved by 81|2016-02-29 04:40:00|2016-03-01 09:52:00|2016-03-06 10:00:00|\n|INC0000047|            Active|  true|                 1|           0|    true|Location 165|3 - Moderate| Resolved by 81|2016-02-29 04:40:00|2016-03-01 09:52:00|2016-03-06 10:00:00|\n|INC0000047|            Active|  true|                 1|           0|    true|Location 165|3 - Moderate| Resolved by 81|2016-02-29 04:40:00|2016-03-01 09:52:00|2016-03-06 10:00:00|\n|INC0000047|            Active|  true|                 1|           0|    true|Location 165|3 - Moderate| Resolved by 81|2016-02-29 04:40:00|2016-03-01 09:52:00|2016-03-06 10:00:00|\n|INC0000047|            Active|  true|                 1|           0|    true|Location 165|3 - Moderate| Resolved by 81|2016-02-29 04:40:00|2016-03-01 09:52:00|2016-03-06 10:00:00|\n|INC0000047|Awaiting User Info|  true|                 1|           0|    true|Location 165|3 - Moderate| Resolved by 81|2016-02-29 04:40:00|2016-03-01 09:52:00|2016-03-06 10:00:00|\n|INC0000047|          Resolved|  true|                 1|           0|    true|Location 165|3 - Moderate| Resolved by 81|2016-02-29 04:40:00|2016-03-01 09:52:00|2016-03-06 10:00:00|\n|INC0000047|            Closed| false|                 1|           0|    true|Location 165|3 - Moderate| Resolved by 81|2016-02-29 04:40:00|2016-03-01 09:52:00|2016-03-06 10:00:00|\n|INC0000057|               New|  true|                 0|           0|    true|Location 204|3 - Moderate|  Resolved by 5|2016-02-29 06:10:00|2016-03-01 02:55:00|2016-03-06 03:00:00|\n|INC0000057|               New|  true|                 0|           0|    true|Location 204|3 - Moderate|  Resolved by 5|2016-02-29 06:10:00|2016-03-01 02:55:00|2016-03-06 03:00:00|\n|INC0000057|               New|  true|                 0|           0|    true|Location 204|3 - Moderate|  Resolved by 5|2016-02-29 06:10:00|2016-03-01 02:55:00|2016-03-06 03:00:00|\n|INC0000057|               New|  true|                 0|           0|    true|Location 204|3 - Moderate|  Resolved by 5|2016-02-29 06:10:00|2016-03-01 02:55:00|2016-03-06 03:00:00|\n|INC0000057|               New|  true|                 0|           0|    true|Location 204|3 - Moderate|  Resolved by 5|2016-02-29 06:10:00|2016-03-01 02:55:00|2016-03-06 03:00:00|\n|INC0000057|          Resolved|  true|                 0|           0|    true|Location 204|3 - Moderate|  Resolved by 5|2016-02-29 06:10:00|2016-03-01 02:55:00|2016-03-06 03:00:00|\n|INC0000057|            Closed| false|                 0|           0|    true|Location 204|3 - Moderate|  Resolved by 5|2016-02-29 06:10:00|2016-03-01 02:55:00|2016-03-06 03:00:00|\n+----------+------------------+------+------------------+------------+--------+------------+------------+---------------+-------------------+-------------------+-------------------+\nonly showing top 20 rows\n\n"
     ]
    }
   ],
   "source": [
    "###  Eliminação de colunas  não necessárias para a análise  -  INCIDENT\n",
    "incident_df_Silver = incident_df_Silver.drop('sys_mod_count','caller_id','opened_by','sys_created_by','sys_created_at','sys_updated_by','sys_updated_at','contact_type','category','subcategory','u_symptom','cmdb_ci','impact','urgency','assignment_group','assigned_to','knowledge','u_priority_confirmation','notify','problem_id','rfc','vendor','caused_by','closed_code','opened_at','resolved_at','closed_at')\n",
    "incident_df_Silver.show()"
   ]
  },
  {
   "cell_type": "code",
   "execution_count": 0,
   "metadata": {
    "application/vnd.databricks.v1+cell": {
     "cellMetadata": {
      "byteLimit": 2048000,
      "implicitDf": true,
      "rowLimit": 10000
     },
     "inputWidgets": {},
     "nuid": "35598a88-686a-4652-a307-de7c5bab35da",
     "showTitle": true,
     "tableResultSettingsMap": {},
     "title": "Apagando o database \"SILVER\" para ser recriado"
    }
   },
   "outputs": [
    {
     "output_type": "display_data",
     "data": {
      "text/html": [
       "<style scoped>\n",
       "  .table-result-container {\n",
       "    max-height: 300px;\n",
       "    overflow: auto;\n",
       "  }\n",
       "  table, th, td {\n",
       "    border: 1px solid black;\n",
       "    border-collapse: collapse;\n",
       "  }\n",
       "  th, td {\n",
       "    padding: 5px;\n",
       "  }\n",
       "  th {\n",
       "    text-align: left;\n",
       "  }\n",
       "</style><div class='table-result-container'><table class='table-result'><thead style='background-color: white'><tr></tr></thead><tbody></tbody></table></div>"
      ]
     },
     "metadata": {
      "application/vnd.databricks.v1+output": {
       "addedWidgets": {},
       "aggData": [],
       "aggError": "",
       "aggOverflow": false,
       "aggSchema": [],
       "aggSeriesLimitReached": false,
       "aggType": "",
       "arguments": {},
       "columnCustomDisplayInfos": {},
       "data": [],
       "datasetInfos": [],
       "dbfsResultPath": null,
       "isJsonSchema": true,
       "metadata": {},
       "overflow": false,
       "plotOptions": {
        "customPlotOptions": {},
        "displayType": "table",
        "pivotAggregation": null,
        "pivotColumns": null,
        "xColumns": null,
        "yColumns": null
       },
       "removedWidgets": [],
       "schema": [],
       "type": "table"
      }
     },
     "output_type": "display_data"
    }
   ],
   "source": [
    "%sql\n",
    "---  Apagando o database \"SILVER\" para ser recriado\n",
    " DROP DATABASE IF EXISTS inc_silver CASCADE;"
   ]
  },
  {
   "cell_type": "code",
   "execution_count": 0,
   "metadata": {
    "application/vnd.databricks.v1+cell": {
     "cellMetadata": {
      "byteLimit": 2048000,
      "implicitDf": true,
      "rowLimit": 10000
     },
     "inputWidgets": {},
     "nuid": "71df489f-1dd9-4f3e-855b-bc9e19632c41",
     "showTitle": true,
     "tableResultSettingsMap": {},
     "title": "Recriando o database \"SILVER\""
    }
   },
   "outputs": [
    {
     "output_type": "display_data",
     "data": {
      "text/html": [
       "<style scoped>\n",
       "  .table-result-container {\n",
       "    max-height: 300px;\n",
       "    overflow: auto;\n",
       "  }\n",
       "  table, th, td {\n",
       "    border: 1px solid black;\n",
       "    border-collapse: collapse;\n",
       "  }\n",
       "  th, td {\n",
       "    padding: 5px;\n",
       "  }\n",
       "  th {\n",
       "    text-align: left;\n",
       "  }\n",
       "</style><div class='table-result-container'><table class='table-result'><thead style='background-color: white'><tr></tr></thead><tbody></tbody></table></div>"
      ]
     },
     "metadata": {
      "application/vnd.databricks.v1+output": {
       "addedWidgets": {},
       "aggData": [],
       "aggError": "",
       "aggOverflow": false,
       "aggSchema": [],
       "aggSeriesLimitReached": false,
       "aggType": "",
       "arguments": {},
       "columnCustomDisplayInfos": {},
       "data": [],
       "datasetInfos": [],
       "dbfsResultPath": null,
       "isJsonSchema": true,
       "metadata": {},
       "overflow": false,
       "plotOptions": {
        "customPlotOptions": {},
        "displayType": "table",
        "pivotAggregation": null,
        "pivotColumns": null,
        "xColumns": null,
        "yColumns": null
       },
       "removedWidgets": [],
       "schema": [],
       "type": "table"
      }
     },
     "output_type": "display_data"
    }
   ],
   "source": [
    "%sql \n",
    "--- Recriando o database \"SILVER\"\n",
    "CREATE DATABASE inc_silver;"
   ]
  },
  {
   "cell_type": "code",
   "execution_count": 0,
   "metadata": {
    "application/vnd.databricks.v1+cell": {
     "cellMetadata": {
      "byteLimit": 2048000,
      "rowLimit": 10000
     },
     "inputWidgets": {},
     "nuid": "cde4f9b3-59e5-4fbe-84f7-d62a09120c0c",
     "showTitle": true,
     "tableResultSettingsMap": {},
     "title": "Ponto de verificação do DF"
    }
   },
   "outputs": [
    {
     "output_type": "stream",
     "name": "stdout",
     "output_type": "stream",
     "text": [
      "+----------+------------------+------+------------------+------------+--------+------------+------------+---------------+-------------------+-------------------+-------------------+\n|    number|    incident_state|active|reassignment_count|reopen_count|made_sla|    location|    priority|    resolved_by|       opened_at_TS|     resolved_at_TS|       closed_at_TS|\n+----------+------------------+------+------------------+------------+--------+------------+------------+---------------+-------------------+-------------------+-------------------+\n|INC0000045|               New|  true|                 0|           0|    true|Location 143|3 - Moderate|Resolved by 149|2016-02-29 01:16:00|2016-02-29 11:29:00|2016-03-05 00:00:00|\n|INC0000045|          Resolved|  true|                 0|           0|    true|Location 143|3 - Moderate|Resolved by 149|2016-02-29 01:16:00|2016-02-29 11:29:00|2016-03-05 00:00:00|\n|INC0000045|          Resolved|  true|                 0|           0|    true|Location 143|3 - Moderate|Resolved by 149|2016-02-29 01:16:00|2016-02-29 11:29:00|2016-03-05 00:00:00|\n|INC0000045|            Closed| false|                 0|           0|    true|Location 143|3 - Moderate|Resolved by 149|2016-02-29 01:16:00|2016-02-29 11:29:00|2016-03-05 00:00:00|\n|INC0000047|               New|  true|                 0|           0|    true|Location 165|3 - Moderate| Resolved by 81|2016-02-29 04:40:00|2016-03-01 09:52:00|2016-03-06 10:00:00|\n|INC0000047|            Active|  true|                 1|           0|    true|Location 165|3 - Moderate| Resolved by 81|2016-02-29 04:40:00|2016-03-01 09:52:00|2016-03-06 10:00:00|\n|INC0000047|            Active|  true|                 1|           0|    true|Location 165|3 - Moderate| Resolved by 81|2016-02-29 04:40:00|2016-03-01 09:52:00|2016-03-06 10:00:00|\n|INC0000047|            Active|  true|                 1|           0|    true|Location 165|3 - Moderate| Resolved by 81|2016-02-29 04:40:00|2016-03-01 09:52:00|2016-03-06 10:00:00|\n|INC0000047|            Active|  true|                 1|           0|    true|Location 165|3 - Moderate| Resolved by 81|2016-02-29 04:40:00|2016-03-01 09:52:00|2016-03-06 10:00:00|\n|INC0000047|            Active|  true|                 1|           0|    true|Location 165|3 - Moderate| Resolved by 81|2016-02-29 04:40:00|2016-03-01 09:52:00|2016-03-06 10:00:00|\n|INC0000047|Awaiting User Info|  true|                 1|           0|    true|Location 165|3 - Moderate| Resolved by 81|2016-02-29 04:40:00|2016-03-01 09:52:00|2016-03-06 10:00:00|\n|INC0000047|          Resolved|  true|                 1|           0|    true|Location 165|3 - Moderate| Resolved by 81|2016-02-29 04:40:00|2016-03-01 09:52:00|2016-03-06 10:00:00|\n|INC0000047|            Closed| false|                 1|           0|    true|Location 165|3 - Moderate| Resolved by 81|2016-02-29 04:40:00|2016-03-01 09:52:00|2016-03-06 10:00:00|\n|INC0000057|               New|  true|                 0|           0|    true|Location 204|3 - Moderate|  Resolved by 5|2016-02-29 06:10:00|2016-03-01 02:55:00|2016-03-06 03:00:00|\n|INC0000057|               New|  true|                 0|           0|    true|Location 204|3 - Moderate|  Resolved by 5|2016-02-29 06:10:00|2016-03-01 02:55:00|2016-03-06 03:00:00|\n|INC0000057|               New|  true|                 0|           0|    true|Location 204|3 - Moderate|  Resolved by 5|2016-02-29 06:10:00|2016-03-01 02:55:00|2016-03-06 03:00:00|\n|INC0000057|               New|  true|                 0|           0|    true|Location 204|3 - Moderate|  Resolved by 5|2016-02-29 06:10:00|2016-03-01 02:55:00|2016-03-06 03:00:00|\n|INC0000057|               New|  true|                 0|           0|    true|Location 204|3 - Moderate|  Resolved by 5|2016-02-29 06:10:00|2016-03-01 02:55:00|2016-03-06 03:00:00|\n|INC0000057|          Resolved|  true|                 0|           0|    true|Location 204|3 - Moderate|  Resolved by 5|2016-02-29 06:10:00|2016-03-01 02:55:00|2016-03-06 03:00:00|\n|INC0000057|            Closed| false|                 0|           0|    true|Location 204|3 - Moderate|  Resolved by 5|2016-02-29 06:10:00|2016-03-01 02:55:00|2016-03-06 03:00:00|\n+----------+------------------+------+------------------+------------+--------+------------+------------+---------------+-------------------+-------------------+-------------------+\nonly showing top 20 rows\n\n"
     ]
    }
   ],
   "source": [
    "###  Ponto de verificação do DF\n",
    "incident_df_Silver.show()"
   ]
  },
  {
   "cell_type": "code",
   "execution_count": 0,
   "metadata": {
    "application/vnd.databricks.v1+cell": {
     "cellMetadata": {
      "byteLimit": 2048000,
      "rowLimit": 10000
     },
     "inputWidgets": {},
     "nuid": "616415be-b91d-434d-816d-a1908bb43a63",
     "showTitle": true,
     "tableResultSettingsMap": {},
     "title": "Criação da tabela LOCATION a partir do dataframe"
    }
   },
   "outputs": [],
   "source": [
    "###  Criação da tabela LOCATION a partir do dataframe\n",
    "location_df.write.mode(\"overwrite\").saveAsTable(\"inc_silver.location\")"
   ]
  },
  {
   "cell_type": "code",
   "execution_count": 0,
   "metadata": {
    "application/vnd.databricks.v1+cell": {
     "cellMetadata": {
      "byteLimit": 2048000,
      "rowLimit": 10000
     },
     "inputWidgets": {},
     "nuid": "77f88cfa-f5e2-4c48-8859-5bdf1d925140",
     "showTitle": true,
     "tableResultSettingsMap": {},
     "title": "Criação da tabela INCIDENT a partir do dataframe"
    }
   },
   "outputs": [],
   "source": [
    "###  Criação da tabela INCIDENT a partir do dataframe\n",
    "incident_df_Silver.write.mode(\"overwrite\").saveAsTable(\"inc_silver.incident\")"
   ]
  },
  {
   "cell_type": "code",
   "execution_count": 0,
   "metadata": {
    "application/vnd.databricks.v1+cell": {
     "cellMetadata": {
      "byteLimit": 2048000,
      "implicitDf": true,
      "rowLimit": 10000
     },
     "inputWidgets": {},
     "nuid": "6b70a5ea-5af6-4792-8ec5-566a6952ecca",
     "showTitle": true,
     "tableResultSettingsMap": {},
     "title": "Verificação se todas as linhas foram importadas no BD"
    }
   },
   "outputs": [
    {
     "output_type": "display_data",
     "data": {
      "text/html": [
       "<style scoped>\n",
       "  .table-result-container {\n",
       "    max-height: 300px;\n",
       "    overflow: auto;\n",
       "  }\n",
       "  table, th, td {\n",
       "    border: 1px solid black;\n",
       "    border-collapse: collapse;\n",
       "  }\n",
       "  th, td {\n",
       "    padding: 5px;\n",
       "  }\n",
       "  th {\n",
       "    text-align: left;\n",
       "  }\n",
       "</style><div class='table-result-container'><table class='table-result'><thead style='background-color: white'><tr><th>count(1)</th></tr></thead><tbody><tr><td>141712</td></tr></tbody></table></div>"
      ]
     },
     "metadata": {
      "application/vnd.databricks.v1+output": {
       "addedWidgets": {},
       "aggData": [],
       "aggError": "",
       "aggOverflow": false,
       "aggSchema": [],
       "aggSeriesLimitReached": false,
       "aggType": "",
       "arguments": {},
       "columnCustomDisplayInfos": {},
       "data": [
        [
         141712
        ]
       ],
       "datasetInfos": [],
       "dbfsResultPath": null,
       "isJsonSchema": true,
       "metadata": {},
       "overflow": false,
       "plotOptions": {
        "customPlotOptions": {},
        "displayType": "table",
        "pivotAggregation": null,
        "pivotColumns": null,
        "xColumns": null,
        "yColumns": null
       },
       "removedWidgets": [],
       "schema": [
        {
         "metadata": "{\"__autoGeneratedAlias\":\"true\"}",
         "name": "count(1)",
         "type": "\"long\""
        }
       ],
       "type": "table"
      }
     },
     "output_type": "display_data"
    }
   ],
   "source": [
    "%sql  \n",
    "--- Verificação se todas as linhas foram importadas no BD\n",
    "select count(1) from inc_silver.incident -- 141712\n"
   ]
  },
  {
   "cell_type": "code",
   "execution_count": 0,
   "metadata": {
    "application/vnd.databricks.v1+cell": {
     "cellMetadata": {
      "byteLimit": 2048000,
      "implicitDf": true,
      "rowLimit": 10000
     },
     "inputWidgets": {},
     "nuid": "3ffa4772-1243-4948-a97b-d7a38b361650",
     "showTitle": true,
     "tableResultSettingsMap": {},
     "title": "Verificação  nos dados  da tabela LOCATION"
    }
   },
   "outputs": [
    {
     "output_type": "display_data",
     "data": {
      "text/html": [
       "<style scoped>\n",
       "  .table-result-container {\n",
       "    max-height: 300px;\n",
       "    overflow: auto;\n",
       "  }\n",
       "  table, th, td {\n",
       "    border: 1px solid black;\n",
       "    border-collapse: collapse;\n",
       "  }\n",
       "  th, td {\n",
       "    padding: 5px;\n",
       "  }\n",
       "  th {\n",
       "    text-align: left;\n",
       "  }\n",
       "</style><div class='table-result-container'><table class='table-result'><thead style='background-color: white'><tr><th>Location</th><th>City</th><th>Country</th><th>TimeZone</th></tr></thead><tbody><tr><td>Location 204</td><td>Hyderabad</td><td>India</td><td>UTC + 5:30</td></tr><tr><td>Location 108</td><td>Pune</td><td>India</td><td>UTC + 5:30</td></tr><tr><td>Location 161</td><td>Camberra</td><td>Austrtali</td><td>UTC + 10</td></tr><tr><td>Location 18</td><td>London</td><td>England</td><td>UTC + 0</td></tr><tr><td>Location 55</td><td>São Paulo</td><td>Brazil</td><td>UTC - 3</td></tr><tr><td>Location 56</td><td>Santiago</td><td>Chile</td><td>UTC - 3</td></tr><tr><td>Location 93</td><td>Montreal</td><td>Canada</td><td>UTC - 4</td></tr></tbody></table></div>"
      ]
     },
     "metadata": {
      "application/vnd.databricks.v1+output": {
       "addedWidgets": {},
       "aggData": [],
       "aggError": "",
       "aggOverflow": false,
       "aggSchema": [],
       "aggSeriesLimitReached": false,
       "aggType": "",
       "arguments": {},
       "columnCustomDisplayInfos": {},
       "data": [
        [
         "Location 204",
         "Hyderabad",
         "India",
         "UTC + 5:30"
        ],
        [
         "Location 108",
         "Pune",
         "India",
         "UTC + 5:30"
        ],
        [
         "Location 161",
         "Camberra",
         "Austrtali",
         "UTC + 10"
        ],
        [
         "Location 18",
         "London",
         "England",
         "UTC + 0"
        ],
        [
         "Location 55",
         "São Paulo",
         "Brazil",
         "UTC - 3"
        ],
        [
         "Location 56",
         "Santiago",
         "Chile",
         "UTC - 3"
        ],
        [
         "Location 93",
         "Montreal",
         "Canada",
         "UTC - 4"
        ]
       ],
       "datasetInfos": [],
       "dbfsResultPath": null,
       "isJsonSchema": true,
       "metadata": {},
       "overflow": false,
       "plotOptions": {
        "customPlotOptions": {},
        "displayType": "table",
        "pivotAggregation": null,
        "pivotColumns": null,
        "xColumns": null,
        "yColumns": null
       },
       "removedWidgets": [],
       "schema": [
        {
         "metadata": "{}",
         "name": "Location",
         "type": "\"string\""
        },
        {
         "metadata": "{}",
         "name": "City",
         "type": "\"string\""
        },
        {
         "metadata": "{}",
         "name": "Country",
         "type": "\"string\""
        },
        {
         "metadata": "{}",
         "name": "TimeZone",
         "type": "\"string\""
        }
       ],
       "type": "table"
      }
     },
     "output_type": "display_data"
    }
   ],
   "source": [
    "%sql \n",
    "\n",
    "---  Verificação  nos dados  da tabela LOCATION\n",
    "select * from inc_silver.location"
   ]
  },
  {
   "cell_type": "code",
   "execution_count": 0,
   "metadata": {
    "application/vnd.databricks.v1+cell": {
     "cellMetadata": {
      "byteLimit": 2048000,
      "implicitDf": true,
      "rowLimit": 10000
     },
     "inputWidgets": {},
     "nuid": "f456dd8a-2c40-42d7-b800-8a4b7628127f",
     "showTitle": true,
     "tableResultSettingsMap": {},
     "title": "Verificação  nos dados  da tabela INCIDENT"
    }
   },
   "outputs": [
    {
     "output_type": "display_data",
     "data": {
      "text/html": [
       "<style scoped>\n",
       "  .table-result-container {\n",
       "    max-height: 300px;\n",
       "    overflow: auto;\n",
       "  }\n",
       "  table, th, td {\n",
       "    border: 1px solid black;\n",
       "    border-collapse: collapse;\n",
       "  }\n",
       "  th, td {\n",
       "    padding: 5px;\n",
       "  }\n",
       "  th {\n",
       "    text-align: left;\n",
       "  }\n",
       "</style><div class='table-result-container'><table class='table-result'><thead style='background-color: white'><tr><th>number</th><th>incident_state</th><th>active</th><th>reassignment_count</th><th>reopen_count</th><th>made_sla</th><th>location</th><th>priority</th><th>resolved_by</th><th>opened_at_TS</th><th>resolved_at_TS</th><th>closed_at_TS</th></tr></thead><tbody><tr><td>INC0000045</td><td>New</td><td>true</td><td>0</td><td>0</td><td>true</td><td>Location 143</td><td>3 - Moderate</td><td>Resolved by 149</td><td>2016-02-29T01:16:00.000+0000</td><td>2016-02-29T11:29:00.000+0000</td><td>2016-03-05T00:00:00.000+0000</td></tr><tr><td>INC0000045</td><td>Resolved</td><td>true</td><td>0</td><td>0</td><td>true</td><td>Location 143</td><td>3 - Moderate</td><td>Resolved by 149</td><td>2016-02-29T01:16:00.000+0000</td><td>2016-02-29T11:29:00.000+0000</td><td>2016-03-05T00:00:00.000+0000</td></tr><tr><td>INC0000045</td><td>Resolved</td><td>true</td><td>0</td><td>0</td><td>true</td><td>Location 143</td><td>3 - Moderate</td><td>Resolved by 149</td><td>2016-02-29T01:16:00.000+0000</td><td>2016-02-29T11:29:00.000+0000</td><td>2016-03-05T00:00:00.000+0000</td></tr><tr><td>INC0000045</td><td>Closed</td><td>false</td><td>0</td><td>0</td><td>true</td><td>Location 143</td><td>3 - Moderate</td><td>Resolved by 149</td><td>2016-02-29T01:16:00.000+0000</td><td>2016-02-29T11:29:00.000+0000</td><td>2016-03-05T00:00:00.000+0000</td></tr><tr><td>INC0000047</td><td>New</td><td>true</td><td>0</td><td>0</td><td>true</td><td>Location 165</td><td>3 - Moderate</td><td>Resolved by 81</td><td>2016-02-29T04:40:00.000+0000</td><td>2016-03-01T09:52:00.000+0000</td><td>2016-03-06T10:00:00.000+0000</td></tr><tr><td>INC0000047</td><td>Active</td><td>true</td><td>1</td><td>0</td><td>true</td><td>Location 165</td><td>3 - Moderate</td><td>Resolved by 81</td><td>2016-02-29T04:40:00.000+0000</td><td>2016-03-01T09:52:00.000+0000</td><td>2016-03-06T10:00:00.000+0000</td></tr><tr><td>INC0000047</td><td>Active</td><td>true</td><td>1</td><td>0</td><td>true</td><td>Location 165</td><td>3 - Moderate</td><td>Resolved by 81</td><td>2016-02-29T04:40:00.000+0000</td><td>2016-03-01T09:52:00.000+0000</td><td>2016-03-06T10:00:00.000+0000</td></tr><tr><td>INC0000047</td><td>Active</td><td>true</td><td>1</td><td>0</td><td>true</td><td>Location 165</td><td>3 - Moderate</td><td>Resolved by 81</td><td>2016-02-29T04:40:00.000+0000</td><td>2016-03-01T09:52:00.000+0000</td><td>2016-03-06T10:00:00.000+0000</td></tr><tr><td>INC0000047</td><td>Active</td><td>true</td><td>1</td><td>0</td><td>true</td><td>Location 165</td><td>3 - Moderate</td><td>Resolved by 81</td><td>2016-02-29T04:40:00.000+0000</td><td>2016-03-01T09:52:00.000+0000</td><td>2016-03-06T10:00:00.000+0000</td></tr><tr><td>INC0000047</td><td>Active</td><td>true</td><td>1</td><td>0</td><td>true</td><td>Location 165</td><td>3 - Moderate</td><td>Resolved by 81</td><td>2016-02-29T04:40:00.000+0000</td><td>2016-03-01T09:52:00.000+0000</td><td>2016-03-06T10:00:00.000+0000</td></tr></tbody></table></div>"
      ]
     },
     "metadata": {
      "application/vnd.databricks.v1+output": {
       "addedWidgets": {},
       "aggData": [],
       "aggError": "",
       "aggOverflow": false,
       "aggSchema": [],
       "aggSeriesLimitReached": false,
       "aggType": "",
       "arguments": {},
       "columnCustomDisplayInfos": {},
       "data": [
        [
         "INC0000045",
         "New",
         true,
         0,
         0,
         true,
         "Location 143",
         "3 - Moderate",
         "Resolved by 149",
         "2016-02-29T01:16:00.000+0000",
         "2016-02-29T11:29:00.000+0000",
         "2016-03-05T00:00:00.000+0000"
        ],
        [
         "INC0000045",
         "Resolved",
         true,
         0,
         0,
         true,
         "Location 143",
         "3 - Moderate",
         "Resolved by 149",
         "2016-02-29T01:16:00.000+0000",
         "2016-02-29T11:29:00.000+0000",
         "2016-03-05T00:00:00.000+0000"
        ],
        [
         "INC0000045",
         "Resolved",
         true,
         0,
         0,
         true,
         "Location 143",
         "3 - Moderate",
         "Resolved by 149",
         "2016-02-29T01:16:00.000+0000",
         "2016-02-29T11:29:00.000+0000",
         "2016-03-05T00:00:00.000+0000"
        ],
        [
         "INC0000045",
         "Closed",
         false,
         0,
         0,
         true,
         "Location 143",
         "3 - Moderate",
         "Resolved by 149",
         "2016-02-29T01:16:00.000+0000",
         "2016-02-29T11:29:00.000+0000",
         "2016-03-05T00:00:00.000+0000"
        ],
        [
         "INC0000047",
         "New",
         true,
         0,
         0,
         true,
         "Location 165",
         "3 - Moderate",
         "Resolved by 81",
         "2016-02-29T04:40:00.000+0000",
         "2016-03-01T09:52:00.000+0000",
         "2016-03-06T10:00:00.000+0000"
        ],
        [
         "INC0000047",
         "Active",
         true,
         1,
         0,
         true,
         "Location 165",
         "3 - Moderate",
         "Resolved by 81",
         "2016-02-29T04:40:00.000+0000",
         "2016-03-01T09:52:00.000+0000",
         "2016-03-06T10:00:00.000+0000"
        ],
        [
         "INC0000047",
         "Active",
         true,
         1,
         0,
         true,
         "Location 165",
         "3 - Moderate",
         "Resolved by 81",
         "2016-02-29T04:40:00.000+0000",
         "2016-03-01T09:52:00.000+0000",
         "2016-03-06T10:00:00.000+0000"
        ],
        [
         "INC0000047",
         "Active",
         true,
         1,
         0,
         true,
         "Location 165",
         "3 - Moderate",
         "Resolved by 81",
         "2016-02-29T04:40:00.000+0000",
         "2016-03-01T09:52:00.000+0000",
         "2016-03-06T10:00:00.000+0000"
        ],
        [
         "INC0000047",
         "Active",
         true,
         1,
         0,
         true,
         "Location 165",
         "3 - Moderate",
         "Resolved by 81",
         "2016-02-29T04:40:00.000+0000",
         "2016-03-01T09:52:00.000+0000",
         "2016-03-06T10:00:00.000+0000"
        ],
        [
         "INC0000047",
         "Active",
         true,
         1,
         0,
         true,
         "Location 165",
         "3 - Moderate",
         "Resolved by 81",
         "2016-02-29T04:40:00.000+0000",
         "2016-03-01T09:52:00.000+0000",
         "2016-03-06T10:00:00.000+0000"
        ]
       ],
       "datasetInfos": [],
       "dbfsResultPath": null,
       "isJsonSchema": true,
       "metadata": {},
       "overflow": false,
       "plotOptions": {
        "customPlotOptions": {},
        "displayType": "table",
        "pivotAggregation": null,
        "pivotColumns": null,
        "xColumns": null,
        "yColumns": null
       },
       "removedWidgets": [],
       "schema": [
        {
         "metadata": "{}",
         "name": "number",
         "type": "\"string\""
        },
        {
         "metadata": "{}",
         "name": "incident_state",
         "type": "\"string\""
        },
        {
         "metadata": "{}",
         "name": "active",
         "type": "\"boolean\""
        },
        {
         "metadata": "{}",
         "name": "reassignment_count",
         "type": "\"integer\""
        },
        {
         "metadata": "{}",
         "name": "reopen_count",
         "type": "\"integer\""
        },
        {
         "metadata": "{}",
         "name": "made_sla",
         "type": "\"boolean\""
        },
        {
         "metadata": "{}",
         "name": "location",
         "type": "\"string\""
        },
        {
         "metadata": "{}",
         "name": "priority",
         "type": "\"string\""
        },
        {
         "metadata": "{}",
         "name": "resolved_by",
         "type": "\"string\""
        },
        {
         "metadata": "{}",
         "name": "opened_at_TS",
         "type": "\"timestamp\""
        },
        {
         "metadata": "{}",
         "name": "resolved_at_TS",
         "type": "\"timestamp\""
        },
        {
         "metadata": "{}",
         "name": "closed_at_TS",
         "type": "\"timestamp\""
        }
       ],
       "type": "table"
      }
     },
     "output_type": "display_data"
    }
   ],
   "source": [
    "%sql \n",
    "---  Verificação  nos dados  da tabela INCIDENT\n",
    "select * from inc_silver.incident LIMIT 10"
   ]
  },
  {
   "cell_type": "code",
   "execution_count": 0,
   "metadata": {
    "application/vnd.databricks.v1+cell": {
     "cellMetadata": {
      "byteLimit": 2048000,
      "implicitDf": true,
      "rowLimit": 10000
     },
     "inputWidgets": {},
     "nuid": "16be30d5-f24c-4c0c-9224-682bfee0376f",
     "showTitle": true,
     "tableResultSettingsMap": {},
     "title": "Verificação de Tipos da tabela INCIDENT"
    }
   },
   "outputs": [
    {
     "output_type": "display_data",
     "data": {
      "text/html": [
       "<style scoped>\n",
       "  .table-result-container {\n",
       "    max-height: 300px;\n",
       "    overflow: auto;\n",
       "  }\n",
       "  table, th, td {\n",
       "    border: 1px solid black;\n",
       "    border-collapse: collapse;\n",
       "  }\n",
       "  th, td {\n",
       "    padding: 5px;\n",
       "  }\n",
       "  th {\n",
       "    text-align: left;\n",
       "  }\n",
       "</style><div class='table-result-container'><table class='table-result'><thead style='background-color: white'><tr><th>col_name</th><th>data_type</th><th>comment</th></tr></thead><tbody><tr><td>Location</td><td>string</td><td>null</td></tr><tr><td>City</td><td>string</td><td>null</td></tr><tr><td>Country</td><td>string</td><td>null</td></tr><tr><td>TimeZone</td><td>string</td><td>null</td></tr></tbody></table></div>"
      ]
     },
     "metadata": {
      "application/vnd.databricks.v1+output": {
       "addedWidgets": {},
       "aggData": [],
       "aggError": "",
       "aggOverflow": false,
       "aggSchema": [],
       "aggSeriesLimitReached": false,
       "aggType": "",
       "arguments": {},
       "columnCustomDisplayInfos": {},
       "data": [
        [
         "Location",
         "string",
         null
        ],
        [
         "City",
         "string",
         null
        ],
        [
         "Country",
         "string",
         null
        ],
        [
         "TimeZone",
         "string",
         null
        ]
       ],
       "datasetInfos": [],
       "dbfsResultPath": null,
       "isJsonSchema": true,
       "metadata": {},
       "overflow": false,
       "plotOptions": {
        "customPlotOptions": {},
        "displayType": "table",
        "pivotAggregation": null,
        "pivotColumns": null,
        "xColumns": null,
        "yColumns": null
       },
       "removedWidgets": [],
       "schema": [
        {
         "metadata": "{\"comment\":\"name of the column\"}",
         "name": "col_name",
         "type": "\"string\""
        },
        {
         "metadata": "{\"comment\":\"data type of the column\"}",
         "name": "data_type",
         "type": "\"string\""
        },
        {
         "metadata": "{\"comment\":\"comment of the column\"}",
         "name": "comment",
         "type": "\"string\""
        }
       ],
       "type": "table"
      }
     },
     "output_type": "display_data"
    }
   ],
   "source": [
    "%sql \n",
    "---  Verificação de Tipos da tabela INCIDENT\n",
    "desc inc_silver.location"
   ]
  },
  {
   "cell_type": "markdown",
   "metadata": {
    "application/vnd.databricks.v1+cell": {
     "cellMetadata": {},
     "inputWidgets": {},
     "nuid": "321ce699-1cbc-4d47-a589-10dd5fb0f12b",
     "showTitle": false,
     "tableResultSettingsMap": {},
     "title": ""
    }
   },
   "source": [
    "##7.3 - **GOLD** - Base de Dados - (24985 rows)"
   ]
  },
  {
   "cell_type": "markdown",
   "metadata": {
    "application/vnd.databricks.v1+cell": {
     "cellMetadata": {},
     "inputWidgets": {},
     "nuid": "e655ff75-53d8-46f7-aafe-43418a5e62fc",
     "showTitle": false,
     "tableResultSettingsMap": {},
     "title": ""
    }
   },
   "source": [
    "###7.3.2 - Carga de Dados - GOLD"
   ]
  },
  {
   "cell_type": "code",
   "execution_count": 0,
   "metadata": {
    "application/vnd.databricks.v1+cell": {
     "cellMetadata": {
      "byteLimit": 2048000,
      "implicitDf": true,
      "rowLimit": 10000
     },
     "inputWidgets": {},
     "nuid": "0f7339a6-c423-4253-80e4-8262fc2d3124",
     "showTitle": true,
     "tableResultSettingsMap": {},
     "title": "Apagando o database \"GOLD\" para ser recriado"
    }
   },
   "outputs": [
    {
     "output_type": "display_data",
     "data": {
      "text/html": [
       "<style scoped>\n",
       "  .table-result-container {\n",
       "    max-height: 300px;\n",
       "    overflow: auto;\n",
       "  }\n",
       "  table, th, td {\n",
       "    border: 1px solid black;\n",
       "    border-collapse: collapse;\n",
       "  }\n",
       "  th, td {\n",
       "    padding: 5px;\n",
       "  }\n",
       "  th {\n",
       "    text-align: left;\n",
       "  }\n",
       "</style><div class='table-result-container'><table class='table-result'><thead style='background-color: white'><tr></tr></thead><tbody></tbody></table></div>"
      ]
     },
     "metadata": {
      "application/vnd.databricks.v1+output": {
       "addedWidgets": {},
       "aggData": [],
       "aggError": "",
       "aggOverflow": false,
       "aggSchema": [],
       "aggSeriesLimitReached": false,
       "aggType": "",
       "arguments": {},
       "columnCustomDisplayInfos": {},
       "data": [],
       "datasetInfos": [],
       "dbfsResultPath": null,
       "isJsonSchema": true,
       "metadata": {},
       "overflow": false,
       "plotOptions": {
        "customPlotOptions": {},
        "displayType": "table",
        "pivotAggregation": null,
        "pivotColumns": null,
        "xColumns": null,
        "yColumns": null
       },
       "removedWidgets": [],
       "schema": [],
       "type": "table"
      }
     },
     "output_type": "display_data"
    }
   ],
   "source": [
    "%sql \n",
    "---  Apagando o database \"GOLD\" para ser recriado\n",
    "DROP DATABASE IF EXISTS inc_gold CASCADE;"
   ]
  },
  {
   "cell_type": "code",
   "execution_count": 0,
   "metadata": {
    "application/vnd.databricks.v1+cell": {
     "cellMetadata": {
      "byteLimit": 2048000,
      "implicitDf": true,
      "rowLimit": 10000
     },
     "inputWidgets": {},
     "nuid": "62175233-7803-4405-9224-a108c1293fe8",
     "showTitle": true,
     "tableResultSettingsMap": {},
     "title": "Recriando o database \"GOLD\""
    }
   },
   "outputs": [
    {
     "output_type": "display_data",
     "data": {
      "text/html": [
       "<style scoped>\n",
       "  .table-result-container {\n",
       "    max-height: 300px;\n",
       "    overflow: auto;\n",
       "  }\n",
       "  table, th, td {\n",
       "    border: 1px solid black;\n",
       "    border-collapse: collapse;\n",
       "  }\n",
       "  th, td {\n",
       "    padding: 5px;\n",
       "  }\n",
       "  th {\n",
       "    text-align: left;\n",
       "  }\n",
       "</style><div class='table-result-container'><table class='table-result'><thead style='background-color: white'><tr></tr></thead><tbody></tbody></table></div>"
      ]
     },
     "metadata": {
      "application/vnd.databricks.v1+output": {
       "addedWidgets": {},
       "aggData": [],
       "aggError": "",
       "aggOverflow": false,
       "aggSchema": [],
       "aggSeriesLimitReached": false,
       "aggType": "",
       "arguments": {},
       "columnCustomDisplayInfos": {},
       "data": [],
       "datasetInfos": [],
       "dbfsResultPath": null,
       "isJsonSchema": true,
       "metadata": {},
       "overflow": false,
       "plotOptions": {
        "customPlotOptions": {},
        "displayType": "table",
        "pivotAggregation": null,
        "pivotColumns": null,
        "xColumns": null,
        "yColumns": null
       },
       "removedWidgets": [],
       "schema": [],
       "type": "table"
      }
     },
     "output_type": "display_data"
    }
   ],
   "source": [
    "%sql \n",
    "---   Recriando o database \"GOLD\"\n",
    "CREATE DATABASE inc_gold;"
   ]
  },
  {
   "cell_type": "code",
   "execution_count": 0,
   "metadata": {
    "application/vnd.databricks.v1+cell": {
     "cellMetadata": {
      "byteLimit": 2048000,
      "rowLimit": 10000
     },
     "inputWidgets": {},
     "nuid": "cf02e5c0-75c1-4e82-b258-d5c22ebeda0e",
     "showTitle": true,
     "tableResultSettingsMap": {},
     "title": "Transformando o Dataset  -  Removendo linhas inúteis a análise"
    }
   },
   "outputs": [],
   "source": [
    "###  Transformando o Dataset  -  Removendo linhas inúteis a análise\n",
    "incident_df_Gold =incident_df_Silver.filter(incident_df_Silver.incident_state==\"Closed\")"
   ]
  },
  {
   "cell_type": "code",
   "execution_count": 0,
   "metadata": {
    "application/vnd.databricks.v1+cell": {
     "cellMetadata": {
      "byteLimit": 2048000,
      "rowLimit": 10000
     },
     "inputWidgets": {},
     "nuid": "27421432-1009-4e51-9356-d8a5e461c0bf",
     "showTitle": true,
     "tableResultSettingsMap": {},
     "title": "Criação da tabela LOCATION a partir do dataframe"
    }
   },
   "outputs": [],
   "source": [
    "###  Criação da tabela LOCATION a partir do dataframe\n",
    "location_df.write.mode(\"overwrite\").saveAsTable(\"inc_gold.location\")"
   ]
  },
  {
   "cell_type": "code",
   "execution_count": 0,
   "metadata": {
    "application/vnd.databricks.v1+cell": {
     "cellMetadata": {
      "byteLimit": 2048000,
      "rowLimit": 10000
     },
     "inputWidgets": {},
     "nuid": "359ef0b2-478c-44e0-8e00-6e3bf14a64c5",
     "showTitle": true,
     "tableResultSettingsMap": {},
     "title": "Criação da tabela INCIDENT a partir do dataframe"
    }
   },
   "outputs": [],
   "source": [
    "###  Criação da tabela INCIDENT a partir do dataframe\n",
    "incident_df_Gold.write.mode(\"overwrite\").saveAsTable(\"inc_gold.incident\")"
   ]
  },
  {
   "cell_type": "code",
   "execution_count": 0,
   "metadata": {
    "application/vnd.databricks.v1+cell": {
     "cellMetadata": {
      "byteLimit": 2048000,
      "implicitDf": true,
      "rowLimit": 10000
     },
     "inputWidgets": {},
     "nuid": "b34c1aca-e9e8-40e4-9031-7e72e1943aaf",
     "showTitle": true,
     "tableResultSettingsMap": {},
     "title": "Verificação se todas as linhas foram importadas no BD"
    }
   },
   "outputs": [
    {
     "output_type": "display_data",
     "data": {
      "text/html": [
       "<style scoped>\n",
       "  .table-result-container {\n",
       "    max-height: 300px;\n",
       "    overflow: auto;\n",
       "  }\n",
       "  table, th, td {\n",
       "    border: 1px solid black;\n",
       "    border-collapse: collapse;\n",
       "  }\n",
       "  th, td {\n",
       "    padding: 5px;\n",
       "  }\n",
       "  th {\n",
       "    text-align: left;\n",
       "  }\n",
       "</style><div class='table-result-container'><table class='table-result'><thead style='background-color: white'><tr><th>count(1)</th></tr></thead><tbody><tr><td>24985</td></tr></tbody></table></div>"
      ]
     },
     "metadata": {
      "application/vnd.databricks.v1+output": {
       "addedWidgets": {},
       "aggData": [],
       "aggError": "",
       "aggOverflow": false,
       "aggSchema": [],
       "aggSeriesLimitReached": false,
       "aggType": "",
       "arguments": {},
       "columnCustomDisplayInfos": {},
       "data": [
        [
         24985
        ]
       ],
       "datasetInfos": [],
       "dbfsResultPath": null,
       "isJsonSchema": true,
       "metadata": {},
       "overflow": false,
       "plotOptions": {
        "customPlotOptions": {},
        "displayType": "table",
        "pivotAggregation": null,
        "pivotColumns": null,
        "xColumns": null,
        "yColumns": null
       },
       "removedWidgets": [],
       "schema": [
        {
         "metadata": "{\"__autoGeneratedAlias\":\"true\"}",
         "name": "count(1)",
         "type": "\"long\""
        }
       ],
       "type": "table"
      }
     },
     "output_type": "display_data"
    }
   ],
   "source": [
    "%sql \n",
    "---  Verificação se todas as linhas foram importadas no BD\n",
    " select count(1) from inc_gold.incident -- 24985"
   ]
  },
  {
   "cell_type": "code",
   "execution_count": 0,
   "metadata": {
    "application/vnd.databricks.v1+cell": {
     "cellMetadata": {
      "byteLimit": 2048000,
      "implicitDf": true,
      "rowLimit": 10000
     },
     "inputWidgets": {},
     "nuid": "d4f4ee30-b349-46d1-ba9d-500275974850",
     "showTitle": true,
     "tableResultSettingsMap": {},
     "title": "Verificação de tipos da Tabela location"
    }
   },
   "outputs": [
    {
     "output_type": "display_data",
     "data": {
      "text/html": [
       "<style scoped>\n",
       "  .table-result-container {\n",
       "    max-height: 300px;\n",
       "    overflow: auto;\n",
       "  }\n",
       "  table, th, td {\n",
       "    border: 1px solid black;\n",
       "    border-collapse: collapse;\n",
       "  }\n",
       "  th, td {\n",
       "    padding: 5px;\n",
       "  }\n",
       "  th {\n",
       "    text-align: left;\n",
       "  }\n",
       "</style><div class='table-result-container'><table class='table-result'><thead style='background-color: white'><tr><th>col_name</th><th>data_type</th><th>comment</th></tr></thead><tbody><tr><td>Location</td><td>string</td><td>null</td></tr><tr><td>City</td><td>string</td><td>null</td></tr><tr><td>Country</td><td>string</td><td>null</td></tr><tr><td>TimeZone</td><td>string</td><td>null</td></tr></tbody></table></div>"
      ]
     },
     "metadata": {
      "application/vnd.databricks.v1+output": {
       "addedWidgets": {},
       "aggData": [],
       "aggError": "",
       "aggOverflow": false,
       "aggSchema": [],
       "aggSeriesLimitReached": false,
       "aggType": "",
       "arguments": {},
       "columnCustomDisplayInfos": {},
       "data": [
        [
         "Location",
         "string",
         null
        ],
        [
         "City",
         "string",
         null
        ],
        [
         "Country",
         "string",
         null
        ],
        [
         "TimeZone",
         "string",
         null
        ]
       ],
       "datasetInfos": [],
       "dbfsResultPath": null,
       "isJsonSchema": true,
       "metadata": {},
       "overflow": false,
       "plotOptions": {
        "customPlotOptions": {},
        "displayType": "table",
        "pivotAggregation": null,
        "pivotColumns": null,
        "xColumns": null,
        "yColumns": null
       },
       "removedWidgets": [],
       "schema": [
        {
         "metadata": "{\"comment\":\"name of the column\"}",
         "name": "col_name",
         "type": "\"string\""
        },
        {
         "metadata": "{\"comment\":\"data type of the column\"}",
         "name": "data_type",
         "type": "\"string\""
        },
        {
         "metadata": "{\"comment\":\"comment of the column\"}",
         "name": "comment",
         "type": "\"string\""
        }
       ],
       "type": "table"
      }
     },
     "output_type": "display_data"
    }
   ],
   "source": [
    "%sql\n",
    "--- Verificação de tipos da Tabela location\n",
    "desc inc_gold.location"
   ]
  },
  {
   "cell_type": "code",
   "execution_count": 0,
   "metadata": {
    "application/vnd.databricks.v1+cell": {
     "cellMetadata": {
      "byteLimit": 2048000,
      "implicitDf": true,
      "rowLimit": 10000
     },
     "inputWidgets": {},
     "nuid": "e4164f94-8465-4912-aa36-8a6ce4e05e6d",
     "showTitle": true,
     "tableResultSettingsMap": {},
     "title": "Verificação  nos dados  da tabela LOCATION"
    }
   },
   "outputs": [
    {
     "output_type": "display_data",
     "data": {
      "text/html": [
       "<style scoped>\n",
       "  .table-result-container {\n",
       "    max-height: 300px;\n",
       "    overflow: auto;\n",
       "  }\n",
       "  table, th, td {\n",
       "    border: 1px solid black;\n",
       "    border-collapse: collapse;\n",
       "  }\n",
       "  th, td {\n",
       "    padding: 5px;\n",
       "  }\n",
       "  th {\n",
       "    text-align: left;\n",
       "  }\n",
       "</style><div class='table-result-container'><table class='table-result'><thead style='background-color: white'><tr><th>Location</th><th>City</th><th>Country</th><th>TimeZone</th></tr></thead><tbody><tr><td>Location 204</td><td>Hyderabad</td><td>India</td><td>UTC + 5:30</td></tr><tr><td>Location 108</td><td>Pune</td><td>India</td><td>UTC + 5:30</td></tr><tr><td>Location 161</td><td>Camberra</td><td>Austrtali</td><td>UTC + 10</td></tr><tr><td>Location 18</td><td>London</td><td>England</td><td>UTC + 0</td></tr><tr><td>Location 55</td><td>São Paulo</td><td>Brazil</td><td>UTC - 3</td></tr><tr><td>Location 56</td><td>Santiago</td><td>Chile</td><td>UTC - 3</td></tr><tr><td>Location 93</td><td>Montreal</td><td>Canada</td><td>UTC - 4</td></tr></tbody></table></div>"
      ]
     },
     "metadata": {
      "application/vnd.databricks.v1+output": {
       "addedWidgets": {},
       "aggData": [],
       "aggError": "",
       "aggOverflow": false,
       "aggSchema": [],
       "aggSeriesLimitReached": false,
       "aggType": "",
       "arguments": {},
       "columnCustomDisplayInfos": {},
       "data": [
        [
         "Location 204",
         "Hyderabad",
         "India",
         "UTC + 5:30"
        ],
        [
         "Location 108",
         "Pune",
         "India",
         "UTC + 5:30"
        ],
        [
         "Location 161",
         "Camberra",
         "Austrtali",
         "UTC + 10"
        ],
        [
         "Location 18",
         "London",
         "England",
         "UTC + 0"
        ],
        [
         "Location 55",
         "São Paulo",
         "Brazil",
         "UTC - 3"
        ],
        [
         "Location 56",
         "Santiago",
         "Chile",
         "UTC - 3"
        ],
        [
         "Location 93",
         "Montreal",
         "Canada",
         "UTC - 4"
        ]
       ],
       "datasetInfos": [],
       "dbfsResultPath": null,
       "isJsonSchema": true,
       "metadata": {},
       "overflow": false,
       "plotOptions": {
        "customPlotOptions": {},
        "displayType": "table",
        "pivotAggregation": null,
        "pivotColumns": null,
        "xColumns": null,
        "yColumns": null
       },
       "removedWidgets": [],
       "schema": [
        {
         "metadata": "{}",
         "name": "Location",
         "type": "\"string\""
        },
        {
         "metadata": "{}",
         "name": "City",
         "type": "\"string\""
        },
        {
         "metadata": "{}",
         "name": "Country",
         "type": "\"string\""
        },
        {
         "metadata": "{}",
         "name": "TimeZone",
         "type": "\"string\""
        }
       ],
       "type": "table"
      }
     },
     "output_type": "display_data"
    }
   ],
   "source": [
    "%sql \n",
    "---  Verificação  nos dados  da tabela LOCATION\n",
    "select * from inc_gold.location"
   ]
  },
  {
   "cell_type": "code",
   "execution_count": 0,
   "metadata": {
    "application/vnd.databricks.v1+cell": {
     "cellMetadata": {
      "byteLimit": 2048000,
      "implicitDf": true,
      "rowLimit": 10000
     },
     "inputWidgets": {},
     "nuid": "5e6740d2-1afb-4dad-a323-a2691c4c273f",
     "showTitle": true,
     "tableResultSettingsMap": {},
     "title": "Verificação  nos dados  da tabela INCIDENT"
    }
   },
   "outputs": [
    {
     "output_type": "display_data",
     "data": {
      "text/html": [
       "<style scoped>\n",
       "  .table-result-container {\n",
       "    max-height: 300px;\n",
       "    overflow: auto;\n",
       "  }\n",
       "  table, th, td {\n",
       "    border: 1px solid black;\n",
       "    border-collapse: collapse;\n",
       "  }\n",
       "  th, td {\n",
       "    padding: 5px;\n",
       "  }\n",
       "  th {\n",
       "    text-align: left;\n",
       "  }\n",
       "</style><div class='table-result-container'><table class='table-result'><thead style='background-color: white'><tr><th>number</th><th>incident_state</th><th>active</th><th>reassignment_count</th><th>reopen_count</th><th>made_sla</th><th>location</th><th>priority</th><th>resolved_by</th><th>opened_at_TS</th><th>resolved_at_TS</th><th>closed_at_TS</th></tr></thead><tbody><tr><td>INC0000045</td><td>Closed</td><td>false</td><td>0</td><td>0</td><td>true</td><td>Location 143</td><td>3 - Moderate</td><td>Resolved by 149</td><td>2016-02-29T01:16:00.000+0000</td><td>2016-02-29T11:29:00.000+0000</td><td>2016-03-05T00:00:00.000+0000</td></tr><tr><td>INC0000047</td><td>Closed</td><td>false</td><td>1</td><td>0</td><td>true</td><td>Location 165</td><td>3 - Moderate</td><td>Resolved by 81</td><td>2016-02-29T04:40:00.000+0000</td><td>2016-03-01T09:52:00.000+0000</td><td>2016-03-06T10:00:00.000+0000</td></tr><tr><td>INC0000057</td><td>Closed</td><td>false</td><td>0</td><td>0</td><td>true</td><td>Location 204</td><td>3 - Moderate</td><td>Resolved by 5</td><td>2016-02-29T06:10:00.000+0000</td><td>2016-03-01T02:55:00.000+0000</td><td>2016-03-06T03:00:00.000+0000</td></tr><tr><td>INC0000060</td><td>Closed</td><td>false</td><td>0</td><td>0</td><td>true</td><td>Location 204</td><td>3 - Moderate</td><td>Resolved by 113</td><td>2016-02-29T06:38:00.000+0000</td><td>2016-03-02T00:06:00.000+0000</td><td>null</td></tr><tr><td>INC0000062</td><td>Closed</td><td>false</td><td>1</td><td>0</td><td>false</td><td>Location 93</td><td>2 - High</td><td>Resolved by 62</td><td>2016-02-29T06:58:00.000+0000</td><td>null</td><td>null</td></tr><tr><td>INC0000063</td><td>Closed</td><td>false</td><td>1</td><td>0</td><td>true</td><td>Location 93</td><td>3 - Moderate</td><td>Resolved by 62</td><td>2016-02-29T07:08:00.000+0000</td><td>null</td><td>null</td></tr><tr><td>INC0000064</td><td>Closed</td><td>false</td><td>1</td><td>0</td><td>true</td><td>Location 143</td><td>3 - Moderate</td><td>Resolved by 71</td><td>2016-02-29T07:10:00.000+0000</td><td>null</td><td>null</td></tr><tr><td>INC0000065</td><td>Closed</td><td>false</td><td>6</td><td>0</td><td>true</td><td>Location 108</td><td>3 - Moderate</td><td>Resolved by 197</td><td>2016-02-29T07:38:00.000+0000</td><td>null</td><td>null</td></tr><tr><td>INC0000066</td><td>Closed</td><td>false</td><td>1</td><td>0</td><td>true</td><td>Location 161</td><td>3 - Moderate</td><td>Resolved by 208</td><td>2016-02-29T08:03:00.000+0000</td><td>null</td><td>null</td></tr><tr><td>INC0000067</td><td>Closed</td><td>false</td><td>1</td><td>0</td><td>true</td><td>Location 143</td><td>3 - Moderate</td><td>Resolved by 215</td><td>2016-02-29T08:03:00.000+0000</td><td>2016-03-02T11:11:00.000+0000</td><td>2016-03-07T00:00:00.000+0000</td></tr></tbody></table></div>"
      ]
     },
     "metadata": {
      "application/vnd.databricks.v1+output": {
       "addedWidgets": {},
       "aggData": [],
       "aggError": "",
       "aggOverflow": false,
       "aggSchema": [],
       "aggSeriesLimitReached": false,
       "aggType": "",
       "arguments": {},
       "columnCustomDisplayInfos": {},
       "data": [
        [
         "INC0000045",
         "Closed",
         false,
         0,
         0,
         true,
         "Location 143",
         "3 - Moderate",
         "Resolved by 149",
         "2016-02-29T01:16:00.000+0000",
         "2016-02-29T11:29:00.000+0000",
         "2016-03-05T00:00:00.000+0000"
        ],
        [
         "INC0000047",
         "Closed",
         false,
         1,
         0,
         true,
         "Location 165",
         "3 - Moderate",
         "Resolved by 81",
         "2016-02-29T04:40:00.000+0000",
         "2016-03-01T09:52:00.000+0000",
         "2016-03-06T10:00:00.000+0000"
        ],
        [
         "INC0000057",
         "Closed",
         false,
         0,
         0,
         true,
         "Location 204",
         "3 - Moderate",
         "Resolved by 5",
         "2016-02-29T06:10:00.000+0000",
         "2016-03-01T02:55:00.000+0000",
         "2016-03-06T03:00:00.000+0000"
        ],
        [
         "INC0000060",
         "Closed",
         false,
         0,
         0,
         true,
         "Location 204",
         "3 - Moderate",
         "Resolved by 113",
         "2016-02-29T06:38:00.000+0000",
         "2016-03-02T00:06:00.000+0000",
         null
        ],
        [
         "INC0000062",
         "Closed",
         false,
         1,
         0,
         false,
         "Location 93",
         "2 - High",
         "Resolved by 62",
         "2016-02-29T06:58:00.000+0000",
         null,
         null
        ],
        [
         "INC0000063",
         "Closed",
         false,
         1,
         0,
         true,
         "Location 93",
         "3 - Moderate",
         "Resolved by 62",
         "2016-02-29T07:08:00.000+0000",
         null,
         null
        ],
        [
         "INC0000064",
         "Closed",
         false,
         1,
         0,
         true,
         "Location 143",
         "3 - Moderate",
         "Resolved by 71",
         "2016-02-29T07:10:00.000+0000",
         null,
         null
        ],
        [
         "INC0000065",
         "Closed",
         false,
         6,
         0,
         true,
         "Location 108",
         "3 - Moderate",
         "Resolved by 197",
         "2016-02-29T07:38:00.000+0000",
         null,
         null
        ],
        [
         "INC0000066",
         "Closed",
         false,
         1,
         0,
         true,
         "Location 161",
         "3 - Moderate",
         "Resolved by 208",
         "2016-02-29T08:03:00.000+0000",
         null,
         null
        ],
        [
         "INC0000067",
         "Closed",
         false,
         1,
         0,
         true,
         "Location 143",
         "3 - Moderate",
         "Resolved by 215",
         "2016-02-29T08:03:00.000+0000",
         "2016-03-02T11:11:00.000+0000",
         "2016-03-07T00:00:00.000+0000"
        ]
       ],
       "datasetInfos": [],
       "dbfsResultPath": null,
       "isJsonSchema": true,
       "metadata": {},
       "overflow": false,
       "plotOptions": {
        "customPlotOptions": {},
        "displayType": "table",
        "pivotAggregation": null,
        "pivotColumns": null,
        "xColumns": null,
        "yColumns": null
       },
       "removedWidgets": [],
       "schema": [
        {
         "metadata": "{}",
         "name": "number",
         "type": "\"string\""
        },
        {
         "metadata": "{}",
         "name": "incident_state",
         "type": "\"string\""
        },
        {
         "metadata": "{}",
         "name": "active",
         "type": "\"boolean\""
        },
        {
         "metadata": "{}",
         "name": "reassignment_count",
         "type": "\"integer\""
        },
        {
         "metadata": "{}",
         "name": "reopen_count",
         "type": "\"integer\""
        },
        {
         "metadata": "{}",
         "name": "made_sla",
         "type": "\"boolean\""
        },
        {
         "metadata": "{}",
         "name": "location",
         "type": "\"string\""
        },
        {
         "metadata": "{}",
         "name": "priority",
         "type": "\"string\""
        },
        {
         "metadata": "{}",
         "name": "resolved_by",
         "type": "\"string\""
        },
        {
         "metadata": "{}",
         "name": "opened_at_TS",
         "type": "\"timestamp\""
        },
        {
         "metadata": "{}",
         "name": "resolved_at_TS",
         "type": "\"timestamp\""
        },
        {
         "metadata": "{}",
         "name": "closed_at_TS",
         "type": "\"timestamp\""
        }
       ],
       "type": "table"
      }
     },
     "output_type": "display_data"
    }
   ],
   "source": [
    "%sql \n",
    "---  Verificação  nos dados  da tabela INCIDENT\n",
    "select * from inc_gold.incident LIMIT 10\n"
   ]
  },
  {
   "cell_type": "code",
   "execution_count": 0,
   "metadata": {
    "application/vnd.databricks.v1+cell": {
     "cellMetadata": {
      "byteLimit": 2048000,
      "implicitDf": true,
      "rowLimit": 10000
     },
     "inputWidgets": {},
     "nuid": "2c0555ca-ccf4-4d9c-87d4-70368799a7bf",
     "showTitle": true,
     "tableResultSettingsMap": {},
     "title": "Verificação de Tipos da tabela INCIDENT"
    }
   },
   "outputs": [
    {
     "output_type": "display_data",
     "data": {
      "text/html": [
       "<style scoped>\n",
       "  .table-result-container {\n",
       "    max-height: 300px;\n",
       "    overflow: auto;\n",
       "  }\n",
       "  table, th, td {\n",
       "    border: 1px solid black;\n",
       "    border-collapse: collapse;\n",
       "  }\n",
       "  th, td {\n",
       "    padding: 5px;\n",
       "  }\n",
       "  th {\n",
       "    text-align: left;\n",
       "  }\n",
       "</style><div class='table-result-container'><table class='table-result'><thead style='background-color: white'><tr><th>col_name</th><th>data_type</th><th>comment</th></tr></thead><tbody><tr><td>number</td><td>string</td><td>null</td></tr><tr><td>incident_state</td><td>string</td><td>null</td></tr><tr><td>active</td><td>boolean</td><td>null</td></tr><tr><td>reassignment_count</td><td>int</td><td>null</td></tr><tr><td>reopen_count</td><td>int</td><td>null</td></tr><tr><td>made_sla</td><td>boolean</td><td>null</td></tr><tr><td>location</td><td>string</td><td>null</td></tr><tr><td>priority</td><td>string</td><td>null</td></tr><tr><td>resolved_by</td><td>string</td><td>null</td></tr><tr><td>opened_at_TS</td><td>timestamp</td><td>null</td></tr><tr><td>resolved_at_TS</td><td>timestamp</td><td>null</td></tr><tr><td>closed_at_TS</td><td>timestamp</td><td>null</td></tr></tbody></table></div>"
      ]
     },
     "metadata": {
      "application/vnd.databricks.v1+output": {
       "addedWidgets": {},
       "aggData": [],
       "aggError": "",
       "aggOverflow": false,
       "aggSchema": [],
       "aggSeriesLimitReached": false,
       "aggType": "",
       "arguments": {},
       "columnCustomDisplayInfos": {},
       "data": [
        [
         "number",
         "string",
         null
        ],
        [
         "incident_state",
         "string",
         null
        ],
        [
         "active",
         "boolean",
         null
        ],
        [
         "reassignment_count",
         "int",
         null
        ],
        [
         "reopen_count",
         "int",
         null
        ],
        [
         "made_sla",
         "boolean",
         null
        ],
        [
         "location",
         "string",
         null
        ],
        [
         "priority",
         "string",
         null
        ],
        [
         "resolved_by",
         "string",
         null
        ],
        [
         "opened_at_TS",
         "timestamp",
         null
        ],
        [
         "resolved_at_TS",
         "timestamp",
         null
        ],
        [
         "closed_at_TS",
         "timestamp",
         null
        ]
       ],
       "datasetInfos": [],
       "dbfsResultPath": null,
       "isJsonSchema": true,
       "metadata": {},
       "overflow": false,
       "plotOptions": {
        "customPlotOptions": {},
        "displayType": "table",
        "pivotAggregation": null,
        "pivotColumns": null,
        "xColumns": null,
        "yColumns": null
       },
       "removedWidgets": [],
       "schema": [
        {
         "metadata": "{\"comment\":\"name of the column\"}",
         "name": "col_name",
         "type": "\"string\""
        },
        {
         "metadata": "{\"comment\":\"data type of the column\"}",
         "name": "data_type",
         "type": "\"string\""
        },
        {
         "metadata": "{\"comment\":\"comment of the column\"}",
         "name": "comment",
         "type": "\"string\""
        }
       ],
       "type": "table"
      }
     },
     "output_type": "display_data"
    }
   ],
   "source": [
    "%sql \n",
    "---  Verificação de Tipos da tabela INCIDENT\n",
    "desc inc_gold.incident"
   ]
  },
  {
   "cell_type": "markdown",
   "metadata": {
    "application/vnd.databricks.v1+cell": {
     "cellMetadata": {},
     "inputWidgets": {},
     "nuid": "821bdcb8-0558-4389-b7a2-36a283adae43",
     "showTitle": false,
     "tableResultSettingsMap": {},
     "title": ""
    }
   },
   "source": [
    "\n",
    "Para a análise dos dados do problema proposto, optei pelo esquema Multidimensional  ESTRELA."
   ]
  },
  {
   "cell_type": "markdown",
   "metadata": {
    "application/vnd.databricks.v1+cell": {
     "cellMetadata": {},
     "inputWidgets": {},
     "nuid": "88985872-baff-431c-ab54-849198531962",
     "showTitle": false,
     "tableResultSettingsMap": {},
     "title": ""
    }
   },
   "source": [
    "# 8 - Análise de Dados"
   ]
  },
  {
   "cell_type": "markdown",
   "metadata": {
    "application/vnd.databricks.v1+cell": {
     "cellMetadata": {},
     "inputWidgets": {},
     "nuid": "3397e648-30d6-453b-b5bf-d530bf2cdc7f",
     "showTitle": false,
     "tableResultSettingsMap": {},
     "title": ""
    }
   },
   "source": [
    "\n",
    "Relembrando o objetivo deste MVP, que visa disponibilizar uma análise de dados para apoiar as decisões gerencias sobre a performance de uma equipe de suporte espalhada em diversos escritórios em países diferentes. Essas equipes tratam Tickets de Incidentes com Prioridades (Low, Moderate, High e Critical ). Para cada tipo de Prioridade existe um SLA ( Service Level Agreement), que limita o tempo máximo para a resolução de cada ticket de Incidente criado.\n",
    "\n",
    "Este estudo ajudará na renovação do contrato e readequação da equipe.\n",
    "\n",
    "Para esse estudo, foi coletado um dataset de todos os tickets de Incidentes do período de Fevereiro de 2026 até Fevereiro de 2017.\n",
    "\n",
    "Durante a análise, vimos que os dados da Camada Silver eram abundantes, porém necessitavam de um processamento para que pudesse proporcionar respostas mais claras e rápidas. Sendo assim, na Camada SILVER, foram feitas remoções e colunas do dataset que não eram relevantes na análise e também a conversão das datas que estava em formado STRING para TIMESTAMP, pois a contagem de tempo é primordial para dar respostas as perguntas postas. Já na camada OURO, muitas linhas com dados repetidos foram removidas para garantir uma melhor **PERFORMANCE** e evitar gastos de recursos de processamento com dados desnecessários.\n",
    "\n",
    "Análise dos dados foi baseado nas respostas as perguntas postas como objetivo desse MVP e apresentadoas no item **_8.1_**, onde poderemos ver as respostas em formato de SQL Query e em representação GRÁFICA.\n",
    "\n",
    ".\n",
    "\n",
    "\n",
    "- **CONCLUSÃO:**\n",
    "\n",
    "  - Basendo-se nas respostas obtidas no item **_8.1_** deste notebook, a equipe responsável pela renovação de contrato de suporte, deverá se debruçar priomordialmente em rever o dimensionamento da equipes que tratam os tickets de Incidentes que impactam a India, Austrália e Canadá. Além disso, devem reforçar a equipe durante os meses de Março ,Abril e Maio que é quando há o maior volume de ticket a serem resolvidos.\n",
    "\n",
    "  - Um ponto de atenção importante que surgiu durante a análise é que a equipe responsável pela renovação do contrato de suporte, não somente deve atentar para o dimensionamento das equipes mas também na capacitação, uma vez que a análise demonstrou um número muto expressivo de QUEBRA de SLA.\n"
   ]
  },
  {
   "cell_type": "markdown",
   "metadata": {
    "application/vnd.databricks.v1+cell": {
     "cellMetadata": {},
     "inputWidgets": {},
     "nuid": "d8389e5b-67ad-4a21-bee8-0b99b5788099",
     "showTitle": false,
     "tableResultSettingsMap": {},
     "title": ""
    }
   },
   "source": [
    "## 8.1 - Perguntas e respostas"
   ]
  },
  {
   "cell_type": "markdown",
   "metadata": {
    "application/vnd.databricks.v1+cell": {
     "cellMetadata": {},
     "inputWidgets": {},
     "nuid": "7f1c21f9-f004-467e-b3e5-1483b24820f4",
     "showTitle": false,
     "tableResultSettingsMap": {},
     "title": ""
    }
   },
   "source": [
    "**P1** – Qual é o número de Tickets/países (locations), em que os Incidentes NÃO foram atendidos dentro do prazo estimado por sua Prioridade?\n",
    "\n",
    "- **RESPOSTA**: Conforme podemos verificar no item _**8.1.1**_ deste notebook, o maior número de tickets que NÃO foram atendidos dentro do prazo estipulado pelo SLA, foram os tickets de incidentes que impactam as localidades da India, Austrália e Canadá. Isso nos leva a crer que se faz necessário verificar se há falta de numero físico de profissionais ou se é falta de experiência dos profissionais responsáveis pela resulução desses tickets de incidentes.\n",
    "\n",
    " \n",
    "**P2** – Qual é o número de Tickets/países (locations), em que os Incidentes FORAM atendidos dentro do prazo estimado por sua Prioridade?\n",
    "\n",
    "- **RESPOSTA**: Já no item _**8.1.2**_ deste notebook, podemos verificar o maior número de tickets que FORAM  atendidos dentro do prazo estipulado pelo SLA, foram os tickets de incidentes que impactam as localidades da India, Austrália e Canadá. Esse número comparado a resposta a pergunta anterior, nos mostra que a India tem uma relevancia grande na estatística geral. Essa importancia se justificar ao imenso número de habitantes daquele pais.\n",
    "\n",
    "**P3** – Qual é o número de Tickets/mês, em que os Incidentes NÃO foram atendidos dentro do prazo estimado por sua Prioridade?\n",
    "\n",
    "- **RESPOSTA**: No item **_8.1.3_** Podemos verificar que os meses Março, Abril e Maio foram os meses onde houve o maior número de tickets de incidentes que NÃO foram tratados dentro do prazo estipulado no SLA.\n",
    "\n",
    "\n",
    "**P4** – Qual é o número de Tickets/mês, em que os Incidentes FORAM atendidos dentro do prazo estimado por sua Prioridade?\n",
    "\n",
    "- **REPOSTA**: Já no item  **_8.1.4_** Podemos verificar que os meses Março, Abril e Maio também foram os meses onde houve o maior número de tickets de incidentes que FORAM tratados dentro do prazo estipulado no SLA.\n",
    "\n"
   ]
  },
  {
   "cell_type": "markdown",
   "metadata": {
    "application/vnd.databricks.v1+cell": {
     "cellMetadata": {},
     "inputWidgets": {},
     "nuid": "67036ad3-d20a-43b9-b26b-52e8be4f53b6",
     "showTitle": false,
     "tableResultSettingsMap": {},
     "title": ""
    }
   },
   "source": [
    "### 8.1.1 - P1 - Estouro de SLA por Pais"
   ]
  },
  {
   "cell_type": "code",
   "execution_count": 0,
   "metadata": {
    "application/vnd.databricks.v1+cell": {
     "cellMetadata": {
      "byteLimit": 2048000,
      "implicitDf": true,
      "rowLimit": 10000
     },
     "inputWidgets": {},
     "nuid": "43564591-fef5-4282-9319-ae870fd2fa28",
     "showTitle": true,
     "tableResultSettingsMap": {},
     "title": "SQL Query"
    }
   },
   "outputs": [
    {
     "output_type": "display_data",
     "data": {
      "text/html": [
       "<style scoped>\n",
       "  .table-result-container {\n",
       "    max-height: 300px;\n",
       "    overflow: auto;\n",
       "  }\n",
       "  table, th, td {\n",
       "    border: 1px solid black;\n",
       "    border-collapse: collapse;\n",
       "  }\n",
       "  th, td {\n",
       "    padding: 5px;\n",
       "  }\n",
       "  th {\n",
       "    text-align: left;\n",
       "  }\n",
       "</style><div class='table-result-container'><table class='table-result'><thead style='background-color: white'><tr><th>qte</th><th>Country</th></tr></thead><tbody><tr><td>2939</td><td>India</td></tr><tr><td>58</td><td>Chile</td></tr><tr><td>1185</td><td>Austrtali</td></tr><tr><td>765</td><td>Canada</td></tr><tr><td>99</td><td>Brazil</td></tr><tr><td>24</td><td>England</td></tr></tbody></table></div>"
      ]
     },
     "metadata": {
      "application/vnd.databricks.v1+output": {
       "addedWidgets": {},
       "aggData": [],
       "aggError": "",
       "aggOverflow": false,
       "aggSchema": [],
       "aggSeriesLimitReached": false,
       "aggType": "",
       "arguments": {},
       "columnCustomDisplayInfos": {},
       "data": [
        [
         2939,
         "India"
        ],
        [
         58,
         "Chile"
        ],
        [
         1185,
         "Austrtali"
        ],
        [
         765,
         "Canada"
        ],
        [
         99,
         "Brazil"
        ],
        [
         24,
         "England"
        ]
       ],
       "datasetInfos": [],
       "dbfsResultPath": null,
       "isJsonSchema": true,
       "metadata": {},
       "overflow": false,
       "plotOptions": {
        "customPlotOptions": {},
        "displayType": "table",
        "pivotAggregation": null,
        "pivotColumns": null,
        "xColumns": null,
        "yColumns": null
       },
       "removedWidgets": [],
       "schema": [
        {
         "metadata": "{}",
         "name": "qte",
         "type": "\"long\""
        },
        {
         "metadata": "{}",
         "name": "Country",
         "type": "\"string\""
        }
       ],
       "type": "table"
      }
     },
     "output_type": "display_data"
    }
   ],
   "source": [
    "%sql select count(i.number) as qte, l.Country from inc_gold.incident i, inc_gold.location l where i.location=l.Location and i.made_sla is false group by  l.Country"
   ]
  },
  {
   "cell_type": "code",
   "execution_count": 0,
   "metadata": {
    "application/vnd.databricks.v1+cell": {
     "cellMetadata": {
      "byteLimit": 2048000,
      "implicitDf": true,
      "rowLimit": 10000
     },
     "inputWidgets": {},
     "nuid": "eee2953e-9697-466e-9503-6f9edb8e60bf",
     "showTitle": true,
     "tableResultSettingsMap": {},
     "title": "Gráfico"
    }
   },
   "outputs": [
    {
     "output_type": "display_data",
     "data": {
      "application/vnd.databricks.v1+bamboolib_hint": "{\"pd.DataFrames\": [], \"version\": \"0.0.1\"}",
      "text/plain": []
     },
     "metadata": {},
     "output_type": "display_data"
    },
    {
     "output_type": "stream",
     "name": "stdout",
     "output_type": "stream",
     "text": [
      "Out[37]: <AxesSubplot:xlabel='Country'>"
     ]
    },
    {
     "output_type": "display_data",
     "data": {
      "image/png": "[encoded data removed]"
     },
     "metadata": {
      "application/vnd.databricks.v1+output": {
       "addedWidgets": {},
       "arguments": {},
       "data": "data:image/png;base64,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\n",
       "datasetInfos": [],
       "metadata": {},
       "removedWidgets": [],
       "type": "image"
      }
     },
     "output_type": "display_data"
    }
   ],
   "source": [
    "from pyspark.sql import SparkSession\n",
    "import pandas as pd\n",
    "\n",
    "query = f\"select count(i.number) as qte, l.Country from inc_gold.incident i, inc_gold.location l where i.location=l.Location and i.made_sla is false group by  l.Country\"\n",
    "\n",
    "result = spark.sql(query)\n",
    "result = result.toPandas()\n",
    "result.plot(kind='bar', x='Country', y='qte')"
   ]
  },
  {
   "cell_type": "markdown",
   "metadata": {
    "application/vnd.databricks.v1+cell": {
     "cellMetadata": {},
     "inputWidgets": {},
     "nuid": "51fea34d-51e2-4f79-b7ae-390c08bc2d5d",
     "showTitle": false,
     "tableResultSettingsMap": {},
     "title": ""
    }
   },
   "source": [
    "### 8.1.2 - P2 - Dentro do SLA por Pais"
   ]
  },
  {
   "cell_type": "code",
   "execution_count": 0,
   "metadata": {
    "application/vnd.databricks.v1+cell": {
     "cellMetadata": {
      "byteLimit": 2048000,
      "implicitDf": true,
      "rowLimit": 10000
     },
     "inputWidgets": {},
     "nuid": "d55c080f-6471-4592-b90f-30bebd429ddd",
     "showTitle": true,
     "tableResultSettingsMap": {},
     "title": "SQL Query"
    }
   },
   "outputs": [
    {
     "output_type": "display_data",
     "data": {
      "text/html": [
       "<style scoped>\n",
       "  .table-result-container {\n",
       "    max-height: 300px;\n",
       "    overflow: auto;\n",
       "  }\n",
       "  table, th, td {\n",
       "    border: 1px solid black;\n",
       "    border-collapse: collapse;\n",
       "  }\n",
       "  th, td {\n",
       "    padding: 5px;\n",
       "  }\n",
       "  th {\n",
       "    text-align: left;\n",
       "  }\n",
       "</style><div class='table-result-container'><table class='table-result'><thead style='background-color: white'><tr><th>Incidents</th><th>Country</th></tr></thead><tbody><tr><td>4782</td><td>India</td></tr><tr><td>93</td><td>Chile</td></tr><tr><td>2824</td><td>Austrtali</td></tr><tr><td>1170</td><td>Canada</td></tr><tr><td>144</td><td>Brazil</td></tr><tr><td>35</td><td>England</td></tr></tbody></table></div>"
      ]
     },
     "metadata": {
      "application/vnd.databricks.v1+output": {
       "addedWidgets": {},
       "aggData": [],
       "aggError": "",
       "aggOverflow": false,
       "aggSchema": [],
       "aggSeriesLimitReached": false,
       "aggType": "",
       "arguments": {},
       "columnCustomDisplayInfos": {},
       "data": [
        [
         4782,
         "India"
        ],
        [
         93,
         "Chile"
        ],
        [
         2824,
         "Austrtali"
        ],
        [
         1170,
         "Canada"
        ],
        [
         144,
         "Brazil"
        ],
        [
         35,
         "England"
        ]
       ],
       "datasetInfos": [],
       "dbfsResultPath": null,
       "isJsonSchema": true,
       "metadata": {},
       "overflow": false,
       "plotOptions": {
        "customPlotOptions": {},
        "displayType": "table",
        "pivotAggregation": null,
        "pivotColumns": null,
        "xColumns": null,
        "yColumns": null
       },
       "removedWidgets": [],
       "schema": [
        {
         "metadata": "{}",
         "name": "Incidents",
         "type": "\"long\""
        },
        {
         "metadata": "{}",
         "name": "Country",
         "type": "\"string\""
        }
       ],
       "type": "table"
      }
     },
     "output_type": "display_data"
    }
   ],
   "source": [
    "%sql select count(i.number) as Incidents, l.Country from inc_gold.incident i, inc_gold.location l where i.location=l.Location and i.made_sla is true group by  l.Country"
   ]
  },
  {
   "cell_type": "code",
   "execution_count": 0,
   "metadata": {
    "application/vnd.databricks.v1+cell": {
     "cellMetadata": {
      "byteLimit": 2048000,
      "rowLimit": 10000
     },
     "inputWidgets": {},
     "nuid": "523b33b6-9855-44a2-887a-5f12dbfb28b3",
     "showTitle": true,
     "tableResultSettingsMap": {},
     "title": "Gráfico"
    }
   },
   "outputs": [
    {
     "output_type": "stream",
     "name": "stdout",
     "output_type": "stream",
     "text": [
      "Out[39]: <AxesSubplot:xlabel='Country'>"
     ]
    },
    {
     "output_type": "display_data",
     "data": {
      "image/png": "[encoded data removed]"
     },
     "metadata": {
      "application/vnd.databricks.v1+output": {
       "addedWidgets": {},
       "arguments": {},
       "data": "data:image/png;base64,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\n",
       "datasetInfos": [],
       "metadata": {},
       "removedWidgets": [],
       "type": "image"
      }
     },
     "output_type": "display_data"
    }
   ],
   "source": [
    "query = f\"select count(i.number) as Incidents, l.Country from inc_gold.incident i, inc_gold.location l where i.location=l.Location and i.made_sla is true group by  l.Country\"\n",
    "\n",
    "result = spark.sql(query)\n",
    "result = result.toPandas()\n",
    "result.plot(kind='bar', x='Country', y='Incidents')"
   ]
  },
  {
   "cell_type": "markdown",
   "metadata": {
    "application/vnd.databricks.v1+cell": {
     "cellMetadata": {},
     "inputWidgets": {},
     "nuid": "23f72163-d015-4d69-971b-e74d2c3f00eb",
     "showTitle": false,
     "tableResultSettingsMap": {},
     "title": ""
    }
   },
   "source": [
    "### 8.1.3 - P3 - Tickets com SLA estourados por mês"
   ]
  },
  {
   "cell_type": "code",
   "execution_count": 0,
   "metadata": {
    "application/vnd.databricks.v1+cell": {
     "cellMetadata": {
      "byteLimit": 2048000,
      "implicitDf": true,
      "rowLimit": 10000
     },
     "inputWidgets": {},
     "nuid": "fff11775-9f10-494b-a49a-5cce6da988b4",
     "showTitle": true,
     "tableResultSettingsMap": {},
     "title": "SQL Query"
    }
   },
   "outputs": [
    {
     "output_type": "display_data",
     "data": {
      "text/html": [
       "<style scoped>\n",
       "  .table-result-container {\n",
       "    max-height: 300px;\n",
       "    overflow: auto;\n",
       "  }\n",
       "  table, th, td {\n",
       "    border: 1px solid black;\n",
       "    border-collapse: collapse;\n",
       "  }\n",
       "  th, td {\n",
       "    padding: 5px;\n",
       "  }\n",
       "  th {\n",
       "    text-align: left;\n",
       "  }\n",
       "</style><div class='table-result-container'><table class='table-result'><thead style='background-color: white'><tr><th>Incidents</th><th>Mes</th></tr></thead><tbody><tr><td>18</td><td>1</td></tr><tr><td>23</td><td>2</td></tr><tr><td>2968</td><td>3</td></tr><tr><td>868</td><td>4</td></tr><tr><td>956</td><td>5</td></tr><tr><td>2</td><td>7</td></tr><tr><td>6</td><td>8</td></tr><tr><td>5</td><td>9</td></tr><tr><td>7</td><td>10</td></tr><tr><td>4</td><td>11</td></tr><tr><td>4</td><td>12</td></tr></tbody></table></div>"
      ]
     },
     "metadata": {
      "application/vnd.databricks.v1+output": {
       "addedWidgets": {},
       "aggData": [],
       "aggError": "",
       "aggOverflow": false,
       "aggSchema": [],
       "aggSeriesLimitReached": false,
       "aggType": "",
       "arguments": {},
       "columnCustomDisplayInfos": {},
       "data": [
        [
         18,
         1
        ],
        [
         23,
         2
        ],
        [
         2968,
         3
        ],
        [
         868,
         4
        ],
        [
         956,
         5
        ],
        [
         2,
         7
        ],
        [
         6,
         8
        ],
        [
         5,
         9
        ],
        [
         7,
         10
        ],
        [
         4,
         11
        ],
        [
         4,
         12
        ]
       ],
       "datasetInfos": [],
       "dbfsResultPath": null,
       "isJsonSchema": true,
       "metadata": {},
       "overflow": false,
       "plotOptions": {
        "customPlotOptions": {},
        "displayType": "table",
        "pivotAggregation": null,
        "pivotColumns": null,
        "xColumns": null,
        "yColumns": null
       },
       "removedWidgets": [],
       "schema": [
        {
         "metadata": "{}",
         "name": "Incidents",
         "type": "\"long\""
        },
        {
         "metadata": "{}",
         "name": "Mes",
         "type": "\"integer\""
        }
       ],
       "type": "table"
      }
     },
     "output_type": "display_data"
    }
   ],
   "source": [
    "%sql\n",
    "select  count(number) Incidents, MONTH(opened_at_TS) Mes from inc_gold.incident where made_sla is false and opened_at_TS is not null group by MONTH(opened_at_TS) order by Mes ;\n"
   ]
  },
  {
   "cell_type": "code",
   "execution_count": 0,
   "metadata": {
    "application/vnd.databricks.v1+cell": {
     "cellMetadata": {
      "byteLimit": 2048000,
      "rowLimit": 10000
     },
     "inputWidgets": {},
     "nuid": "af9ce118-f834-4fe1-a32a-3f8790dd7bf2",
     "showTitle": true,
     "tableResultSettingsMap": {},
     "title": "Gráfico"
    }
   },
   "outputs": [
    {
     "output_type": "stream",
     "name": "stdout",
     "output_type": "stream",
     "text": [
      "Out[41]: <AxesSubplot:xlabel='Mes'>"
     ]
    },
    {
     "output_type": "display_data",
     "data": {
      "image/png": "[encoded data removed]"
     },
     "metadata": {
      "application/vnd.databricks.v1+output": {
       "addedWidgets": {},
       "arguments": {},
       "data": "data:image/png;base64,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\n",
       "datasetInfos": [],
       "metadata": {},
       "removedWidgets": [],
       "type": "image"
      }
     },
     "output_type": "display_data"
    }
   ],
   "source": [
    "query = f\"select  count(number) Incidents, MONTH(opened_at_TS) Mes from inc_gold.incident where made_sla is false and opened_at_TS is not null group by MONTH(opened_at_TS) order by Mes \"\n",
    "\n",
    "result = spark.sql(query)\n",
    "result = result.toPandas()\n",
    "result.plot(kind='bar', x='Mes', y='Incidents')"
   ]
  },
  {
   "cell_type": "markdown",
   "metadata": {
    "application/vnd.databricks.v1+cell": {
     "cellMetadata": {},
     "inputWidgets": {},
     "nuid": "b26a9299-cf9e-479b-a313-0a41618efd4d",
     "showTitle": false,
     "tableResultSettingsMap": {},
     "title": ""
    }
   },
   "source": [
    "### 8.1.4 - P4 - Tickets com Dentro do SLA por mês"
   ]
  },
  {
   "cell_type": "code",
   "execution_count": 0,
   "metadata": {
    "application/vnd.databricks.v1+cell": {
     "cellMetadata": {
      "byteLimit": 2048000,
      "implicitDf": true,
      "rowLimit": 10000
     },
     "inputWidgets": {},
     "nuid": "a5e30061-7b43-467c-a009-5c5428c748ef",
     "showTitle": true,
     "tableResultSettingsMap": {},
     "title": "SQL Query"
    }
   },
   "outputs": [
    {
     "output_type": "display_data",
     "data": {
      "text/html": [
       "<style scoped>\n",
       "  .table-result-container {\n",
       "    max-height: 300px;\n",
       "    overflow: auto;\n",
       "  }\n",
       "  table, th, td {\n",
       "    border: 1px solid black;\n",
       "    border-collapse: collapse;\n",
       "  }\n",
       "  th, td {\n",
       "    padding: 5px;\n",
       "  }\n",
       "  th {\n",
       "    text-align: left;\n",
       "  }\n",
       "</style><div class='table-result-container'><table class='table-result'><thead style='background-color: white'><tr><th>Incidents</th><th>Mes</th></tr></thead><tbody><tr><td>28</td><td>1</td></tr><tr><td>125</td><td>2</td></tr><tr><td>2092</td><td>3</td></tr><tr><td>3525</td><td>4</td></tr><tr><td>3279</td><td>5</td></tr><tr><td>3</td><td>6</td></tr><tr><td>2</td><td>7</td></tr><tr><td>4</td><td>8</td></tr><tr><td>5</td><td>9</td></tr><tr><td>3</td><td>10</td></tr><tr><td>10</td><td>11</td></tr><tr><td>9</td><td>12</td></tr></tbody></table></div>"
      ]
     },
     "metadata": {
      "application/vnd.databricks.v1+output": {
       "addedWidgets": {},
       "aggData": [],
       "aggError": "",
       "aggOverflow": false,
       "aggSchema": [],
       "aggSeriesLimitReached": false,
       "aggType": "",
       "arguments": {},
       "columnCustomDisplayInfos": {},
       "data": [
        [
         28,
         1
        ],
        [
         125,
         2
        ],
        [
         2092,
         3
        ],
        [
         3525,
         4
        ],
        [
         3279,
         5
        ],
        [
         3,
         6
        ],
        [
         2,
         7
        ],
        [
         4,
         8
        ],
        [
         5,
         9
        ],
        [
         3,
         10
        ],
        [
         10,
         11
        ],
        [
         9,
         12
        ]
       ],
       "datasetInfos": [],
       "dbfsResultPath": null,
       "isJsonSchema": true,
       "metadata": {},
       "overflow": false,
       "plotOptions": {
        "customPlotOptions": {},
        "displayType": "table",
        "pivotAggregation": null,
        "pivotColumns": null,
        "xColumns": null,
        "yColumns": null
       },
       "removedWidgets": [],
       "schema": [
        {
         "metadata": "{}",
         "name": "Incidents",
         "type": "\"long\""
        },
        {
         "metadata": "{}",
         "name": "Mes",
         "type": "\"integer\""
        }
       ],
       "type": "table"
      }
     },
     "output_type": "display_data"
    }
   ],
   "source": [
    "%sql\n",
    "select  count(number) Incidents, MONTH(opened_at_TS) Mes from inc_gold.incident where made_sla is true and opened_at_TS is not null group by MONTH(opened_at_TS) order by Mes ;\n"
   ]
  },
  {
   "cell_type": "code",
   "execution_count": 0,
   "metadata": {
    "application/vnd.databricks.v1+cell": {
     "cellMetadata": {
      "byteLimit": 2048000,
      "rowLimit": 10000
     },
     "inputWidgets": {},
     "nuid": "b5f02bcf-b075-40e4-9a3c-e030fed139d3",
     "showTitle": true,
     "tableResultSettingsMap": {},
     "title": "Gráfico"
    }
   },
   "outputs": [
    {
     "output_type": "stream",
     "name": "stdout",
     "output_type": "stream",
     "text": [
      "Out[43]: <AxesSubplot:xlabel='Mes'>"
     ]
    },
    {
     "output_type": "display_data",
     "data": {
      "image/png": "[encoded data removed]"
     },
     "metadata": {
      "application/vnd.databricks.v1+output": {
       "addedWidgets": {},
       "arguments": {},
       "data": "data:image/png;base64,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\n",
       "datasetInfos": [],
       "metadata": {},
       "removedWidgets": [],
       "type": "image"
      }
     },
     "output_type": "display_data"
    }
   ],
   "source": [
    "query = f\"select  count(number) Incidents, MONTH(opened_at_TS) Mes from inc_gold.incident where made_sla is true and opened_at_TS is not null group by MONTH(opened_at_TS) order by Mes \"\n",
    "\n",
    "result = spark.sql(query)\n",
    "result = result.toPandas()\n",
    "result.plot(kind='bar', x='Mes', y='Incidents')"
   ]
  },
  {
   "cell_type": "markdown",
   "metadata": {
    "application/vnd.databricks.v1+cell": {
     "cellMetadata": {},
     "inputWidgets": {},
     "nuid": "f19845e8-bbfe-4ab4-82a5-bcccccf22e6f",
     "showTitle": false,
     "tableResultSettingsMap": {},
     "title": ""
    }
   },
   "source": [
    "# 9 - Autoavaliação\n",
    "A escolha do dataset relacionado a Incidentes foi fácil porque eu já estou bastante familiarizado com esse universo. A aquisição do mesmo, foi fácil devido a facilidade que o site  https://www.kaggle.com/  proporciona.\n",
    "\n",
    "Encontrei bastante dificuldade na transformação das datas que vieram em STRING e que as vezes vinham em formatos para o TIMESTAMP, pois no CSV, as datas vieram com  distintos formatos  d/m/yyyy mm:ss, as vezes dd/m/yyyyy mm:ss e as vezes d/mm/yyyy mm:ss. Foram horas buscando conhecimento para fazer essa conversão usando o Pyspark\n",
    "Verifiquei que na criação das tabelas do banco de dados alguns dados das colunas referente a DATAS, foram importados no NULL. Acredito que haja algum problema com o TIMESTAMP do Dataframe  x o TIMESTAMP do banco de Dados. Eu ainda estou verificando como revolver esse problema. \n",
    "\n",
    "Gostaria de ter proposto mais perguntas, mas devido ao tempo escasso, não foi possível ter mais tempo para aumentar a análise do dataset.\n",
    "\n",
    "No geral, posso dizer que me sinto bastante satisfeito com o resultado, que apesar de simples, me trouxe bastante conhecimento em técnicas e ferramentas que não conhecia. Este MVP foi bastante desafiador, porém extremamente **PRAZEROSO** de ser feito. Me encorajou a me aprofundar na área de Engenharia de Dados com ainda mais vontade e dedicação.\n",
    "\n",
    "\n"
   ]
  },
  {
   "cell_type": "markdown",
   "metadata": {
    "application/vnd.databricks.v1+cell": {
     "cellMetadata": {},
     "inputWidgets": {},
     "nuid": "87e6f164-5c0a-4038-9d2e-9a07fed2bdd7",
     "showTitle": false,
     "tableResultSettingsMap": {},
     "title": ""
    }
   },
   "source": [
    "# 10 -\tPrincipais ferramentas utilizadas:\n",
    "\n",
    "- Databricks Community\n",
    "- Apache Spark (PySpark e Spark SQL)\n",
    "- Python / Pandas\n",
    "- SQL\n"
   ]
  },
  {
   "cell_type": "markdown",
   "metadata": {
    "application/vnd.databricks.v1+cell": {
     "cellMetadata": {},
     "inputWidgets": {},
     "nuid": "18fcf185-fa98-4b84-a18f-fcbd21e4ea2a",
     "showTitle": false,
     "tableResultSettingsMap": {},
     "title": ""
    }
   },
   "source": []
  },
  {
   "cell_type": "markdown",
   "metadata": {
    "application/vnd.databricks.v1+cell": {
     "cellMetadata": {},
     "inputWidgets": {},
     "nuid": "ecfe563a-4b1a-43a1-b6c6-976d533cac2a",
     "showTitle": false,
     "tableResultSettingsMap": {},
     "title": ""
    }
   },
   "source": []
  }
 ],
 "metadata": {
  "application/vnd.databricks.v1+notebook": {
   "computePreferences": null,
   "dashboards": [],
   "environmentMetadata": {
    "base_environment": "",
    "environment_version": "1"
   },
   "inputWidgetPreferences": null,
   "language": "python",
   "notebookMetadata": {
    "mostRecentlyExecutedCommandWithImplicitDF": {
     "commandId": 3368922902631904,
     "dataframes": [
      "_sqldf"
     ]
    },
    "pythonIndentUnit": 4
   },
   "notebookName": "Fabio Martins - MVP - Eng Dados - 2025-04-10 V2.3",
   "widgets": {}
  }
 },
 "nbformat": 4,
 "nbformat_minor": 0
}